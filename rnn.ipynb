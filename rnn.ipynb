{
 "cells": [
  {
   "cell_type": "code",
   "execution_count": 1,
   "metadata": {},
   "outputs": [
    {
     "name": "stdout",
     "output_type": "stream",
     "text": [
      "WARNING:tensorflow:From c:\\Users\\LAKSHMI SRI LASYA\\AppData\\Local\\Programs\\Python\\Python311\\Lib\\site-packages\\keras\\src\\losses.py:2976: The name tf.losses.sparse_softmax_cross_entropy is deprecated. Please use tf.compat.v1.losses.sparse_softmax_cross_entropy instead.\n",
      "\n"
     ]
    },
    {
     "name": "stderr",
     "output_type": "stream",
     "text": [
      "[nltk_data] Downloading package punkt to C:\\Users\\LAKSHMI SRI\n",
      "[nltk_data]     LASYA\\AppData\\Roaming\\nltk_data...\n",
      "[nltk_data]   Package punkt is already up-to-date!\n",
      "[nltk_data] Downloading package stopwords to C:\\Users\\LAKSHMI SRI\n",
      "[nltk_data]     LASYA\\AppData\\Roaming\\nltk_data...\n",
      "[nltk_data]   Package stopwords is already up-to-date!\n",
      "[nltk_data] Downloading package wordnet to C:\\Users\\LAKSHMI SRI\n",
      "[nltk_data]     LASYA\\AppData\\Roaming\\nltk_data...\n",
      "[nltk_data]   Package wordnet is already up-to-date!\n"
     ]
    },
    {
     "data": {
      "text/plain": [
       "True"
      ]
     },
     "execution_count": 1,
     "metadata": {},
     "output_type": "execute_result"
    }
   ],
   "source": [
    "import nltk\n",
    "import string\n",
    "import numpy as np\n",
    "import pandas as pd\n",
    "import matplotlib.pyplot as plt\n",
    "from sklearn.feature_extraction.text import CountVectorizer\n",
    "\n",
    "from tensorflow.keras.preprocessing.text import Tokenizer\n",
    "from keras.preprocessing.sequence import pad_sequences\n",
    "\n",
    "from keras.models import Sequential\n",
    "from keras.layers import Dense, LSTM, Embedding\n",
    "\n",
    "from nltk.tokenize import word_tokenize\n",
    "from nltk.corpus import stopwords\n",
    "from nltk.stem import PorterStemmer\n",
    "nltk.download('punkt')\n",
    "nltk.download('stopwords')\n",
    "nltk.download('wordnet')"
   ]
  },
  {
   "cell_type": "code",
   "execution_count": 2,
   "metadata": {},
   "outputs": [],
   "source": [
    "import json\n",
    "dataList = []\n",
    "sentences = []\n",
    "labels = []\n",
    "def loadDataset(filename):\n",
    "  d=[]\n",
    "  with open(filename, 'r') as f:\n",
    "      datastore = json.load(f)\n",
    "  for item in datastore:\n",
    "    sentence = item['data']\n",
    "    label = item['is_sensitive']\n",
    "    d.append([sentence,label])\n",
    "  return d\n",
    "# Loading both sensitive and non-sensitive dataset\n",
    "sen=loadDataset(\"SensitiveDataset.json\")\n",
    "nonsen=loadDataset(\"NonSensitiveDatasetnew.json\")\n",
    "sen=pd.DataFrame(data=sen,columns=['sentences','labels'])\n",
    "nonsen=pd.DataFrame(data=nonsen,columns=['sentences','labels'])"
   ]
  },
  {
   "cell_type": "code",
   "execution_count": 3,
   "metadata": {},
   "outputs": [
    {
     "data": {
      "text/html": [
       "<div>\n",
       "<style scoped>\n",
       "    .dataframe tbody tr th:only-of-type {\n",
       "        vertical-align: middle;\n",
       "    }\n",
       "\n",
       "    .dataframe tbody tr th {\n",
       "        vertical-align: top;\n",
       "    }\n",
       "\n",
       "    .dataframe thead th {\n",
       "        text-align: right;\n",
       "    }\n",
       "</style>\n",
       "<table border=\"1\" class=\"dataframe\">\n",
       "  <thead>\n",
       "    <tr style=\"text-align: right;\">\n",
       "      <th></th>\n",
       "      <th>sentences</th>\n",
       "      <th>labels</th>\n",
       "    </tr>\n",
       "  </thead>\n",
       "  <tbody>\n",
       "    <tr>\n",
       "      <th>0</th>\n",
       "      <td>thuy,   parents,    thuy@yandex.ru,  7361055506</td>\n",
       "      <td>1</td>\n",
       "    </tr>\n",
       "    <tr>\n",
       "      <th>1</th>\n",
       "      <td>Irene Vail (Jean Arthur) decides to divorce he...</td>\n",
       "      <td>0</td>\n",
       "    </tr>\n",
       "    <tr>\n",
       "      <th>2</th>\n",
       "      <td>faiz,   livestrong,    faiz@aliceadsl.fr,  90...</td>\n",
       "      <td>1</td>\n",
       "    </tr>\n",
       "    <tr>\n",
       "      <th>3</th>\n",
       "      <td>ben,   fabian,    ben@bol.com.br,  9242003403</td>\n",
       "      <td>1</td>\n",
       "    </tr>\n",
       "    <tr>\n",
       "      <th>4</th>\n",
       "      <td>The film opens in late 1950s Los Angeles at a ...</td>\n",
       "      <td>0</td>\n",
       "    </tr>\n",
       "  </tbody>\n",
       "</table>\n",
       "</div>"
      ],
      "text/plain": [
       "                                           sentences  labels\n",
       "0    thuy,   parents,    thuy@yandex.ru,  7361055506       1\n",
       "1  Irene Vail (Jean Arthur) decides to divorce he...       0\n",
       "2   faiz,   livestrong,    faiz@aliceadsl.fr,  90...       1\n",
       "3      ben,   fabian,    ben@bol.com.br,  9242003403       1\n",
       "4  The film opens in late 1950s Los Angeles at a ...       0"
      ]
     },
     "execution_count": 3,
     "metadata": {},
     "output_type": "execute_result"
    }
   ],
   "source": [
    "combined = pd.concat([sen, nonsen])\n",
    "df = combined.sample(frac=1).reset_index(drop=True)\n",
    "df.head()"
   ]
  },
  {
   "cell_type": "code",
   "execution_count": 4,
   "metadata": {},
   "outputs": [],
   "source": [
    "tokenized_data = [word_tokenize(sentence) for sentence in df['sentences']]\n",
    "stop_words = set(stopwords.words('english'))\n",
    "punctuations = list(string.punctuation)\n",
    "punctuations.remove('@')\n",
    "stop_words.update(punctuations)\n",
    "stemmer = PorterStemmer()\n",
    "filtered_data = [[stemmer.stem(word) for word in sentence if word.lower() not in stop_words] for sentence in tokenized_data]\n",
    "l=[]\n",
    "for idx, sentence in enumerate(filtered_data):\n",
    "    l.append(' '.join(sentence))\n",
    "df['sentences'] = l"
   ]
  },
  {
   "cell_type": "code",
   "execution_count": 6,
   "metadata": {},
   "outputs": [
    {
     "data": {
      "text/html": [
       "<div>\n",
       "<style scoped>\n",
       "    .dataframe tbody tr th:only-of-type {\n",
       "        vertical-align: middle;\n",
       "    }\n",
       "\n",
       "    .dataframe tbody tr th {\n",
       "        vertical-align: top;\n",
       "    }\n",
       "\n",
       "    .dataframe thead th {\n",
       "        text-align: right;\n",
       "    }\n",
       "</style>\n",
       "<table border=\"1\" class=\"dataframe\">\n",
       "  <thead>\n",
       "    <tr style=\"text-align: right;\">\n",
       "      <th></th>\n",
       "      <th>sentences</th>\n",
       "      <th>labels</th>\n",
       "    </tr>\n",
       "  </thead>\n",
       "  <tbody>\n",
       "    <tr>\n",
       "      <th>0</th>\n",
       "      <td>thuy parent thuy @ yandex.ru 7361055506</td>\n",
       "      <td>1</td>\n",
       "    </tr>\n",
       "    <tr>\n",
       "      <th>1</th>\n",
       "      <td>iren vail jean arthur decid divorc husband ric...</td>\n",
       "      <td>0</td>\n",
       "    </tr>\n",
       "    <tr>\n",
       "      <th>2</th>\n",
       "      <td>faiz livestrong faiz @ aliceadsl.fr 9065928833</td>\n",
       "      <td>1</td>\n",
       "    </tr>\n",
       "    <tr>\n",
       "      <th>3</th>\n",
       "      <td>ben fabian ben @ bol.com.br 9242003403</td>\n",
       "      <td>1</td>\n",
       "    </tr>\n",
       "    <tr>\n",
       "      <th>4</th>\n",
       "      <td>film open late 1950 lo angel quiet pot-luck wa...</td>\n",
       "      <td>0</td>\n",
       "    </tr>\n",
       "  </tbody>\n",
       "</table>\n",
       "</div>"
      ],
      "text/plain": [
       "                                           sentences  labels\n",
       "0            thuy parent thuy @ yandex.ru 7361055506       1\n",
       "1  iren vail jean arthur decid divorc husband ric...       0\n",
       "2     faiz livestrong faiz @ aliceadsl.fr 9065928833       1\n",
       "3             ben fabian ben @ bol.com.br 9242003403       1\n",
       "4  film open late 1950 lo angel quiet pot-luck wa...       0"
      ]
     },
     "execution_count": 6,
     "metadata": {},
     "output_type": "execute_result"
    }
   ],
   "source": [
    "df.head() "
   ]
  },
  {
   "cell_type": "code",
   "execution_count": 7,
   "metadata": {},
   "outputs": [
    {
     "name": "stdout",
     "output_type": "stream",
     "text": [
      "(25261, 2) (6315, 2)\n"
     ]
    }
   ],
   "source": [
    "df_train = df.sample(frac=.8, random_state=11)\n",
    "df_test = df.drop(df_train.index)\n",
    "print(df_train.shape, df_test.shape)"
   ]
  },
  {
   "cell_type": "code",
   "execution_count": 8,
   "metadata": {},
   "outputs": [
    {
     "data": {
      "text/plain": [
       "(6315,)"
      ]
     },
     "execution_count": 8,
     "metadata": {},
     "output_type": "execute_result"
    }
   ],
   "source": [
    "y_train = df_train['labels'].values\n",
    "y_test = df_test['labels'].values\n",
    "y_test.shape"
   ]
  },
  {
   "cell_type": "code",
   "execution_count": 9,
   "metadata": {},
   "outputs": [],
   "source": [
    "X_train = df_train['sentences'].values\n",
    "X_test = df_test['sentences'].values"
   ]
  },
  {
   "cell_type": "code",
   "execution_count": 10,
   "metadata": {},
   "outputs": [
    {
     "name": "stdout",
     "output_type": "stream",
     "text": [
      "25261 14225\n"
     ]
    }
   ],
   "source": [
    "source=len(X_train)\n",
    "max_len= max(len(seq) for seq in X_train)\n",
    "print(source,max_len)"
   ]
  },
  {
   "cell_type": "code",
   "execution_count": 11,
   "metadata": {},
   "outputs": [],
   "source": [
    "tokenizer = Tokenizer(oov_token='<OOV>')\n",
    "tokenizer.fit_on_texts(X_train)\n",
    "word_dict = tokenizer.index_word"
   ]
  },
  {
   "cell_type": "code",
   "execution_count": 12,
   "metadata": {},
   "outputs": [
    {
     "name": "stdout",
     "output_type": "stream",
     "text": [
      "[[1403, 47207, 1403, 48, 448, 1379, 47208], [35488, 2712, 35488, 4789, 1195, 47209], [1708, 382, 7105, 77, 8355, 375, 224, 183, 1778, 619, 142, 54, 397, 646, 272, 1260, 37, 969, 359, 4627, 1367, 135, 1778, 90, 83, 272, 206, 49, 9, 135, 1198, 559, 4, 380, 26, 30, 1783, 3933, 119, 7, 290, 272, 19, 13033, 206, 272, 1784, 2885, 1754, 411, 2655, 302, 635, 1778, 2, 238, 34, 56, 154, 19, 1629, 5046, 2674, 4, 700, 1960, 45, 407, 349, 120, 3175, 4094, 3146, 560, 1372, 605, 648], [999, 711, 1794, 374, 52, 12, 89, 104, 3838, 1067, 34, 2971, 360, 969, 667, 2461, 777, 139, 663, 1733, 745, 9017, 1794, 4436, 168, 482, 1323, 1522, 12, 360, 6749, 1733, 201, 1131, 745, 2148, 539, 3412, 1522, 283, 1068, 1794, 2, 950, 20028, 1794, 37, 108, 202, 2461, 166, 1260, 745, 115, 111, 1794, 637, 287, 201, 613, 90, 435, 115, 50, 892, 1870, 1067, 2461, 210, 3735, 860, 1323, 1676, 1023, 3635, 2599, 12, 166, 8, 54, 97, 65, 35, 1794, 955, 351, 20, 1794, 1013, 103, 201, 207, 97, 65, 463, 196, 3350, 287, 932, 3075, 15944, 562, 18, 1794, 1448, 2461, 249, 140, 892, 686, 2461, 166, 64, 116, 37, 1013, 1930, 3350, 152, 1794, 882, 287, 3075, 15944, 1794, 555, 14, 166, 65, 464, 27, 1794, 52, 47210, 3075, 15944, 131, 68, 28, 2636, 834, 1794, 3752, 2461, 166, 540, 1338, 111, 8, 3075, 15944, 2, 4225, 511, 9, 260, 149, 249, 2066, 1794, 1199, 294, 23, 325, 3350, 22, 563, 90, 3753, 681, 287, 294, 2307, 53, 61, 641, 1408, 1011, 137, 3075, 15944, 467, 1794, 138, 108, 956, 1794, 90, 102, 261, 527, 3075, 15944, 2, 416, 40, 920, 6521, 6521, 254, 1794, 108, 956, 47211, 771, 1794, 1870, 1566, 416, 2427, 901, 388, 793, 2600, 1655, 1217, 561, 1988, 6521, 56, 1794, 632, 956, 3075, 15944, 7, 288, 932, 575, 4, 659, 1794, 126, 19, 3075, 15944, 2, 14015, 9, 201, 416, 20, 2361, 1794, 1466, 600, 46, 32, 390, 201, 4, 641, 3350, 287, 27, 3350, 394, 3350, 356, 697, 346, 7, 1794, 1448, 249, 201, 65, 9, 1794, 226, 1794, 686, 1566, 1207, 405, 1107, 6521, 169, 1055, 66, 3838, 260, 73, 249, 686, 1031, 1794, 2, 1338, 37, 1596, 3350, 16748, 100, 52, 225, 1794, 3350, 87, 295, 112, 50, 745, 6521, 261, 1606, 53, 388, 3967, 745, 1089, 2461, 166, 187, 1794, 2, 182, 1794, 918, 914, 262, 3075, 15944, 29, 262, 4, 6521, 5, 3350, 1199, 100, 6521, 660, 2461, 166, 53, 262, 182, 1794, 400, 186, 1794, 3350, 137, 38, 1794, 92, 3838, 166, 189, 2406, 2522, 189, 201, 60, 593], [3167, 149, 17, 11739, 7299, 289, 2999, 1275, 1508, 12098, 1485, 1582, 3, 6659, 6660, 105, 2247, 115, 10272, 801, 518, 328, 1931, 584, 3754, 12098, 1435, 1607, 92, 3, 622, 34, 156, 26, 3167, 400, 2646, 404, 27, 460, 2783, 14600, 6661, 2446, 1799, 2, 278, 669, 1766, 3, 923, 801, 3, 105, 460, 2499, 55, 6378, 2264, 2511, 209, 460, 1574, 820, 4437, 790, 8, 1056, 286, 460, 1522, 10780, 366, 67, 1522, 47212, 328, 3, 605, 21628, 21629, 6214, 216, 3351, 18776, 1834, 2, 1237, 3, 764, 3690, 18776, 26, 744, 278, 23, 33, 759, 143, 3, 3212, 6586, 23, 81, 129, 1140, 3, 18776, 4790, 47213, 12099, 47214, 18777, 47215, 47216, 3, 764, 3193, 23, 314, 20, 18776, 2265, 10536, 81, 3, 6586, 23, 8356, 460, 17, 67, 384, 5469, 445, 1413, 6379, 4628, 11382, 1520, 3, 3934, 575, 236, 811, 3, 460, 74, 2, 11382, 1520, 1078, 12, 750, 460, 771, 3904, 3000, 2476, 399, 1351, 3691, 1998, 2476, 34, 14015, 79, 18, 17, 67, 211, 2476, 905, 988, 2558, 19, 7834, 18, 2362, 44, 11739, 12100, 1095, 254, 5372, 4154, 173, 67, 2499, 1848, 2447, 137, 15945, 439, 23694, 460, 364, 1509, 426, 17663, 330, 26, 1367, 35489, 771, 362, 173, 443, 330, 11, 17, 67, 328, 138, 2037, 1509, 460, 74, 2393, 771, 6586, 23, 2559, 3193, 23, 2205, 1071, 83, 2206, 91, 1285, 138, 2511, 1509, 3, 17, 2247, 1528, 267, 8357, 209, 1931, 26244, 23695, 3, 92, 12098, 3167, 16749]]\n",
      "sentences    traci bball12 traci @ live.co.uk 1224624539\n",
      "labels                                                 1\n",
      "Name: 30720, dtype: object\n",
      "traci bball12 traci live co uk 1224624539 "
     ]
    }
   ],
   "source": [
    "X_train_seq = tokenizer.texts_to_sequences(X_train)\n",
    "X_test_seq = tokenizer.texts_to_sequences(X_test)\n",
    "print(X_train_seq[:5])\n",
    "print(df_train.iloc[0,:])\n",
    "for el in X_train_seq[0]:\n",
    "    print(word_dict[el], end=' ')"
   ]
  },
  {
   "cell_type": "code",
   "execution_count": 13,
   "metadata": {},
   "outputs": [
    {
     "data": {
      "text/plain": [
       "81659"
      ]
     },
     "execution_count": 13,
     "metadata": {},
     "output_type": "execute_result"
    }
   ],
   "source": [
    "X_train_pad = pad_sequences(X_train_seq, maxlen=20, padding='post')\n",
    "X_test_pad = pad_sequences(X_test_seq, maxlen=20, padding='post')\n",
    "X_train_pad[:5]\n",
    "X_train_pad.shape[0]\n",
    "#get max number in X_train_pad and X_test_pad\n",
    "max_num=max([max(seq) for seq in X_train_pad])\n",
    "max_num"
   ]
  },
  {
   "cell_type": "code",
   "execution_count": 14,
   "metadata": {},
   "outputs": [
    {
     "data": {
      "text/plain": [
       "(6315, 20)"
      ]
     },
     "execution_count": 14,
     "metadata": {},
     "output_type": "execute_result"
    }
   ],
   "source": [
    "X_test_pad.shape"
   ]
  },
  {
   "cell_type": "code",
   "execution_count": 24,
   "metadata": {},
   "outputs": [
    {
     "name": "stdout",
     "output_type": "stream",
     "text": [
      "Model: \"sequential_1\"\n",
      "_________________________________________________________________\n",
      " Layer (type)                Output Shape              Param #   \n",
      "=================================================================\n",
      " embedding_1 (Embedding)     (None, 20, 64)            5226240   \n",
      "                                                                 \n",
      " lstm_1 (LSTM)               (None, 400)               744000    \n",
      "                                                                 \n",
      " dense_1 (Dense)             (None, 1)                 401       \n",
      "                                                                 \n",
      "=================================================================\n",
      "Total params: 5970641 (22.78 MB)\n",
      "Trainable params: 5970641 (22.78 MB)\n",
      "Non-trainable params: 0 (0.00 Byte)\n",
      "_________________________________________________________________\n"
     ]
    }
   ],
   "source": [
    "from keras.regularizers import l1\n",
    "from keras.constraints import max_norm\n",
    "lstm_model1 = Sequential()\n",
    "lstm_model1.add(Embedding(max_num+1,64, input_length=X_train_pad.shape[1]))\n",
    "lstm_model1.add(LSTM(400,kernel_regularizer=l1(0.01),kernel_constraint=max_norm(2.)))\n",
    "lstm_model1.add(Dense(1, activation='sigmoid'))\n",
    "\n",
    "lstm_model1.compile(loss='binary_crossentropy', optimizer='adam', metrics=['accuracy'])\n",
    "lstm_model1.summary()"
   ]
  },
  {
   "cell_type": "code",
   "execution_count": 25,
   "metadata": {},
   "outputs": [
    {
     "name": "stdout",
     "output_type": "stream",
     "text": [
      "Epoch 1/10\n",
      "395/395 [==============================] - 32s 74ms/step - loss: 1.8943 - accuracy: 0.9873 - val_loss: 0.1407 - val_accuracy: 0.9984\n",
      "Epoch 2/10\n",
      "395/395 [==============================] - 33s 84ms/step - loss: 0.1390 - accuracy: 0.9992 - val_loss: 0.1336 - val_accuracy: 0.9990\n",
      "Epoch 3/10\n",
      "395/395 [==============================] - 33s 85ms/step - loss: 0.1369 - accuracy: 0.9992 - val_loss: 0.1364 - val_accuracy: 0.9990\n",
      "Epoch 4/10\n",
      "395/395 [==============================] - 35s 87ms/step - loss: 0.1252 - accuracy: 0.9999 - val_loss: 0.1528 - val_accuracy: 0.9989\n",
      "Epoch 5/10\n",
      "395/395 [==============================] - 41s 103ms/step - loss: 0.1393 - accuracy: 0.9997 - val_loss: 0.1353 - val_accuracy: 0.9992\n",
      "Epoch 6/10\n",
      "395/395 [==============================] - 34s 86ms/step - loss: 0.1265 - accuracy: 0.9999 - val_loss: 0.1336 - val_accuracy: 0.9984\n",
      "Epoch 7/10\n",
      "395/395 [==============================] - 33s 85ms/step - loss: 0.1234 - accuracy: 0.9998 - val_loss: 0.1560 - val_accuracy: 0.9965\n",
      "Epoch 8/10\n",
      "395/395 [==============================] - 39s 99ms/step - loss: 0.1220 - accuracy: 0.9999 - val_loss: 0.1237 - val_accuracy: 0.9986\n",
      "Epoch 9/10\n",
      "395/395 [==============================] - 42s 105ms/step - loss: 0.1245 - accuracy: 0.9998 - val_loss: 0.1230 - val_accuracy: 0.9979\n",
      "Epoch 10/10\n",
      "395/395 [==============================] - 34s 85ms/step - loss: 0.1337 - accuracy: 0.9996 - val_loss: 0.1247 - val_accuracy: 0.9990\n"
     ]
    }
   ],
   "source": [
    "history1 = lstm_model1.fit(X_train_pad, y_train, epochs=10, batch_size=64, validation_data=(X_test_pad, y_test))"
   ]
  },
  {
   "cell_type": "code",
   "execution_count": 26,
   "metadata": {},
   "outputs": [
    {
     "data": {
      "text/plain": [
       "<matplotlib.legend.Legend at 0x15b08acdd10>"
      ]
     },
     "execution_count": 26,
     "metadata": {},
     "output_type": "execute_result"
    },
    {
     "data": {
      "image/png": "[encoded data removed]",
      "text/plain": [
       "<Figure size 640x480 with 1 Axes>"
      ]
     },
     "metadata": {},
     "output_type": "display_data"
    }
   ],
   "source": [
    "plt.plot(history1.history['accuracy'], label='accuracy')\n",
    "plt.plot(history1.history['val_accuracy'], label = 'val_accuracy')\n",
    "plt.xlabel('Epoch')\n",
    "plt.ylabel('Accuracy')\n",
    "plt.legend(loc='lower right') "
   ]
  },
  {
   "cell_type": "code",
   "execution_count": 27,
   "metadata": {},
   "outputs": [
    {
     "name": "stdout",
     "output_type": "stream",
     "text": [
      "198/198 - 2s - loss: 0.1247 - accuracy: 0.9990 - 2s/epoch - 12ms/step\n"
     ]
    }
   ],
   "source": [
    "test_loss, test_acc = lstm_model1.evaluate(X_test_pad, y_test,verbose=2) \n"
   ]
  },
  {
   "cell_type": "code",
   "execution_count": 28,
   "metadata": {},
   "outputs": [
    {
     "data": {
      "image/png": "[encoded data removed]",
      "text/plain": [
       "<Figure size 640x480 with 1 Axes>"
      ]
     },
     "metadata": {},
     "output_type": "display_data"
    }
   ],
   "source": [
    "#make a plot for loss\n",
    "plt.plot(history1.history['loss'], label='loss')\n",
    "plt.plot(history1.history['val_loss'], label = 'val_loss')\n",
    "plt.xlabel('Epoch')\n",
    "plt.ylabel('Loss')\n",
    "plt.legend(loc='lower right')\n",
    "plt.show()"
   ]
  },
  {
   "cell_type": "code",
   "execution_count": 29,
   "metadata": {},
   "outputs": [
    {
     "name": "stdout",
     "output_type": "stream",
     "text": [
      "198/198 [==============================] - 3s 13ms/step\n"
     ]
    },
    {
     "data": {
      "image/png": "[encoded data removed]",
      "text/plain": [
       "<Figure size 640x480 with 2 Axes>"
      ]
     },
     "metadata": {},
     "output_type": "display_data"
    }
   ],
   "source": [
    "#confusion matrix\n",
    "from sklearn.metrics import confusion_matrix\n",
    "import seaborn as sns\n",
    "y_pred = lstm_model1.predict(X_test_pad)\n",
    "y_pred = np.round(y_pred)\n",
    "cm = confusion_matrix(y_test, y_pred)\n",
    "sns.heatmap(cm, annot=True, fmt='d')\n",
    "plt.xlabel('Predicted')\n",
    "plt.ylabel('Truth')\n",
    "plt.show()\n"
   ]
  },
  {
   "cell_type": "code",
   "execution_count": 40,
   "metadata": {},
   "outputs": [
    {
     "name": "stdout",
     "output_type": "stream",
     "text": [
      "1/1 [==============================] - 0s 32ms/step\n",
      "[[0.5213012 ]\n",
      " [0.5354406 ]\n",
      " [0.5354058 ]\n",
      " [0.5353804 ]\n",
      " [0.529417  ]\n",
      " [0.50769204]\n",
      " [0.49530303]\n",
      " [0.5310646 ]\n",
      " [0.524055  ]\n",
      " [0.5245797 ]\n",
      " [0.5226264 ]\n",
      " [0.52403057]\n",
      " [0.5295879 ]]\n",
      "0.5213012\n",
      "Sensitive - Person ID\n",
      "0.5354406\n",
      "Sensitive - Gender\n",
      "0.5354058\n",
      "Sensitive - Age\n",
      "0.5353804\n",
      "Sensitive - Occupation\n",
      "0.529417\n",
      "Sensitive - Sleep Duration\n",
      "0.50769204\n",
      "Sensitive - Quality of Sleep\n",
      "0.49530303\n",
      "Non-Sensitive - Physical Activity Level\n",
      "0.5310646\n",
      "Sensitive - Stress Level\n",
      "0.524055\n",
      "Sensitive - BMI Category\n",
      "0.5245797\n",
      "Sensitive - Blood Pressure\n",
      "0.5226264\n",
      "Sensitive - Heart Rate\n",
      "0.52403057\n",
      "Sensitive - Daily Steps\n",
      "0.5295879\n",
      "Sensitive - Sleep Disorder\n"
     ]
    }
   ],
   "source": [
    "import pandas as pd\n",
    "from nltk.tokenize import word_tokenize\n",
    "import numpy as np\n",
    "def process_csv(file_path):\n",
    "    df = pd.read_csv(file_path, encoding='latin1')  # Specify the encoding parameter\n",
    "    feature_names = df.columns.tolist()\n",
    "    return feature_names\n",
    "def process_txt(file_path):\n",
    "    with open(file_path, 'r', encoding='latin1') as file:  # Specify the encoding parameter\n",
    "        text = file.read()\n",
    "    tokens = word_tokenize(text)\n",
    "    return tokens\n",
    "def process_file(file_path):\n",
    "    if file_path.endswith('.csv'):\n",
    "        feature_names = process_csv(file_path)\n",
    "        return feature_names\n",
    "    elif file_path.endswith('.txt'):\n",
    "        tokens = process_txt(file_path)\n",
    "        return tokens\n",
    "    elif file_path.endswith('.json'):\n",
    "        # Add your code to process JSON files here\n",
    "        pass\n",
    "    else:\n",
    "        print(\"Unsupported file format.\")\n",
    "# Get the file path from the user\n",
    "file_path = input(\"Enter the path of the file: \")\n",
    "# Process the file\n",
    "features = process_file(file_path)\n",
    "data_array = np.array(features)\n",
    "\n",
    "data_input = data_array.reshape(1, -1)\n",
    "\n",
    "from keras.preprocessing.text import Tokenizer\n",
    "from keras.preprocessing.sequence import pad_sequences\n",
    "\n",
    "# Tokenization\n",
    "tokenizer = Tokenizer()\n",
    "tokenizer.fit_on_texts(features)\n",
    "\n",
    "# Encoding\n",
    "sequences = tokenizer.texts_to_sequences(features)\n",
    "\n",
    "# Find the length of the longest sequence\n",
    "max_length = max(len(sequence) for sequence in sequences)\n",
    "\n",
    "data_input = pad_sequences(sequences, maxlen=max_length)\n",
    "\n",
    "# Make predictions using the model\n",
    "preds = lstm_model1.predict(data_input)\n",
    "\n",
    "# Print the predictions\n",
    "print(preds)\n",
    "sensitive=[]\n",
    "for i in range(len(preds)):\n",
    "  print(preds[i][0])\n",
    "  if preds[i][0]>0.5:\n",
    "    sensitive.append(features[i])\n",
    "    print(\"Sensitive - \"+ features[i])\n",
    "  else:\n",
    "    print(\"Non-Sensitive - \" + features[i] )"
   ]
  },
  {
   "cell_type": "code",
   "execution_count": 42,
   "metadata": {},
   "outputs": [],
   "source": [
    "df=pd.DataFrame(sensitive,columns=['Sensitive'])"
   ]
  },
  {
   "cell_type": "code",
   "execution_count": 41,
   "metadata": {},
   "outputs": [],
   "source": [
    "df=pd.read_csv('Sleep_health_and_lifestyle_dataset.csv')"
   ]
  },
  {
   "cell_type": "code",
   "execution_count": 43,
   "metadata": {},
   "outputs": [
    {
     "name": "stdout",
     "output_type": "stream",
     "text": [
      "Data Encrypted and Saved\n",
      "Data Decrypted and Saved\n",
      "Model Saved\n"
     ]
    },
    {
     "name": "stderr",
     "output_type": "stream",
     "text": [
      "c:\\Users\\LAKSHMI SRI LASYA\\AppData\\Local\\Programs\\Python\\Python311\\Lib\\site-packages\\keras\\src\\engine\\training.py:3103: UserWarning: You are saving your model as an HDF5 file via `model.save()`. This file format is considered legacy. We recommend using instead the native Keras format, e.g. `model.save('my_model.keras')`.\n",
      "  saving_api.save_model(\n"
     ]
    }
   ],
   "source": [
    "from cryptography.fernet import Fernet  \n",
    "df_sen = df\n",
    "# Generate a key\n",
    "key = Fernet.generate_key()\n",
    "# Save the key to a file\n",
    "with open(\"key.key\", \"wb\") as key_file:\n",
    "    key_file.write(key)\n",
    "# Load the key from the file\n",
    "with open(\"key.key\", \"rb\") as key_file:\n",
    "    key = key_file.read()\n",
    "# Create a cipher suite\n",
    "cipher_suite = Fernet(key)\n",
    "# Encrypt the data\n",
    "cipher_text = cipher_suite.encrypt(df_sen.to_csv().encode())\n",
    "# Save the encrypted data to a file\n",
    "with open(\"whole.csv.encrypted\", \"wb\") as file:  \n",
    "    file.write(cipher_text)\n",
    "print(\"Data Encrypted and Saved\")\n",
    "# Load the encrypted data from the file\n",
    "with open(\"whole.csv.encrypted\", \"rb\") as file:\n",
    "    cipher_text = file.read()\n",
    "# Decrypt the data\n",
    "plain_text = cipher_suite.decrypt(cipher_text)\n",
    "# Save the decrypted data to a file\n",
    "with open(\"wholw.csv.decrypted\", \"wb\") as file:\n",
    "    file.write(plain_text)\n",
    "print(\"Data Decrypted and Saved\")\n",
    "# Save the model\n",
    "lstm_model1.save(\"model.h5\")\n",
    "print(\"Model Saved\")"
   ]
  },
  {
   "cell_type": "code",
   "execution_count": 41,
   "metadata": {},
   "outputs": [
    {
     "name": "stdout",
     "output_type": "stream",
     "text": [
      "1/1 [==============================] - 0s 23ms/step\n",
      "Non-sensitive\n"
     ]
    }
   ],
   "source": [
    "test = ['Hi Paul, would you come around tonight']\n",
    "seq = tokenizer.texts_to_sequences(test)\n",
    "\n",
    "pad = pad_sequences(seq, maxlen=20, padding='post')\n",
    "tokenizer.index_word\n",
    "pad\n",
    "pred = lstm_model1.predict(pad)\n",
    "# print the class label\n",
    "if pred > 0.5:\n",
    "    print('Sensitive')\n",
    "else:\n",
    "    print('Non-sensitive')"
   ]
  },
  {
   "cell_type": "code",
   "execution_count": 42,
   "metadata": {},
   "outputs": [
    {
     "name": "stdout",
     "output_type": "stream",
     "text": [
      "1/1 [==============================] - 0s 23ms/step\n",
      "My social security number is 123-45-6789. Sensitive\n",
      "1/1 [==============================] - 0s 27ms/step\n",
      "My credit card number is 1234 5678 9012 3456. Sensitive\n",
      "1/1 [==============================] - 0s 21ms/step\n",
      "My email address is john.doe@gmail.com. Sensitive\n",
      "1/1 [==============================] - 0s 24ms/step\n",
      "My phone number is (123) 456-7890. Sensitive\n",
      "1/1 [==============================] - 0s 23ms/step\n",
      "I live at 123 Main St, Anytown, USA. Non-sensitive\n",
      "1/1 [==============================] - 0s 24ms/step\n",
      "I love to play soccer on the weekends. Non-sensitive\n",
      "1/1 [==============================] - 0s 26ms/step\n",
      "My favorite color is blue. Sensitive\n",
      "1/1 [==============================] - 0s 25ms/step\n",
      "The weather is really nice today. Non-sensitive\n",
      "1/1 [==============================] - 0s 22ms/step\n",
      "I have a pet dog named Rover. Non-sensitive\n",
      "1/1 [==============================] - 0s 26ms/step\n",
      "Name Sensitive\n",
      "1/1 [==============================] - 0s 22ms/step\n",
      "Age Sensitive\n",
      "1/1 [==============================] - 0s 23ms/step\n",
      "Gender Sensitive\n",
      "1/1 [==============================] - 0s 23ms/step\n",
      "Blood Type Sensitive\n",
      "1/1 [==============================] - 0s 23ms/step\n",
      "Medical Condition Sensitive\n",
      "1/1 [==============================] - 0s 22ms/step\n",
      "Date of Admission Sensitive\n",
      "1/1 [==============================] - 0s 22ms/step\n",
      "Doctor Sensitive\n",
      "1/1 [==============================] - 0s 26ms/step\n",
      "Hospital Sensitive\n",
      "1/1 [==============================] - 0s 25ms/step\n",
      "Insurance Provider Sensitive\n",
      "1/1 [==============================] - 0s 29ms/step\n",
      "Billing Amount Sensitive\n",
      "1/1 [==============================] - 0s 22ms/step\n",
      "Room Number Sensitive\n",
      "1/1 [==============================] - 0s 24ms/step\n",
      "Admission Type Sensitive\n",
      "1/1 [==============================] - 0s 24ms/step\n",
      "Discharge Date Sensitive\n",
      "1/1 [==============================] - 0s 25ms/step\n",
      "Medication Sensitive\n",
      "1/1 [==============================] - 0s 26ms/step\n",
      "Test Results Sensitive\n"
     ]
    }
   ],
   "source": [
    "test = [\"My social security number is 123-45-6789.\",\n",
    "\"My credit card number is 1234 5678 9012 3456.\",\n",
    "\"My email address is john.doe@gmail.com.\",\n",
    "\"My phone number is (123) 456-7890.\",\n",
    "\"I live at 123 Main St, Anytown, USA.\",\n",
    "\"I love to play soccer on the weekends.\",\n",
    "\"My favorite color is blue.\",\n",
    "\"The weather is really nice today.\",\n",
    "\"I have a pet dog named Rover.\",\n",
    "'Name', 'Age', 'Gender', 'Blood Type', 'Medical Condition',\n",
    "       'Date of Admission', 'Doctor', 'Hospital', 'Insurance Provider',\n",
    "       'Billing Amount', 'Room Number', 'Admission Type', 'Discharge Date',\n",
    "       'Medication', 'Test Results']\n",
    "for i in test:\n",
    "    seq = tokenizer.texts_to_sequences([i])\n",
    "    pad = pad_sequences(seq, maxlen=20, padding='post')\n",
    "    max_num=max([max(seq) for seq in pad])\n",
    "    pred = lstm_model1.predict(pad)\n",
    "    if pred > 0.5:\n",
    "        print(i, 'Sensitive')\n",
    "    else:\n",
    "        print(i, 'Non-sensitive')"
   ]
  },
  {
   "cell_type": "code",
   "execution_count": 22,
   "metadata": {},
   "outputs": [
    {
     "name": "stdout",
     "output_type": "stream",
     "text": [
      "Model: \"sequential_1\"\n",
      "_________________________________________________________________\n",
      " Layer (type)                Output Shape              Param #   \n",
      "=================================================================\n",
      " embedding_1 (Embedding)     (None, 20, 64)            5223936   \n",
      "                                                                 \n",
      " lstm_1 (LSTM)               (None, 20, 200)           212000    \n",
      "                                                                 \n",
      " lstm_2 (LSTM)               (None, 200)               320800    \n",
      "                                                                 \n",
      " dense_1 (Dense)             (None, 1)                 201       \n",
      "                                                                 \n",
      "=================================================================\n",
      "Total params: 5756937 (21.96 MB)\n",
      "Trainable params: 5756937 (21.96 MB)\n",
      "Non-trainable params: 0 (0.00 Byte)\n",
      "_________________________________________________________________\n"
     ]
    }
   ],
   "source": [
    "from keras.regularizers import l1\n",
    "from keras.constraints import max_norm\n",
    "lstm_model2 = Sequential()\n",
    "lstm_model2.add(Embedding(max_num+1,64, input_length=20))\n",
    "lstm_model2.add(LSTM(200,return_sequences=True,kernel_regularizer=l1(0.01),kernel_constraint=max_norm(2.)))\n",
    "lstm_model2.add(LSTM(200,kernel_regularizer=l1(0.01),kernel_constraint=max_norm(2.)))\n",
    "lstm_model2.add(Dense(1, activation='sigmoid'))\n",
    "\n",
    "lstm_model2.compile(loss='binary_crossentropy', optimizer='adam', metrics=['accuracy'])\n",
    "lstm_model2.summary()"
   ]
  },
  {
   "cell_type": "code",
   "execution_count": 23,
   "metadata": {},
   "outputs": [
    {
     "name": "stdout",
     "output_type": "stream",
     "text": [
      "Epoch 1/10\n",
      "395/395 [==============================] - 99s 218ms/step - loss: 6.3018 - accuracy: 0.9847 - val_loss: 0.2506 - val_accuracy: 0.9992\n",
      "Epoch 2/10\n",
      "395/395 [==============================] - 89s 224ms/step - loss: 0.4611 - accuracy: 0.9971 - val_loss: 0.3491 - val_accuracy: 0.9962\n",
      "Epoch 3/10\n",
      "395/395 [==============================] - 92s 232ms/step - loss: 0.2535 - accuracy: 0.9993 - val_loss: 0.2407 - val_accuracy: 0.9970\n",
      "Epoch 4/10\n",
      "395/395 [==============================] - 85s 215ms/step - loss: 0.2557 - accuracy: 0.9992 - val_loss: 0.2452 - val_accuracy: 0.9976\n",
      "Epoch 5/10\n",
      "395/395 [==============================] - 87s 220ms/step - loss: 0.2335 - accuracy: 0.9998 - val_loss: 0.3371 - val_accuracy: 0.9940\n",
      "Epoch 6/10\n",
      "395/395 [==============================] - 89s 226ms/step - loss: 0.2480 - accuracy: 0.9996 - val_loss: 0.2532 - val_accuracy: 0.9965\n",
      "Epoch 7/10\n",
      "395/395 [==============================] - 85s 215ms/step - loss: 0.2300 - accuracy: 0.9998 - val_loss: 0.2370 - val_accuracy: 0.9946\n",
      "Epoch 8/10\n",
      "395/395 [==============================] - 100s 253ms/step - loss: 0.8587 - accuracy: 0.9987 - val_loss: 1.0579 - val_accuracy: 0.9919\n",
      "Epoch 9/10\n",
      "395/395 [==============================] - 92s 234ms/step - loss: 0.4545 - accuracy: 0.9994 - val_loss: 0.3403 - val_accuracy: 0.9943\n",
      "Epoch 10/10\n",
      "395/395 [==============================] - 92s 232ms/step - loss: 0.2850 - accuracy: 0.9999 - val_loss: 0.2718 - val_accuracy: 0.9967\n"
     ]
    }
   ],
   "source": [
    "history2 = lstm_model2.fit(X_train_pad, y_train, epochs=10, batch_size=64, validation_data=(X_test_pad, y_test))"
   ]
  },
  {
   "cell_type": "code",
   "execution_count": 24,
   "metadata": {},
   "outputs": [
    {
     "name": "stdout",
     "output_type": "stream",
     "text": [
      "198/198 - 10s - loss: 0.2718 - accuracy: 0.9967 - 10s/epoch - 49ms/step\n"
     ]
    }
   ],
   "source": [
    "test_loss, test_acc = lstm_model2.evaluate(X_test_pad, y_test, verbose=2)\n"
   ]
  },
  {
   "cell_type": "code",
   "execution_count": 25,
   "metadata": {},
   "outputs": [
    {
     "name": "stdout",
     "output_type": "stream",
     "text": [
      "Model: \"sequential_2\"\n",
      "_________________________________________________________________\n",
      " Layer (type)                Output Shape              Param #   \n",
      "=================================================================\n",
      " embedding_2 (Embedding)     (None, 20, 64)            5223936   \n",
      "                                                                 \n",
      " lstm_3 (LSTM)               (None, 300)               438000    \n",
      "                                                                 \n",
      " dense_2 (Dense)             (None, 1)                 301       \n",
      "                                                                 \n",
      "=================================================================\n",
      "Total params: 5662237 (21.60 MB)\n",
      "Trainable params: 5662237 (21.60 MB)\n",
      "Non-trainable params: 0 (0.00 Byte)\n",
      "_________________________________________________________________\n"
     ]
    }
   ],
   "source": [
    "from keras.regularizers import l1\n",
    "from keras.constraints import max_norm\n",
    "lstm_model3 = Sequential()\n",
    "lstm_model3.add(Embedding(max_num+1,64, input_length=20))\n",
    "lstm_model3.add(LSTM(300,kernel_regularizer=l1(0.001),kernel_constraint=max_norm(2.)))\n",
    "lstm_model3.add(Dense(1, activation='sigmoid'))\n",
    "\n",
    "lstm_model3.compile(loss='binary_crossentropy', optimizer='adam', metrics=['accuracy'])\n",
    "lstm_model3.summary()"
   ]
  },
  {
   "cell_type": "code",
   "execution_count": 26,
   "metadata": {},
   "outputs": [
    {
     "name": "stdout",
     "output_type": "stream",
     "text": [
      "Epoch 1/10\n",
      "395/395 [==============================] - 77s 168ms/step - loss: 0.2857 - accuracy: 0.9878 - val_loss: 0.0208 - val_accuracy: 0.9995\n",
      "Epoch 2/10\n",
      "395/395 [==============================] - 67s 169ms/step - loss: 0.0207 - accuracy: 0.9993 - val_loss: 0.0223 - val_accuracy: 0.9994\n",
      "Epoch 3/10\n",
      "395/395 [==============================] - 66s 168ms/step - loss: 0.0108 - accuracy: 1.0000 - val_loss: 0.1153 - val_accuracy: 0.9884\n",
      "Epoch 4/10\n",
      "395/395 [==============================] - 70s 178ms/step - loss: 0.0107 - accuracy: 0.9999 - val_loss: 0.0746 - val_accuracy: 0.9997\n",
      "Epoch 5/10\n",
      "395/395 [==============================] - 70s 178ms/step - loss: 0.0150 - accuracy: 0.9998 - val_loss: 0.0158 - val_accuracy: 0.9984\n",
      "Epoch 6/10\n",
      "395/395 [==============================] - 75s 189ms/step - loss: 0.0090 - accuracy: 1.0000 - val_loss: 0.0152 - val_accuracy: 0.9984\n",
      "Epoch 7/10\n",
      "395/395 [==============================] - 67s 170ms/step - loss: 0.0581 - accuracy: 0.9997 - val_loss: 0.4662 - val_accuracy: 0.9400\n",
      "Epoch 8/10\n",
      "395/395 [==============================] - 69s 174ms/step - loss: 0.0528 - accuracy: 0.9996 - val_loss: 0.0236 - val_accuracy: 0.9992\n",
      "Epoch 9/10\n",
      "395/395 [==============================] - 63s 160ms/step - loss: 0.0255 - accuracy: 0.9994 - val_loss: 0.0151 - val_accuracy: 0.9997\n",
      "Epoch 10/10\n",
      "395/395 [==============================] - 67s 169ms/step - loss: 0.0115 - accuracy: 1.0000 - val_loss: 0.0311 - val_accuracy: 0.9968\n"
     ]
    }
   ],
   "source": [
    "history3 = lstm_model3.fit(X_train_pad, y_train, epochs=10, batch_size=64, validation_data=(X_test_pad, y_test))"
   ]
  },
  {
   "cell_type": "code",
   "execution_count": 27,
   "metadata": {},
   "outputs": [
    {
     "name": "stdout",
     "output_type": "stream",
     "text": [
      "198/198 - 7s - loss: 0.0311 - accuracy: 0.9968 - 7s/epoch - 36ms/step\n"
     ]
    }
   ],
   "source": [
    "test_loss, test_acc = lstm_model3.evaluate(X_test_pad, y_test, verbose=2)"
   ]
  }
 ],
 "metadata": {
  "kernelspec": {
   "display_name": "base",
   "language": "python",
   "name": "python3"
  },
  "language_info": {
   "codemirror_mode": {
    "name": "ipython",
    "version": 3
   },
   "file_extension": ".py",
   "mimetype": "text/x-python",
   "name": "python",
   "nbconvert_exporter": "python",
   "pygments_lexer": "ipython3",
   "version": "3.11.1"
  }
 },
 "nbformat": 4,
 "nbformat_minor": 2
}
