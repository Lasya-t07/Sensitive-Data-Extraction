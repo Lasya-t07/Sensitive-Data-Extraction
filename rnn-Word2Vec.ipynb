{
 "cells": [
  {
   "cell_type": "code",
   "execution_count": 1,
   "metadata": {},
   "outputs": [
    {
     "name": "stdout",
     "output_type": "stream",
     "text": [
      "WARNING:tensorflow:From c:\\Users\\LAKSHMI SRI LASYA\\AppData\\Local\\Programs\\Python\\Python311\\Lib\\site-packages\\keras\\src\\losses.py:2976: The name tf.losses.sparse_softmax_cross_entropy is deprecated. Please use tf.compat.v1.losses.sparse_softmax_cross_entropy instead.\n",
      "\n"
     ]
    },
    {
     "name": "stderr",
     "output_type": "stream",
     "text": [
      "[nltk_data] Downloading package punkt to C:\\Users\\LAKSHMI SRI\n",
      "[nltk_data]     LASYA\\AppData\\Roaming\\nltk_data...\n",
      "[nltk_data]   Package punkt is already up-to-date!\n",
      "[nltk_data] Downloading package stopwords to C:\\Users\\LAKSHMI SRI\n",
      "[nltk_data]     LASYA\\AppData\\Roaming\\nltk_data...\n",
      "[nltk_data]   Package stopwords is already up-to-date!\n",
      "[nltk_data] Downloading package wordnet to C:\\Users\\LAKSHMI SRI\n",
      "[nltk_data]     LASYA\\AppData\\Roaming\\nltk_data...\n",
      "[nltk_data]   Package wordnet is already up-to-date!\n"
     ]
    },
    {
     "data": {
      "text/plain": [
       "True"
      ]
     },
     "execution_count": 1,
     "metadata": {},
     "output_type": "execute_result"
    }
   ],
   "source": [
    "import nltk\n",
    "import string\n",
    "import numpy as np\n",
    "import pandas as pd\n",
    "import matplotlib.pyplot as plt\n",
    "from sklearn.feature_extraction.text import CountVectorizer\n",
    "\n",
    "from tensorflow.keras.preprocessing.text import Tokenizer\n",
    "from keras.preprocessing.sequence import pad_sequences\n",
    "\n",
    "from keras.models import Sequential\n",
    "from keras.layers import Dense, LSTM, Embedding\n",
    "\n",
    "from nltk.tokenize import word_tokenize\n",
    "from nltk.corpus import stopwords\n",
    "from nltk.stem import PorterStemmer\n",
    "nltk.download('punkt')\n",
    "nltk.download('stopwords')\n",
    "nltk.download('wordnet')"
   ]
  },
  {
   "cell_type": "code",
   "execution_count": 2,
   "metadata": {},
   "outputs": [],
   "source": [
    "import json\n",
    "dataList = []\n",
    "sentences = []\n",
    "labels = []\n",
    "def loadDataset(filename):\n",
    "  d=[]\n",
    "  with open(filename, 'r') as f:\n",
    "      datastore = json.load(f)\n",
    "  for item in datastore:\n",
    "    sentence = item['data']\n",
    "    label = item['is_sensitive']\n",
    "    d.append([sentence,label])\n",
    "  return d\n",
    "# Loading both sensitive and non-sensitive dataset\n",
    "sen=loadDataset(\"SensitiveDataset.json\")\n",
    "nonsen=loadDataset(\"NonSensitiveDatasetnew.json\")\n",
    "sen=pd.DataFrame(data=sen,columns=['sentences','labels'])\n",
    "nonsen=pd.DataFrame(data=nonsen,columns=['sentences','labels'])"
   ]
  },
  {
   "cell_type": "code",
   "execution_count": 3,
   "metadata": {},
   "outputs": [
    {
     "data": {
      "text/html": [
       "<div>\n",
       "<style scoped>\n",
       "    .dataframe tbody tr th:only-of-type {\n",
       "        vertical-align: middle;\n",
       "    }\n",
       "\n",
       "    .dataframe tbody tr th {\n",
       "        vertical-align: top;\n",
       "    }\n",
       "\n",
       "    .dataframe thead th {\n",
       "        text-align: right;\n",
       "    }\n",
       "</style>\n",
       "<table border=\"1\" class=\"dataframe\">\n",
       "  <thead>\n",
       "    <tr style=\"text-align: right;\">\n",
       "      <th></th>\n",
       "      <th>sentences</th>\n",
       "      <th>labels</th>\n",
       "    </tr>\n",
       "  </thead>\n",
       "  <tbody>\n",
       "    <tr>\n",
       "      <th>0</th>\n",
       "      <td>Harry Crown, a stylish professional hit man wi...</td>\n",
       "      <td>0</td>\n",
       "    </tr>\n",
       "    <tr>\n",
       "      <th>1</th>\n",
       "      <td>Cinderella is living a dissatisfying life, hav...</td>\n",
       "      <td>0</td>\n",
       "    </tr>\n",
       "    <tr>\n",
       "      <th>2</th>\n",
       "      <td>Norma Selbee is a chorus girl trying to make i...</td>\n",
       "      <td>0</td>\n",
       "    </tr>\n",
       "    <tr>\n",
       "      <th>3</th>\n",
       "      <td>scptest,   pineapple1,    scptest@aim.com,  5...</td>\n",
       "      <td>1</td>\n",
       "    </tr>\n",
       "    <tr>\n",
       "      <th>4</th>\n",
       "      <td>King Morgan (Lloyd Nolan), chief pilot for W. ...</td>\n",
       "      <td>0</td>\n",
       "    </tr>\n",
       "  </tbody>\n",
       "</table>\n",
       "</div>"
      ],
      "text/plain": [
       "                                           sentences  labels\n",
       "0  Harry Crown, a stylish professional hit man wi...       0\n",
       "1  Cinderella is living a dissatisfying life, hav...       0\n",
       "2  Norma Selbee is a chorus girl trying to make i...       0\n",
       "3   scptest,   pineapple1,    scptest@aim.com,  5...       1\n",
       "4  King Morgan (Lloyd Nolan), chief pilot for W. ...       0"
      ]
     },
     "execution_count": 3,
     "metadata": {},
     "output_type": "execute_result"
    }
   ],
   "source": [
    "combined = pd.concat([sen, nonsen])\n",
    "df = combined.sample(frac=1).reset_index(drop=True)\n",
    "df.head()"
   ]
  },
  {
   "cell_type": "code",
   "execution_count": 4,
   "metadata": {},
   "outputs": [],
   "source": [
    "tokenized_data = [word_tokenize(sentence) for sentence in df['sentences']]\n",
    "stop_words = set(stopwords.words('english'))\n",
    "punctuations = list(string.punctuation)\n",
    "punctuations.remove('@')\n",
    "stop_words.update(punctuations)\n",
    "stemmer = PorterStemmer()\n",
    "filtered_data = [[stemmer.stem(word) for word in sentence if word.lower() not in stop_words] for sentence in tokenized_data]\n",
    "l=[]\n",
    "for idx, sentence in enumerate(filtered_data):\n",
    "    l.append(' '.join(sentence))\n",
    "df['sentences'] = l"
   ]
  },
  {
   "cell_type": "code",
   "execution_count": 5,
   "metadata": {},
   "outputs": [
    {
     "data": {
      "text/html": [
       "<div>\n",
       "<style scoped>\n",
       "    .dataframe tbody tr th:only-of-type {\n",
       "        vertical-align: middle;\n",
       "    }\n",
       "\n",
       "    .dataframe tbody tr th {\n",
       "        vertical-align: top;\n",
       "    }\n",
       "\n",
       "    .dataframe thead th {\n",
       "        text-align: right;\n",
       "    }\n",
       "</style>\n",
       "<table border=\"1\" class=\"dataframe\">\n",
       "  <thead>\n",
       "    <tr style=\"text-align: right;\">\n",
       "      <th></th>\n",
       "      <th>sentences</th>\n",
       "      <th>labels</th>\n",
       "    </tr>\n",
       "  </thead>\n",
       "  <tbody>\n",
       "    <tr>\n",
       "      <th>0</th>\n",
       "      <td>harri crown stylish profession hit man pair br...</td>\n",
       "      <td>0</td>\n",
       "    </tr>\n",
       "    <tr>\n",
       "      <th>1</th>\n",
       "      <td>cinderella live dissatisfi life lost parent yo...</td>\n",
       "      <td>0</td>\n",
       "    </tr>\n",
       "    <tr>\n",
       "      <th>2</th>\n",
       "      <td>norma selbe choru girl tri make new york citi ...</td>\n",
       "      <td>0</td>\n",
       "    </tr>\n",
       "    <tr>\n",
       "      <th>3</th>\n",
       "      <td>scptest pineapple1 scptest @ aim.com 5797829693</td>\n",
       "      <td>1</td>\n",
       "    </tr>\n",
       "    <tr>\n",
       "      <th>4</th>\n",
       "      <td>king morgan lloyd nolan chief pilot w. j. brad...</td>\n",
       "      <td>0</td>\n",
       "    </tr>\n",
       "  </tbody>\n",
       "</table>\n",
       "</div>"
      ],
      "text/plain": [
       "                                           sentences  labels\n",
       "0  harri crown stylish profession hit man pair br...       0\n",
       "1  cinderella live dissatisfi life lost parent yo...       0\n",
       "2  norma selbe choru girl tri make new york citi ...       0\n",
       "3    scptest pineapple1 scptest @ aim.com 5797829693       1\n",
       "4  king morgan lloyd nolan chief pilot w. j. brad...       0"
      ]
     },
     "execution_count": 5,
     "metadata": {},
     "output_type": "execute_result"
    }
   ],
   "source": [
    "df.head() "
   ]
  },
  {
   "cell_type": "code",
   "execution_count": 6,
   "metadata": {},
   "outputs": [
    {
     "name": "stdout",
     "output_type": "stream",
     "text": [
      "(25261, 2) (6315, 2)\n"
     ]
    }
   ],
   "source": [
    "df_train = df.sample(frac=.8, random_state=11)\n",
    "df_test = df.drop(df_train.index)\n",
    "print(df_train.shape, df_test.shape)"
   ]
  },
  {
   "cell_type": "code",
   "execution_count": 7,
   "metadata": {},
   "outputs": [
    {
     "data": {
      "text/plain": [
       "(6315,)"
      ]
     },
     "execution_count": 7,
     "metadata": {},
     "output_type": "execute_result"
    }
   ],
   "source": [
    "y_train = df_train['labels'].values\n",
    "y_test = df_test['labels'].values\n",
    "y_test.shape"
   ]
  },
  {
   "cell_type": "code",
   "execution_count": 8,
   "metadata": {},
   "outputs": [],
   "source": [
    "X_train = df_train['sentences'].values\n",
    "X_test = df_test['sentences'].values"
   ]
  },
  {
   "cell_type": "code",
   "execution_count": 9,
   "metadata": {},
   "outputs": [
    {
     "name": "stdout",
     "output_type": "stream",
     "text": [
      "[\"king henri viii 's marriag catherin aragon becom troubl produc male heir throne one surviv child mari ann 's younger sister mari boleyn marri william carey festiv thoma howard duke norfolk brother-in-law thoma boleyn plan instal boleyn 's eldest daughter ann boleyn king 's mistress hope ann bear son 'll abl improv famili 's wealth statu ann 's mother ladi elizabeth boleyn disgust plot ann eventu agre way pleas father uncl visit boleyn estat henri injur hunt accid indirectli caus ann urg scheme uncl mari nurs henri henri becom smitten mari invit court mari husband reluctantli agre awar king invit desir mari ann becom ladies-in-wait queen catherin henri send william carey abroad assign separ husband mari begin affair king find fall love ann secretli marri nobleman henri perci although alreadi betroth ladi mari talbot ann confid brother georg boleyn marriag overjoy georg proce tell mari fear ann ruin boleyn famili marri promin earl without king 's consent mari alert father uncl confront ann forcebl annul marriag exil franc mari eventu becom pregnant henri 's child famili receiv new grant estat debt paid henri arrang georg 's marriag jane parker mari nearli suffer miscarriag confin bed child born norfolk recal ann england task keep henri 's attent wander anoth rival mari confin believ mari exil increas statu ann get back success win henri mari give birth son henri carey thoma norfolk overjoy celebr short live ann tell henri babi born bastard accept advanc must stop talk mari infuri norfolk king refus acknowledg child heir henri mari sent countrysid ann 's request shortli mari widow ann encourag henri break cathol church pope refus annul marriag queen catherin henri succumb ann 's demand declar suprem head church england get cardin thoma wolsey annul marriag done ann 's request henri come ann 's room still refus sex marri fit rage rape pregnant ann marri henri pleas famili becom queen england wife henri slowli start despis queen hate public deem witch despit birth healthi daughter elizabeth henri blame ann produc son begin court jane seymour secret ann suffer miscarriag son beg georg sex replac child lost fear pass henri burn witch georg first reluctantli agre realiz ann 's hope go howev georg 's neglect wife jane order norfolk spi ann wit enough encount becom suspici report seen ann georg arrest two found guilti sentenc death treason adulteri incest distraught news execut georg mother disown husband brother vow never forgiv greed done children mari learn late georg 's execut return court plead ann 's life believ henri spare sister leav see ann right schedul execut ann ask mari take care daughter elizabeth anyth happen mari watch crowd ann make final speech wait execut cancel henri promis letter henri given mari warn come court anymor implicitli reveal decis execut ann ten day ann 's execut henri jane seymour marri norfolk imprison next three gener famili execut treason mari marri william stafford two children ann edward mari take activ role rais ann 's daughter elizabeth grow becom futur queen england reign 44 year\"\n",
      " 'lineth charlie2 lineth @ hetnet.nl 3044149600'\n",
      " \"ben quick trial suspect barn-burn solid evid found judg expel town ben hitch ride frenchman 's bend mississippi two young women convert clara varner sister-in-law eula lee remick clara 's father varner domin owner town ben goe varner plantat away son jodi agre let ben becom sharecropp vacant farm return stay hospit furiou jodi hire notori `` barn burner '' soon begin see ben younger version come admir ruthless ambit qualiti jodi lack also disappoint man 23-year-old daughter clara see five six year alan stewart richard anderson genteel southern `` blue blood '' mama 's boy therefor scheme push daughter ben togeth tri bring fresh viril blood famili howev openli hostil crude magnet upstart determin bloodlin go offer make ben wealthi marri clara meanwhil minni littlejohn angela lansburi 's long-tim mistress dissatisfi arrang want marri jodi becom increasingli frustrat see posit famili undermin ben sell wild hors reward posit clerk gener store alongsid jodi even invit live famili mansion final straw jodi pull gun ben threaten kill ben talk way tell jodi buri civil war-era treasur supposedli found properti gave payment seal bargain clara jodi start dig find bag coin elat think might final free father 's domin buy land ben late night find son still dig examin one coin notic mint 1910 jodi shatter ben aggress pursu clara final ask alan intent like hear defeat jodi find father alon barn jodi bolt entranc set barn fire go releas incid lead reconcili father son men town assum ben culprit start toward claim accident start fire drop cigar smell fire bring back bad memori ben confess clara father real barn-burn tell age ten warn farmer father set anoth fire ben 's father got away never seen ben tell leav town clara make clear fallen love elat confid minni life good may live forev\"\n",
      " ...\n",
      " \"russia media cover toni stark 's disclosur ident iron man ivan vanko whose father anton vanko die see begin build miniatur arc reactor similar stark 's six month later n 2 stark superstar use iron man suit peac mean resist govern pressur sell design reinstitut stark expo continu father howard 's legaci palladium core arc reactor keep stark aliv power armor slowli poison find substitut grow increasingli reckless despond impend death choos tell anyon condit stark appoint person assist pepper pott ceo stark industri hire stark employe natali rushman replac person assist stark compet monaco histor grand prix attack middl race vanko wield electrifi whip stark don mark v armor defeat vanko suit sever damag vanko explain intent prove world iron man invinc impress vanko 's perform stark 's rival justin hammer fake vanko 's death break prison ask build line armor suit upstag stark believ final birthday parti stark get drunk wear mark iv suit disgust stark 's best friend u.s. air forc lieuten colonel jame rhode don stark 's mark ii prototyp armor tri restrain fight end stalem rhode confisc mark ii u.s. air forc nick furi director s.h.i.e.l.d. approach stark reveal `` rushman '' agent natasha romanoff howard stark s.h.i.e.l.d founder furi knew person furi explain vanko 's father jointli invent arc reactor stark anton tri sell profit stark deport soviet sent anton gulag furi give stark father 's old materi hidden messag diorama 1974 stark expo prove diagram structur new element aid comput j.a.r.v.i.s. stark synthes learn vanko still aliv place new element arc reactor end palladium depend expo hammer unveil vanko 's armor drone led rhode heavili weapon version mark ii armor stark arriv mark vi armor warn rhode vanko remot take control drone rhode armor attack iron man hammer arrest romanoff stark 's bodyguard happi hogan go vanko hammer 's factori vanko escap romanoff return control mark ii armor rhode stark rhode togeth defeat vanko drone vanko seemingli commit suicid blow suit along defeat drone debrief furi inform stark stark 's difficult person s.h.i.e.l.d intend use consult stark rhode receiv medal heroism post-credit scene s.h.i.e.l.d agent phil coulson report discoveri larg hammer bottom crater desert new mexico n 3\"\n",
      " 'paul bergot harri langdon belgian immigr unit state fallen love mari brown priscilla bonner blind woman met pen-pal fight europ world war i. mari even sent paul photo paul search mari brown ask everi woman meet mari brown accid rescu town crook bootlegg'\n",
      " \"liu siu-jian jet li chines intellig agent sent pari help apprehend chines mob boss mr. big ric young involv heroin smuggl meet inspector jean-pierr richard tchéki karyo corrupt violent french polic detect hotel richard trick liu believ simpli provid reconnaiss meet involv mr. big plan chang mr. big introduc two prostitut one jessica kamen bridget fonda american woman take room servic liu rest watch surveil camera mr. big kick everyon except two prostitut pretend seduc one prostitut stab mr. big overse event surveil room liu rush stop kill richard enter shortli later shoot mr. big prostitut liu 's police-issu handgun frame liu murder realiz set liu manag escap hotel surveil tape show richard shoot mr. big chines liaison sent franc event investig matter richard make liu primari suspect howev liaison believ stori richard provid liu manag contact one liaison pass tape reveal truth due french polic surveil meet liaison liu spot liaison assassin liu forc flee hord cop even gign commando liu escap forc maintain low profil consid situat meet jessica whose daughter kidnap richard forc prostitut liu discov jessica second prostitut hotel night mr. big 's murder realiz prove innoc refus go without retriev daughter isabel liu decid tape would provid best evid send jessica richard 's offic steal tape jessica manag get tape liu jessica head orphanag isabel kept howev richard anticip move discov jessica stolen tape ambush coupl orphanag escap jessica shot chest liu manag get hospit time becom driven retriev daughter liu arriv polic station richard hold isabel hostag fight way richard 's henchmen offic offic liu rescu isabel get shot richard process save isabel liu kill richard stick acupunctur needl back neck forbidden locat known `` kiss dragon '' stimul bodi 's blood travel brain caus pain death via brain aneurysm liu surviv gunshot wound return isabel mother\"]\n"
     ]
    }
   ],
   "source": [
    "print(X_train)"
   ]
  },
  {
   "cell_type": "code",
   "execution_count": 10,
   "metadata": {},
   "outputs": [],
   "source": [
    "#Tokenization\n",
    "tokenizer = Tokenizer(oov_token='<OOV>')\n",
    "tokenizer.fit_on_texts(X_train)\n",
    "tokenizer.fit_on_texts(X_test)"
   ]
  },
  {
   "cell_type": "code",
   "execution_count": 11,
   "metadata": {},
   "outputs": [],
   "source": [
    "from gensim.models import Word2Vec\n",
    "sentences = [sentence.split() for sentence in X_train]\n",
    "\n",
    "# Train Word2Vec model\n",
    "modelvec = Word2Vec(sentences, vector_size=100, window=5, min_count=1, workers=4)\n",
    "\n",
    "#Give me a random vector to handle OOV words\n",
    "modelvec.wv['<UNK>'] = np.random.randn(100)\n",
    "\n",
    "# Create a weight matrix for words in training docs\n",
    "embedding_matrix = np.zeros((len(modelvec.wv.key_to_index), modelvec.vector_size))\n",
    "for i in range(len(modelvec.wv.key_to_index)):\n",
    "    embedding_vector = modelvec.wv[modelvec.wv.index_to_key[i]]\n",
    "    if embedding_vector is not None:\n",
    "        embedding_matrix[i] = embedding_vector"
   ]
  },
  {
   "cell_type": "code",
   "execution_count": 12,
   "metadata": {},
   "outputs": [
    {
     "data": {
      "text/plain": [
       "14225"
      ]
     },
     "execution_count": 12,
     "metadata": {},
     "output_type": "execute_result"
    }
   ],
   "source": [
    "max_len=max(len(seq) for seq in X_train)\n",
    "max_len"
   ]
  },
  {
   "cell_type": "code",
   "execution_count": 13,
   "metadata": {},
   "outputs": [],
   "source": [
    "#pad X_train and X_test\n",
    "X_train = tokenizer.texts_to_sequences(X_train)\n",
    "X_test = tokenizer.texts_to_sequences(X_test)\n",
    "\n",
    "X_train_pad = pad_sequences(X_train, padding='post', maxlen=100)\n",
    "X_test_pad = pad_sequences(X_test, padding='post', maxlen=100)\n"
   ]
  },
  {
   "cell_type": "code",
   "execution_count": 14,
   "metadata": {},
   "outputs": [
    {
     "data": {
      "text/plain": [
       "(25261, 100)"
      ]
     },
     "execution_count": 14,
     "metadata": {},
     "output_type": "execute_result"
    }
   ],
   "source": [
    "X_train_pad.shape"
   ]
  },
  {
   "cell_type": "code",
   "execution_count": 15,
   "metadata": {},
   "outputs": [
    {
     "data": {
      "text/plain": [
       "94124"
      ]
     },
     "execution_count": 15,
     "metadata": {},
     "output_type": "execute_result"
    }
   ],
   "source": [
    "len(modelvec.wv.key_to_index)"
   ]
  },
  {
   "cell_type": "code",
   "execution_count": 16,
   "metadata": {},
   "outputs": [
    {
     "name": "stdout",
     "output_type": "stream",
     "text": [
      "WARNING:tensorflow:From c:\\Users\\LAKSHMI SRI LASYA\\AppData\\Local\\Programs\\Python\\Python311\\Lib\\site-packages\\keras\\src\\backend.py:873: The name tf.get_default_graph is deprecated. Please use tf.compat.v1.get_default_graph instead.\n",
      "\n",
      "WARNING:tensorflow:From c:\\Users\\LAKSHMI SRI LASYA\\AppData\\Local\\Programs\\Python\\Python311\\Lib\\site-packages\\keras\\src\\optimizers\\__init__.py:309: The name tf.train.Optimizer is deprecated. Please use tf.compat.v1.train.Optimizer instead.\n",
      "\n",
      "Model: \"sequential\"\n",
      "_________________________________________________________________\n",
      " Layer (type)                Output Shape              Param #   \n",
      "=================================================================\n",
      " embedding (Embedding)       (None, 100, 100)          9412400   \n",
      "                                                                 \n",
      " lstm (LSTM)                 (None, 400)               801600    \n",
      "                                                                 \n",
      " dense (Dense)               (None, 1)                 401       \n",
      "                                                                 \n",
      "=================================================================\n",
      "Total params: 10214401 (38.96 MB)\n",
      "Trainable params: 802001 (3.06 MB)\n",
      "Non-trainable params: 9412400 (35.91 MB)\n",
      "_________________________________________________________________\n"
     ]
    }
   ],
   "source": [
    "from keras.regularizers import l1\n",
    "from keras.constraints import max_norm\n",
    "lstm_model1 = Sequential()\n",
    "lstm_model1.add(Embedding(input_dim=len(modelvec.wv.key_to_index), output_dim=modelvec.vector_size, weights=[embedding_matrix], input_length=100, trainable=False))\n",
    "lstm_model1.add(LSTM(400,input_shape=(100, modelvec.vector_size),kernel_regularizer=l1(0.01),kernel_constraint=max_norm(1.)))\n",
    "lstm_model1.add(Dense(1, activation='sigmoid'))\n",
    "\n",
    "lstm_model1.compile(loss='binary_crossentropy', optimizer='adam', metrics=['accuracy'])\n",
    "lstm_model1.summary()"
   ]
  },
  {
   "cell_type": "code",
   "execution_count": 17,
   "metadata": {},
   "outputs": [
    {
     "name": "stdout",
     "output_type": "stream",
     "text": [
      "Epoch 1/10\n",
      "WARNING:tensorflow:From c:\\Users\\LAKSHMI SRI LASYA\\AppData\\Local\\Programs\\Python\\Python311\\Lib\\site-packages\\keras\\src\\utils\\tf_utils.py:492: The name tf.ragged.RaggedTensorValue is deprecated. Please use tf.compat.v1.ragged.RaggedTensorValue instead.\n",
      "\n",
      "WARNING:tensorflow:From c:\\Users\\LAKSHMI SRI LASYA\\AppData\\Local\\Programs\\Python\\Python311\\Lib\\site-packages\\keras\\src\\engine\\base_layer_utils.py:384: The name tf.executing_eagerly_outside_functions is deprecated. Please use tf.compat.v1.executing_eagerly_outside_functions instead.\n",
      "\n",
      "395/395 [==============================] - 369s 911ms/step - loss: 3.6758 - accuracy: 0.8744 - val_loss: 0.9423 - val_accuracy: 0.5021\n",
      "Epoch 2/10\n",
      "395/395 [==============================] - 302s 766ms/step - loss: 1.2790 - accuracy: 0.6939 - val_loss: 1.7235 - val_accuracy: 0.9124\n",
      "Epoch 3/10\n",
      "395/395 [==============================] - 259s 657ms/step - loss: 0.4859 - accuracy: 0.9774 - val_loss: 0.2383 - val_accuracy: 0.9959\n",
      "Epoch 4/10\n",
      "395/395 [==============================] - 258s 654ms/step - loss: 0.2903 - accuracy: 0.9932 - val_loss: 0.2121 - val_accuracy: 0.9945\n",
      "Epoch 5/10\n",
      "395/395 [==============================] - 276s 699ms/step - loss: 0.2181 - accuracy: 0.9968 - val_loss: 0.2100 - val_accuracy: 0.9951\n",
      "Epoch 6/10\n",
      "395/395 [==============================] - 299s 757ms/step - loss: 0.3448 - accuracy: 0.9880 - val_loss: 0.4004 - val_accuracy: 0.8923\n",
      "Epoch 7/10\n",
      "395/395 [==============================] - 337s 853ms/step - loss: 0.2800 - accuracy: 0.9929 - val_loss: 0.2760 - val_accuracy: 0.9956\n",
      "Epoch 8/10\n",
      "395/395 [==============================] - 228s 578ms/step - loss: 0.3734 - accuracy: 0.9923 - val_loss: 0.2103 - val_accuracy: 0.9956\n",
      "Epoch 9/10\n",
      "395/395 [==============================] - 179s 453ms/step - loss: 0.2388 - accuracy: 0.9967 - val_loss: 0.2257 - val_accuracy: 0.9954\n",
      "Epoch 10/10\n",
      "395/395 [==============================] - 170s 430ms/step - loss: 0.2087 - accuracy: 0.9975 - val_loss: 0.3621 - val_accuracy: 0.9959\n"
     ]
    }
   ],
   "source": [
    "history = lstm_model1.fit(X_train_pad, y_train, epochs=10, batch_size=64, validation_data=(X_test_pad, y_test))"
   ]
  },
  {
   "cell_type": "code",
   "execution_count": 18,
   "metadata": {},
   "outputs": [
    {
     "data": {
      "text/plain": [
       "<matplotlib.legend.Legend at 0x174ba4b5f10>"
      ]
     },
     "execution_count": 18,
     "metadata": {},
     "output_type": "execute_result"
    },
    {
     "data": {
      "image/png": "[encoded data removed]",
      "text/plain": [
       "<Figure size 640x480 with 1 Axes>"
      ]
     },
     "metadata": {},
     "output_type": "display_data"
    }
   ],
   "source": [
    "plt.plot(history.history['accuracy'], label='accuracy')\n",
    "plt.plot(history.history['val_accuracy'], label = 'val_accuracy')\n",
    "plt.xlabel('Epoch')\n",
    "plt.ylabel('Accuracy') \n",
    "plt.legend(loc='lower right')"
   ]
  },
  {
   "cell_type": "code",
   "execution_count": 19,
   "metadata": {},
   "outputs": [
    {
     "data": {
      "text/plain": [
       "<matplotlib.legend.Legend at 0x174bb93df10>"
      ]
     },
     "execution_count": 19,
     "metadata": {},
     "output_type": "execute_result"
    },
    {
     "data": {
      "image/png": "[encoded data removed]",
      "text/plain": [
       "<Figure size 640x480 with 1 Axes>"
      ]
     },
     "metadata": {},
     "output_type": "display_data"
    }
   ],
   "source": [
    "#make a graph for loss\n",
    "plt.plot(history.history['loss'], label='loss')\n",
    "plt.plot(history.history['val_loss'], label = 'val_loss')\n",
    "plt.xlabel('Epoch')\n",
    "plt.ylabel('Loss')\n",
    "plt.legend(loc='lower right')\n"
   ]
  },
  {
   "cell_type": "code",
   "execution_count": 31,
   "metadata": {},
   "outputs": [
    {
     "name": "stdout",
     "output_type": "stream",
     "text": [
      "198/198 - 8s - loss: 0.3621 - accuracy: 0.9959 - 8s/epoch - 42ms/step\n"
     ]
    }
   ],
   "source": [
    "test_loss, test_acc = lstm_model1.evaluate(X_test_pad, y_test, verbose=2)   "
   ]
  },
  {
   "cell_type": "code",
   "execution_count": 33,
   "metadata": {},
   "outputs": [
    {
     "name": "stdout",
     "output_type": "stream",
     "text": [
      "1/1 [==============================] - 0s 32ms/step\n",
      "Name Sensitive\n",
      "1/1 [==============================] - 0s 30ms/step\n",
      "Age Sensitive\n",
      "1/1 [==============================] - 0s 97ms/step\n",
      "Gender Sensitive\n",
      "1/1 [==============================] - 0s 31ms/step\n",
      "Blood Type Sensitive\n",
      "1/1 [==============================] - 0s 31ms/step\n",
      "Medical Condition Sensitive\n",
      "1/1 [==============================] - 0s 29ms/step\n",
      "Date of Admission Sensitive\n",
      "1/1 [==============================] - 0s 31ms/step\n",
      "Doctor Sensitive\n",
      "1/1 [==============================] - 0s 36ms/step\n",
      "Hospital Sensitive\n",
      "1/1 [==============================] - 0s 30ms/step\n",
      "Insurance Provider Sensitive\n",
      "1/1 [==============================] - 0s 30ms/step\n",
      "Billing Amount Sensitive\n",
      "1/1 [==============================] - 0s 35ms/step\n",
      "Room Number Sensitive\n",
      "1/1 [==============================] - 0s 31ms/step\n",
      "Admission Type Sensitive\n",
      "1/1 [==============================] - 0s 32ms/step\n",
      "Discharge Date Sensitive\n",
      "1/1 [==============================] - 0s 36ms/step\n",
      "Medication Sensitive\n",
      "1/1 [==============================] - 0s 30ms/step\n",
      "Test Results Sensitive\n",
      "1/1 [==============================] - 0s 32ms/step\n",
      "My social security number is 123-45-6789. Sensitive\n",
      "1/1 [==============================] - 0s 29ms/step\n",
      "My credit card number is 1234 5678 9012 3456. Sensitive\n",
      "1/1 [==============================] - 0s 31ms/step\n",
      "My email address is john.doe@example.com. Sensitive\n",
      "1/1 [==============================] - 0s 31ms/step\n",
      "My phone number is (123) 456-7890. Sensitive\n",
      "1/1 [==============================] - 0s 31ms/step\n",
      "I live at 123 Main St, Anytown, USA. Non-sensitive\n",
      "1/1 [==============================] - 0s 35ms/step\n",
      "I love to play soccer on the weekends. Non-sensitive\n",
      "1/1 [==============================] - 0s 34ms/step\n",
      "My favorite color is blue. Sensitive\n",
      "1/1 [==============================] - 0s 35ms/step\n",
      "I enjoy reading books and listening to music. Non-sensitive\n",
      "1/1 [==============================] - 0s 33ms/step\n",
      "The weather is really nice today. Sensitive\n",
      "1/1 [==============================] - 0s 31ms/step\n",
      "I have a pet dog named Rover. Sensitive\n"
     ]
    }
   ],
   "source": [
    "test = ['Name', 'Age', 'Gender', 'Blood Type', 'Medical Condition',\n",
    "       'Date of Admission', 'Doctor', 'Hospital', 'Insurance Provider',\n",
    "       'Billing Amount', 'Room Number', 'Admission Type', 'Discharge Date',\n",
    "       'Medication', 'Test Results',\"My social security number is 123-45-6789.\",\n",
    "\"My credit card number is 1234 5678 9012 3456.\",\n",
    "\"My email address is john.doe@example.com.\",\n",
    "\"My phone number is (123) 456-7890.\",\n",
    "\"I live at 123 Main St, Anytown, USA.\",\n",
    "\"I love to play soccer on the weekends.\",\n",
    "\"My favorite color is blue.\",\n",
    "\"I enjoy reading books and listening to music.\",\n",
    "\"The weather is really nice today.\",\n",
    "\"I have a pet dog named Rover.\",]\n",
    "for i in test:\n",
    "    seq = tokenizer.texts_to_sequences([i])\n",
    "    pad = pad_sequences(seq, maxlen=100, padding='post')\n",
    "    pred = lstm_model1.predict(pad)\n",
    "    if pred > 0.5:\n",
    "        print(i, 'Sensitive')\n",
    "    else:\n",
    "        print(i, 'Non-sensitive')"
   ]
  },
  {
   "cell_type": "code",
   "execution_count": 23,
   "metadata": {},
   "outputs": [
    {
     "name": "stdout",
     "output_type": "stream",
     "text": [
      "Model: \"sequential_1\"\n",
      "_________________________________________________________________\n",
      " Layer (type)                Output Shape              Param #   \n",
      "=================================================================\n",
      " embedding_1 (Embedding)     (None, 100, 100)          9412400   \n",
      "                                                                 \n",
      " lstm_1 (LSTM)               (None, 300)               481200    \n",
      "                                                                 \n",
      " dense_1 (Dense)             (None, 1)                 301       \n",
      "                                                                 \n",
      "=================================================================\n",
      "Total params: 9893901 (37.74 MB)\n",
      "Trainable params: 481501 (1.84 MB)\n",
      "Non-trainable params: 9412400 (35.91 MB)\n",
      "_________________________________________________________________\n"
     ]
    }
   ],
   "source": [
    "from keras.regularizers import l1\n",
    "from keras.constraints import max_norm\n",
    "lstm_model2 = Sequential()\n",
    "lstm_model2.add(Embedding(input_dim=len(modelvec.wv.key_to_index), output_dim=modelvec.vector_size, weights=[embedding_matrix], input_length=100, trainable=False))\n",
    "lstm_model2.add(LSTM(300,input_shape=(100, modelvec.vector_size),kernel_regularizer=l1(0.01),kernel_constraint=max_norm(1.)))\n",
    "lstm_model2.add(Dense(1, activation='sigmoid'))\n",
    "\n",
    "lstm_model2.compile(loss='binary_crossentropy', optimizer='adam', metrics=['accuracy'])\n",
    "lstm_model2.summary()"
   ]
  },
  {
   "cell_type": "code",
   "execution_count": 24,
   "metadata": {},
   "outputs": [
    {
     "name": "stdout",
     "output_type": "stream",
     "text": [
      "Epoch 1/10\n",
      "395/395 [==============================] - 72s 175ms/step - loss: 4.4543 - accuracy: 0.9076 - val_loss: 0.7724 - val_accuracy: 0.9702\n",
      "Epoch 2/10\n",
      "395/395 [==============================] - 108s 274ms/step - loss: 0.8820 - accuracy: 0.9606 - val_loss: 1.0532 - val_accuracy: 0.9660\n",
      "Epoch 3/10\n",
      "395/395 [==============================] - 2948s 7s/step - loss: 0.8678 - accuracy: 0.9008 - val_loss: 0.8651 - val_accuracy: 0.9712\n",
      "Epoch 4/10\n",
      "395/395 [==============================] - 80s 201ms/step - loss: 0.6981 - accuracy: 0.9144 - val_loss: 1.8255 - val_accuracy: 0.7162\n",
      "Epoch 5/10\n",
      "395/395 [==============================] - 62s 156ms/step - loss: 1.2978 - accuracy: 0.9572 - val_loss: 0.4440 - val_accuracy: 0.9717\n",
      "Epoch 6/10\n",
      "395/395 [==============================] - 90s 229ms/step - loss: 0.2983 - accuracy: 0.9815 - val_loss: 0.2136 - val_accuracy: 0.9921\n",
      "Epoch 7/10\n",
      "395/395 [==============================] - 84s 213ms/step - loss: 0.1885 - accuracy: 0.9945 - val_loss: 0.1617 - val_accuracy: 0.9948\n",
      "Epoch 8/10\n",
      "395/395 [==============================] - 105s 265ms/step - loss: 0.1698 - accuracy: 0.9957 - val_loss: 0.1697 - val_accuracy: 0.9954\n",
      "Epoch 9/10\n",
      "395/395 [==============================] - 95s 240ms/step - loss: 0.1683 - accuracy: 0.9960 - val_loss: 0.1654 - val_accuracy: 0.9938\n",
      "Epoch 10/10\n",
      "395/395 [==============================] - 109s 275ms/step - loss: 0.2023 - accuracy: 0.9949 - val_loss: 0.1723 - val_accuracy: 0.9952\n"
     ]
    }
   ],
   "source": [
    "history = lstm_model2.fit(X_train_pad, y_train, epochs=10, batch_size=64, validation_data=(X_test_pad, y_test))"
   ]
  },
  {
   "cell_type": "code",
   "execution_count": 25,
   "metadata": {},
   "outputs": [
    {
     "name": "stdout",
     "output_type": "stream",
     "text": [
      "198/198 - 11s - loss: 0.1723 - accuracy: 0.9952 - 11s/epoch - 55ms/step\n"
     ]
    }
   ],
   "source": [
    "test_loss, test_acc = lstm_model2.evaluate(X_test_pad, y_test, verbose=2)\n"
   ]
  },
  {
   "cell_type": "code",
   "execution_count": 26,
   "metadata": {},
   "outputs": [
    {
     "name": "stdout",
     "output_type": "stream",
     "text": [
      "Model: \"sequential_2\"\n",
      "_________________________________________________________________\n",
      " Layer (type)                Output Shape              Param #   \n",
      "=================================================================\n",
      " embedding_2 (Embedding)     (None, 100, 100)          9412400   \n",
      "                                                                 \n",
      " lstm_2 (LSTM)               (None, 128)               117248    \n",
      "                                                                 \n",
      " dense_2 (Dense)             (None, 1)                 129       \n",
      "                                                                 \n",
      "=================================================================\n",
      "Total params: 9529777 (36.35 MB)\n",
      "Trainable params: 117377 (458.50 KB)\n",
      "Non-trainable params: 9412400 (35.91 MB)\n",
      "_________________________________________________________________\n"
     ]
    }
   ],
   "source": [
    "from keras.regularizers import l1\n",
    "from keras.constraints import max_norm\n",
    "lstm_model3 = Sequential()\n",
    "lstm_model3.add(Embedding(input_dim=len(modelvec.wv.key_to_index), output_dim=modelvec.vector_size, weights=[embedding_matrix], input_length=100, trainable=False))\n",
    "lstm_model3.add(LSTM(128,input_shape=(100, modelvec.vector_size),kernel_regularizer=l1(0.01),kernel_constraint=max_norm(1.)))\n",
    "lstm_model3.add(Dense(1, activation='sigmoid'))\n",
    "\n",
    "lstm_model3.compile(loss='binary_crossentropy', optimizer='adam', metrics=['accuracy'])\n",
    "lstm_model3.summary()"
   ]
  },
  {
   "cell_type": "code",
   "execution_count": 27,
   "metadata": {},
   "outputs": [
    {
     "name": "stdout",
     "output_type": "stream",
     "text": [
      "Epoch 1/10\n",
      "395/395 [==============================] - 34s 83ms/step - loss: 3.7682 - accuracy: 0.8992 - val_loss: 0.8688 - val_accuracy: 0.9210\n",
      "Epoch 2/10\n",
      "395/395 [==============================] - 40s 103ms/step - loss: 0.6268 - accuracy: 0.9464 - val_loss: 0.4962 - val_accuracy: 0.9508\n",
      "Epoch 3/10\n",
      "395/395 [==============================] - 41s 104ms/step - loss: 0.5436 - accuracy: 0.9594 - val_loss: 0.2743 - val_accuracy: 0.9770\n",
      "Epoch 4/10\n",
      "395/395 [==============================] - 41s 103ms/step - loss: 1.2401 - accuracy: 0.8787 - val_loss: 0.9598 - val_accuracy: 0.9343\n",
      "Epoch 5/10\n",
      "395/395 [==============================] - 41s 104ms/step - loss: 0.4791 - accuracy: 0.9707 - val_loss: 0.5149 - val_accuracy: 0.9786\n",
      "Epoch 6/10\n",
      "395/395 [==============================] - 44s 111ms/step - loss: 0.4706 - accuracy: 0.9703 - val_loss: 0.1870 - val_accuracy: 0.9930\n",
      "Epoch 7/10\n",
      "395/395 [==============================] - 41s 104ms/step - loss: 0.6673 - accuracy: 0.9553 - val_loss: 0.2994 - val_accuracy: 0.9854\n",
      "Epoch 8/10\n",
      "395/395 [==============================] - 41s 104ms/step - loss: 0.3071 - accuracy: 0.9835 - val_loss: 0.1733 - val_accuracy: 0.9918\n",
      "Epoch 9/10\n",
      "395/395 [==============================] - 40s 103ms/step - loss: 0.1858 - accuracy: 0.9928 - val_loss: 0.2422 - val_accuracy: 0.9952\n",
      "Epoch 10/10\n",
      "395/395 [==============================] - 41s 103ms/step - loss: 0.1859 - accuracy: 0.9958 - val_loss: 0.1206 - val_accuracy: 0.9954\n"
     ]
    }
   ],
   "source": [
    "history = lstm_model3.fit(X_train_pad, y_train, epochs=10, batch_size=64, validation_data=(X_test_pad, y_test))"
   ]
  },
  {
   "cell_type": "code",
   "execution_count": 28,
   "metadata": {},
   "outputs": [
    {
     "name": "stdout",
     "output_type": "stream",
     "text": [
      "198/198 - 3s - loss: 0.1206 - accuracy: 0.9954 - 3s/epoch - 14ms/step\n"
     ]
    }
   ],
   "source": [
    "test_loss, test_acc = lstm_model3.evaluate(X_test_pad, y_test, verbose=2)\n"
   ]
  },
  {
   "cell_type": "code",
   "execution_count": null,
   "metadata": {},
   "outputs": [],
   "source": []
  }
 ],
 "metadata": {
  "kernelspec": {
   "display_name": "base",
   "language": "python",
   "name": "python3"
  },
  "language_info": {
   "codemirror_mode": {
    "name": "ipython",
    "version": 3
   },
   "file_extension": ".py",
   "mimetype": "text/x-python",
   "name": "python",
   "nbconvert_exporter": "python",
   "pygments_lexer": "ipython3",
   "version": "3.11.1"
  }
 },
 "nbformat": 4,
 "nbformat_minor": 2
}
