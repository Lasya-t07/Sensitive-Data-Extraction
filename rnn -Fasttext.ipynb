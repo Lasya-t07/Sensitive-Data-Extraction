{
 "cells": [
  {
   "cell_type": "code",
   "execution_count": 5,
   "metadata": {},
   "outputs": [
    {
     "name": "stdout",
     "output_type": "stream",
     "text": [
      "^C\n",
      "Note: you may need to restart the kernel to use updated packages.\n",
      "Requirement already satisfied: keras in c:\\users\\lakshmi sri lasya\\appdata\\local\\programs\\python\\python37\\lib\\site-packages (2.10.0)Note: you may need to restart the kernel to use updated packages.\n",
      "\n"
     ]
    },
    {
     "ename": "ImportError",
     "evalue": "cannot import name 'pad_sequences' from 'keras.preprocessing.sequence' (c:\\Users\\LAKSHMI SRI LASYA\\AppData\\Local\\Programs\\Python\\Python37\\lib\\site-packages\\keras\\preprocessing\\sequence.py)",
     "output_type": "error",
     "traceback": [
      "\u001b[1;31m---------------------------------------------------------------------------\u001b[0m",
      "\u001b[1;31mImportError\u001b[0m                               Traceback (most recent call last)",
      "\u001b[1;32m~\\AppData\\Local\\Temp\\ipykernel_22304\\710720369.py\u001b[0m in \u001b[0;36m<module>\u001b[1;34m\u001b[0m\n\u001b[0;32m      9\u001b[0m \u001b[1;33m\u001b[0m\u001b[0m\n\u001b[0;32m     10\u001b[0m \u001b[1;32mfrom\u001b[0m \u001b[0mtensorflow\u001b[0m\u001b[1;33m.\u001b[0m\u001b[0mkeras\u001b[0m\u001b[1;33m.\u001b[0m\u001b[0mpreprocessing\u001b[0m\u001b[1;33m.\u001b[0m\u001b[0mtext\u001b[0m \u001b[1;32mimport\u001b[0m \u001b[0mTokenizer\u001b[0m\u001b[1;33m\u001b[0m\u001b[1;33m\u001b[0m\u001b[0m\n\u001b[1;32m---> 11\u001b[1;33m \u001b[1;32mfrom\u001b[0m \u001b[0mkeras\u001b[0m\u001b[1;33m.\u001b[0m\u001b[0mpreprocessing\u001b[0m\u001b[1;33m.\u001b[0m\u001b[0msequence\u001b[0m \u001b[1;32mimport\u001b[0m \u001b[0mpad_sequences\u001b[0m\u001b[1;33m\u001b[0m\u001b[1;33m\u001b[0m\u001b[0m\n\u001b[0m\u001b[0;32m     12\u001b[0m \u001b[1;33m\u001b[0m\u001b[0m\n\u001b[0;32m     13\u001b[0m \u001b[1;32mfrom\u001b[0m \u001b[0mkeras\u001b[0m\u001b[1;33m.\u001b[0m\u001b[0mmodels\u001b[0m \u001b[1;32mimport\u001b[0m \u001b[0mSequential\u001b[0m\u001b[1;33m\u001b[0m\u001b[1;33m\u001b[0m\u001b[0m\n",
      "\u001b[1;31mImportError\u001b[0m: cannot import name 'pad_sequences' from 'keras.preprocessing.sequence' (c:\\Users\\LAKSHMI SRI LASYA\\AppData\\Local\\Programs\\Python\\Python37\\lib\\site-packages\\keras\\preprocessing\\sequence.py)"
     ]
    }
   ],
   "source": [
    "%pip uninstall keras\n",
    "%pip install keras\n",
    "import nltk\n",
    "import string\n",
    "import numpy as np\n",
    "import pandas as pd    \n",
    "import matplotlib.pyplot as plt\n",
    "from sklearn.feature_extraction.text import CountVectorizer\n",
    "\n",
    "from tensorflow.keras.preprocessing.text import Tokenizer\n",
    "from keras.preprocessing.sequence import pad_sequences\n",
    "\n",
    "from keras.models import Sequential\n",
    "from keras.layers import Dense, LSTM, Embedding\n",
    "\n",
    "from nltk.tokenize import word_tokenize\n",
    "from nltk.corpus import stopwords\n",
    "from nltk.stem import PorterStemmer\n",
    "nltk.download('punkt')\n",
    "nltk.download('stopwords')\n",
    "nltk.download('wordnet')"
   ]
  },
  {
   "cell_type": "code",
   "execution_count": null,
   "metadata": {},
   "outputs": [],
   "source": [
    "import json\n",
    "dataList = []\n",
    "sentences = []\n",
    "labels = []\n",
    "def loadDataset(filename):\n",
    "  d=[]\n",
    "  with open(filename, 'r') as f:\n",
    "      datastore = json.load(f)\n",
    "  for item in datastore:\n",
    "    sentence = item['data']\n",
    "    label = item['is_sensitive']\n",
    "    d.append([sentence,label])\n",
    "  return d\n",
    "# Loading both sensitive and non-sensitive dataset\n",
    "sen=loadDataset(\"SensitiveDataset.json\")\n",
    "nonsen=loadDataset(\"NonSensitiveDatasetnew.json\")\n",
    "sen=pd.DataFrame(data=sen,columns=['sentences','labels'])\n",
    "nonsen=pd.DataFrame(data=nonsen,columns=['sentences','labels'])"
   ]
  },
  {
   "cell_type": "code",
   "execution_count": null,
   "metadata": {},
   "outputs": [
    {
     "data": {
      "text/html": [
       "<div>\n",
       "<style scoped>\n",
       "    .dataframe tbody tr th:only-of-type {\n",
       "        vertical-align: middle;\n",
       "    }\n",
       "\n",
       "    .dataframe tbody tr th {\n",
       "        vertical-align: top;\n",
       "    }\n",
       "\n",
       "    .dataframe thead th {\n",
       "        text-align: right;\n",
       "    }\n",
       "</style>\n",
       "<table border=\"1\" class=\"dataframe\">\n",
       "  <thead>\n",
       "    <tr style=\"text-align: right;\">\n",
       "      <th></th>\n",
       "      <th>sentences</th>\n",
       "      <th>labels</th>\n",
       "    </tr>\n",
       "  </thead>\n",
       "  <tbody>\n",
       "    <tr>\n",
       "      <th>0</th>\n",
       "      <td>kya,   colors,    kya@ig.com.br,  7745582051</td>\n",
       "      <td>1</td>\n",
       "    </tr>\n",
       "    <tr>\n",
       "      <th>1</th>\n",
       "      <td>lenora,   cronaldo,    lenora@rocketmail.com,...</td>\n",
       "      <td>1</td>\n",
       "    </tr>\n",
       "    <tr>\n",
       "      <th>2</th>\n",
       "      <td>nihal,   beyonce1,    nihal@sfr.fr,  2268844001</td>\n",
       "      <td>1</td>\n",
       "    </tr>\n",
       "    <tr>\n",
       "      <th>3</th>\n",
       "      <td>card no:8812 3268 4015 7012, expiry month:feb-...</td>\n",
       "      <td>1</td>\n",
       "    </tr>\n",
       "    <tr>\n",
       "      <th>4</th>\n",
       "      <td>the,   krisha,    the@live.it,  6946752372</td>\n",
       "      <td>1</td>\n",
       "    </tr>\n",
       "  </tbody>\n",
       "</table>\n",
       "</div>"
      ],
      "text/plain": [
       "                                           sentences  labels\n",
       "0       kya,   colors,    kya@ig.com.br,  7745582051       1\n",
       "1   lenora,   cronaldo,    lenora@rocketmail.com,...       1\n",
       "2    nihal,   beyonce1,    nihal@sfr.fr,  2268844001       1\n",
       "3  card no:8812 3268 4015 7012, expiry month:feb-...       1\n",
       "4         the,   krisha,    the@live.it,  6946752372       1"
      ]
     },
     "execution_count": 3,
     "metadata": {},
     "output_type": "execute_result"
    }
   ],
   "source": [
    "combined = pd.concat([sen, nonsen])\n",
    "df = combined.sample(frac=1).reset_index(drop=True)\n",
    "df.head()"
   ]
  },
  {
   "cell_type": "code",
   "execution_count": null,
   "metadata": {},
   "outputs": [],
   "source": [
    "tokenized_data = [word_tokenize(sentence) for sentence in df['sentences']]\n",
    "stop_words = set(stopwords.words('english'))\n",
    "punctuations = list(string.punctuation)\n",
    "punctuations.remove('@')\n",
    "stop_words.update(punctuations)\n",
    "stemmer = PorterStemmer()\n",
    "filtered_data = [[stemmer.stem(word) for word in sentence if word.lower() not in stop_words] for sentence in tokenized_data]\n",
    "l=[]\n",
    "for idx, sentence in enumerate(filtered_data):\n",
    "    l.append(' '.join(sentence))\n",
    "df['sentences'] = l"
   ]
  },
  {
   "cell_type": "code",
   "execution_count": null,
   "metadata": {},
   "outputs": [
    {
     "data": {
      "text/html": [
       "<div>\n",
       "<style scoped>\n",
       "    .dataframe tbody tr th:only-of-type {\n",
       "        vertical-align: middle;\n",
       "    }\n",
       "\n",
       "    .dataframe tbody tr th {\n",
       "        vertical-align: top;\n",
       "    }\n",
       "\n",
       "    .dataframe thead th {\n",
       "        text-align: right;\n",
       "    }\n",
       "</style>\n",
       "<table border=\"1\" class=\"dataframe\">\n",
       "  <thead>\n",
       "    <tr style=\"text-align: right;\">\n",
       "      <th></th>\n",
       "      <th>sentences</th>\n",
       "      <th>labels</th>\n",
       "    </tr>\n",
       "  </thead>\n",
       "  <tbody>\n",
       "    <tr>\n",
       "      <th>0</th>\n",
       "      <td>kya color kya @ ig.com.br 7745582051</td>\n",
       "      <td>1</td>\n",
       "    </tr>\n",
       "    <tr>\n",
       "      <th>1</th>\n",
       "      <td>lenora cronaldo lenora @ rocketmail.com 199605...</td>\n",
       "      <td>1</td>\n",
       "    </tr>\n",
       "    <tr>\n",
       "      <th>2</th>\n",
       "      <td>nihal beyonce1 nihal @ sfr.fr 2268844001</td>\n",
       "      <td>1</td>\n",
       "    </tr>\n",
       "    <tr>\n",
       "      <th>3</th>\n",
       "      <td>card no:8812 3268 4015 7012 expiri month feb-2...</td>\n",
       "      <td>1</td>\n",
       "    </tr>\n",
       "    <tr>\n",
       "      <th>4</th>\n",
       "      <td>krisha @ live.it 6946752372</td>\n",
       "      <td>1</td>\n",
       "    </tr>\n",
       "  </tbody>\n",
       "</table>\n",
       "</div>"
      ],
      "text/plain": [
       "                                           sentences  labels\n",
       "0               kya color kya @ ig.com.br 7745582051       1\n",
       "1  lenora cronaldo lenora @ rocketmail.com 199605...       1\n",
       "2           nihal beyonce1 nihal @ sfr.fr 2268844001       1\n",
       "3  card no:8812 3268 4015 7012 expiri month feb-2...       1\n",
       "4                        krisha @ live.it 6946752372       1"
      ]
     },
     "execution_count": 7,
     "metadata": {},
     "output_type": "execute_result"
    }
   ],
   "source": [
    "df.head() "
   ]
  },
  {
   "cell_type": "code",
   "execution_count": null,
   "metadata": {},
   "outputs": [
    {
     "name": "stdout",
     "output_type": "stream",
     "text": [
      "(25261, 2) (6315, 2)\n"
     ]
    }
   ],
   "source": [
    "df_train = df.sample(frac=.8, random_state=11)\n",
    "df_test = df.drop(df_train.index)\n",
    "print(df_train.shape, df_test.shape)"
   ]
  },
  {
   "cell_type": "code",
   "execution_count": null,
   "metadata": {},
   "outputs": [
    {
     "data": {
      "text/plain": [
       "(6315,)"
      ]
     },
     "execution_count": 9,
     "metadata": {},
     "output_type": "execute_result"
    }
   ],
   "source": [
    "y_train = df_train['labels'].values\n",
    "y_test = df_test['labels'].values\n",
    "y_test.shape"
   ]
  },
  {
   "cell_type": "code",
   "execution_count": null,
   "metadata": {},
   "outputs": [],
   "source": [
    "X_train = df_train['sentences'].values\n",
    "X_test = df_test['sentences'].values"
   ]
  },
  {
   "cell_type": "code",
   "execution_count": null,
   "metadata": {},
   "outputs": [
    {
     "name": "stdout",
     "output_type": "stream",
     "text": [
      "25261 10115\n"
     ]
    }
   ],
   "source": [
    "source=len(X_train)\n",
    "max_len= max(len(seq) for seq in X_train)\n",
    "print(source,max_len)"
   ]
  },
  {
   "cell_type": "code",
   "execution_count": null,
   "metadata": {},
   "outputs": [
    {
     "name": "stdout",
     "output_type": "stream",
     "text": [
      "Requirement already satisfied: pybind11 in c:\\users\\lakshmi sri lasya\\appdata\\local\\programs\\python\\python311\\lib\\site-packages (2.12.0)Note: you may need to restart the kernel to use updated packages.\n",
      "\n"
     ]
    }
   ],
   "source": [
    "%pip install pybind11"
   ]
  },
  {
   "cell_type": "code",
   "execution_count": null,
   "metadata": {},
   "outputs": [
    {
     "name": "stdout",
     "output_type": "stream",
     "text": [
      "Collecting fasttext\n",
      "  Using cached fasttext-0.9.2.tar.gz (68 kB)\n",
      "  Preparing metadata (setup.py): started\n",
      "  Preparing metadata (setup.py): finished with status 'done'\n",
      "Requirement already satisfied: pybind11>=2.2 in c:\\users\\lakshmi sri lasya\\appdata\\local\\programs\\python\\python311\\lib\\site-packages (from fasttext) (2.12.0)\n",
      "Requirement already satisfied: setuptools>=0.7.0 in c:\\users\\lakshmi sri lasya\\appdata\\local\\programs\\python\\python311\\lib\\site-packages (from fasttext) (65.5.0)\n",
      "Requirement already satisfied: numpy in c:\\users\\lakshmi sri lasya\\appdata\\local\\programs\\python\\python311\\lib\\site-packages (from fasttext) (1.24.3)\n",
      "Building wheels for collected packages: fasttext\n",
      "  Building wheel for fasttext (setup.py): started\n",
      "  Building wheel for fasttext (setup.py): finished with status 'error'\n",
      "  Running setup.py clean for fasttext\n",
      "Failed to build fasttext\n",
      "Note: you may need to restart the kernel to use updated packages.\n"
     ]
    },
    {
     "name": "stderr",
     "output_type": "stream",
     "text": [
      "  error: subprocess-exited-with-error\n",
      "  \n",
      "  × python setup.py bdist_wheel did not run successfully.\n",
      "  │ exit code: 1\n",
      "  ╰─> [20 lines of output]\n",
      "      c:\\Users\\LAKSHMI SRI LASYA\\AppData\\Local\\Programs\\Python\\Python311\\Lib\\site-packages\\setuptools\\dist.py:771: UserWarning: Usage of dash-separated 'description-file' will not be supported in future versions. Please use the underscore name 'description_file' instead\n",
      "        warnings.warn(\n",
      "      running bdist_wheel\n",
      "      running build\n",
      "      running build_py\n",
      "      creating build\n",
      "      creating build\\lib.win-amd64-cpython-311\n",
      "      creating build\\lib.win-amd64-cpython-311\\fasttext\n",
      "      copying python\\fasttext_module\\fasttext\\FastText.py -> build\\lib.win-amd64-cpython-311\\fasttext\n",
      "      copying python\\fasttext_module\\fasttext\\__init__.py -> build\\lib.win-amd64-cpython-311\\fasttext\n",
      "      creating build\\lib.win-amd64-cpython-311\\fasttext\\util\n",
      "      copying python\\fasttext_module\\fasttext\\util\\util.py -> build\\lib.win-amd64-cpython-311\\fasttext\\util\n",
      "      copying python\\fasttext_module\\fasttext\\util\\__init__.py -> build\\lib.win-amd64-cpython-311\\fasttext\\util\n",
      "      creating build\\lib.win-amd64-cpython-311\\fasttext\\tests\n",
      "      copying python\\fasttext_module\\fasttext\\tests\\test_configurations.py -> build\\lib.win-amd64-cpython-311\\fasttext\\tests\n",
      "      copying python\\fasttext_module\\fasttext\\tests\\test_script.py -> build\\lib.win-amd64-cpython-311\\fasttext\\tests\n",
      "      copying python\\fasttext_module\\fasttext\\tests\\__init__.py -> build\\lib.win-amd64-cpython-311\\fasttext\\tests\n",
      "      running build_ext\n",
      "      building 'fasttext_pybind' extension\n",
      "      error: Microsoft Visual C++ 14.0 or greater is required. Get it with \"Microsoft C++ Build Tools\": https://visualstudio.microsoft.com/visual-cpp-build-tools/\n",
      "      [end of output]\n",
      "  \n",
      "  note: This error originates from a subprocess, and is likely not a problem with pip.\n",
      "  ERROR: Failed building wheel for fasttext\n",
      "ERROR: Could not build wheels for fasttext, which is required to install pyproject.toml-based projects\n"
     ]
    }
   ],
   "source": [
    "%pip install fasttext"
   ]
  },
  {
   "cell_type": "code",
   "execution_count": null,
   "metadata": {},
   "outputs": [
    {
     "ename": "ModuleNotFoundError",
     "evalue": "No module named 'fasttext'",
     "output_type": "error",
     "traceback": [
      "\u001b[1;31m---------------------------------------------------------------------------\u001b[0m",
      "\u001b[1;31mModuleNotFoundError\u001b[0m                       Traceback (most recent call last)",
      "Cell \u001b[1;32mIn[14], line 2\u001b[0m\n\u001b[0;32m      1\u001b[0m \u001b[38;5;66;03m#Use fasttext and create vectors for X_train\u001b[39;00m\n\u001b[1;32m----> 2\u001b[0m \u001b[38;5;28;01mimport\u001b[39;00m \u001b[38;5;21;01mfasttext\u001b[39;00m\n\u001b[0;32m      3\u001b[0m \u001b[38;5;28;01mimport\u001b[39;00m \u001b[38;5;21;01mfasttext\u001b[39;00m\u001b[38;5;21;01m.\u001b[39;00m\u001b[38;5;21;01mutil\u001b[39;00m\n\u001b[0;32m      4\u001b[0m fasttext\u001b[38;5;241m.\u001b[39mutil\u001b[38;5;241m.\u001b[39mdownload_model(\u001b[38;5;124m'\u001b[39m\u001b[38;5;124men\u001b[39m\u001b[38;5;124m'\u001b[39m, if_exists\u001b[38;5;241m=\u001b[39m\u001b[38;5;124m'\u001b[39m\u001b[38;5;124mignore\u001b[39m\u001b[38;5;124m'\u001b[39m)  \u001b[38;5;66;03m# English\u001b[39;00m\n",
      "\u001b[1;31mModuleNotFoundError\u001b[0m: No module named 'fasttext'"
     ]
    }
   ],
   "source": [
    "#Use fasttext and create vectors for X_train\n",
    "import fasttext\n",
    "import fasttext.util\n",
    "fasttext.util.download_model('en', if_exists='ignore')  # English\n",
    "ft = fasttext.load_model('cc.en.300.bin')\n",
    "X_train_vectors = [ft.get_sentence_vector(sentence) for sentence in X_train]\n",
    "X_train_vectors = np.array(X_train_vectors)\n",
    "\n",
    "X_test_vectors = [ft.get_sentence_vector(sentence) for sentence in X_test]\n",
    "X_test_vectors = np.array(X_test_vectors)\n",
    "\n"
   ]
  },
  {
   "cell_type": "code",
   "execution_count": null,
   "metadata": {},
   "outputs": [],
   "source": [
    "tokenizer = Tokenizer(oov_token='<OOV>')\n",
    "tokenizer.fit_on_texts(X_train)\n",
    "word_dict = tokenizer.index_word"
   ]
  },
  {
   "cell_type": "code",
   "execution_count": null,
   "metadata": {},
   "outputs": [
    {
     "name": "stdout",
     "output_type": "stream",
     "text": [
      "[[163, 591, 707, 3292, 1127, 35460], [35461, 47304, 35461, 5102, 519, 47305], [599, 15226, 35462, 4154, 1466, 1075, 1116, 856, 79, 431, 1879, 5618, 465, 375, 183, 14565, 111, 7971, 611, 3257, 785, 616, 68, 815, 1605, 4005, 681, 7456, 4005, 2, 194, 441, 194, 1030, 2506, 8533, 2018, 2223, 2918, 15226, 4005, 2, 1022, 995, 256, 5906, 925, 4005, 15226, 67, 327, 90, 3257, 757], [2318, 47306, 2318, 1205, 609, 47307], [431, 35, 1143, 1566, 2111, 2063, 625, 302, 5357, 769, 3332, 9853, 14, 23, 1078, 399, 277, 251, 68, 1027, 35463, 7583, 468, 13, 1215, 416, 658, 687, 1653, 6248, 1346, 9636, 83, 2823, 55, 219, 21, 357, 769, 1406, 104, 49, 628, 40, 769, 55, 87, 22, 36, 26331, 338, 68, 198, 21, 87, 313, 2982, 410, 139, 47308, 7972, 769, 27, 46, 24, 3901, 1237, 258, 82, 6, 1237, 658, 7261, 1237, 1622, 26, 190, 537, 420, 68, 1442, 1893, 617, 23696, 1237, 109, 405, 1628, 839, 197, 11444, 4, 5981, 769, 1069, 1410, 769, 1312, 7, 296, 13, 416, 10295, 61, 769, 2357, 560, 245, 910, 328, 220, 21, 139, 765, 769, 427, 109, 563, 139, 442, 1662, 42, 288, 274, 2982, 416, 34, 23, 73, 342, 9, 405, 40, 230, 258, 7, 1237, 126, 109, 769, 109, 328, 348, 385, 2173, 227, 82, 22, 1237, 42, 139, 1662, 769, 929, 2252, 769, 48, 15, 184, 1237, 286, 47309, 2708, 489, 3, 801, 2156, 1383, 5311, 203, 802, 4131, 769, 872, 169, 68, 255, 197, 321, 5982, 189, 172, 3477, 22, 1237, 2, 10, 197, 8534, 245, 197, 189, 583, 1237, 1122, 1971, 1237, 3592, 13, 1237, 769, 18, 100, 1434, 16, 10296, 104, 5357, 798, 211, 1027, 35463, 2, 1971, 1237, 2, 13, 115, 399, 798, 1078, 769, 315, 26, 1237, 2, 13, 1411, 183]]\n",
      "sentences    number plate tn 21 ed 5423\n",
      "labels                                1\n",
      "Name: 30720, dtype: object\n",
      "number plate tn 21 ed 5423 "
     ]
    }
   ],
   "source": [
    "X_train_seq = tokenizer.texts_to_sequences(X_train)\n",
    "X_test_seq = tokenizer.texts_to_sequences(X_test)\n",
    "print(X_train_seq[:5])\n",
    "print(df_train.iloc[0,:])\n",
    "for el in X_train_seq[0]:\n",
    "    print(word_dict[el], end=' ')"
   ]
  },
  {
   "cell_type": "code",
   "execution_count": null,
   "metadata": {},
   "outputs": [
    {
     "data": {
      "text/plain": [
       "81838"
      ]
     },
     "execution_count": 13,
     "metadata": {},
     "output_type": "execute_result"
    }
   ],
   "source": [
    "X_train_pad = pad_sequences(X_train_seq, maxlen=20, padding='post')\n",
    "X_test_pad = pad_sequences(X_test_seq, maxlen=20, padding='post')\n",
    "X_train_pad[:5]\n",
    "X_train_pad.shape[0]\n",
    "#get max number in X_train_pad and X_test_pad\n",
    "max_num=max([max(seq) for seq in X_train_pad])\n",
    "max_num"
   ]
  },
  {
   "cell_type": "code",
   "execution_count": null,
   "metadata": {},
   "outputs": [
    {
     "data": {
      "text/plain": [
       "(6315, 20)"
      ]
     },
     "execution_count": 14,
     "metadata": {},
     "output_type": "execute_result"
    }
   ],
   "source": [
    "X_test_pad.shape"
   ]
  },
  {
   "cell_type": "code",
   "execution_count": null,
   "metadata": {},
   "outputs": [
    {
     "name": "stdout",
     "output_type": "stream",
     "text": [
      "WARNING:tensorflow:From c:\\Users\\LAKSHMI SRI LASYA\\AppData\\Local\\Programs\\Python\\Python311\\Lib\\site-packages\\keras\\src\\backend.py:873: The name tf.get_default_graph is deprecated. Please use tf.compat.v1.get_default_graph instead.\n",
      "\n",
      "WARNING:tensorflow:From c:\\Users\\LAKSHMI SRI LASYA\\AppData\\Local\\Programs\\Python\\Python311\\Lib\\site-packages\\keras\\src\\optimizers\\__init__.py:309: The name tf.train.Optimizer is deprecated. Please use tf.compat.v1.train.Optimizer instead.\n",
      "\n",
      "Model: \"sequential\"\n",
      "_________________________________________________________________\n",
      " Layer (type)                Output Shape              Param #   \n",
      "=================================================================\n",
      " embedding (Embedding)       (None, 20, 64)            5237696   \n",
      "                                                                 \n",
      " lstm (LSTM)                 (None, 128)               98816     \n",
      "                                                                 \n",
      " dense (Dense)               (None, 1)                 129       \n",
      "                                                                 \n",
      "=================================================================\n",
      "Total params: 5336641 (20.36 MB)\n",
      "Trainable params: 5336641 (20.36 MB)\n",
      "Non-trainable params: 0 (0.00 Byte)\n",
      "_________________________________________________________________\n"
     ]
    }
   ],
   "source": [
    "from keras.regularizers import l1\n",
    "from keras.constraints import max_norm\n",
    "lstm_model = Sequential()\n",
    "lstm_model.add(Embedding(max_num+1,64, input_length=20))\n",
    "lstm_model.add(LSTM(128,kernel_regularizer=l1(0.01),kernel_constraint=max_norm(2.)))\n",
    "lstm_model.add(Dense(1, activation='sigmoid'))\n",
    "\n",
    "lstm_model.compile(loss='binary_crossentropy', optimizer='adam', metrics=['accuracy'])\n",
    "lstm_model.summary()"
   ]
  },
  {
   "cell_type": "code",
   "execution_count": null,
   "metadata": {},
   "outputs": [
    {
     "name": "stdout",
     "output_type": "stream",
     "text": [
      "Epoch 1/10\n",
      "395/395 [==============================] - 22s 52ms/step - loss: 1.6284 - accuracy: 0.9833 - val_loss: 0.0844 - val_accuracy: 0.9943\n",
      "Epoch 2/10\n",
      "395/395 [==============================] - 20s 51ms/step - loss: 0.0538 - accuracy: 0.9991 - val_loss: 0.0451 - val_accuracy: 0.9990\n",
      "Epoch 3/10\n",
      "395/395 [==============================] - 20s 51ms/step - loss: 0.0479 - accuracy: 0.9995 - val_loss: 0.0557 - val_accuracy: 0.9995\n",
      "Epoch 4/10\n",
      "395/395 [==============================] - 20s 52ms/step - loss: 0.0823 - accuracy: 0.9992 - val_loss: 0.0608 - val_accuracy: 0.9984\n",
      "Epoch 5/10\n",
      "395/395 [==============================] - 20s 51ms/step - loss: 0.0431 - accuracy: 1.0000 - val_loss: 0.0442 - val_accuracy: 0.9989\n",
      "Epoch 6/10\n",
      "395/395 [==============================] - 20s 51ms/step - loss: 0.0375 - accuracy: 1.0000 - val_loss: 0.0480 - val_accuracy: 0.9970\n",
      "Epoch 7/10\n",
      "395/395 [==============================] - 20s 51ms/step - loss: 0.0374 - accuracy: 1.0000 - val_loss: 0.0673 - val_accuracy: 0.9956\n",
      "Epoch 8/10\n",
      "395/395 [==============================] - 20s 52ms/step - loss: 0.0374 - accuracy: 1.0000 - val_loss: 0.0436 - val_accuracy: 0.9992\n",
      "Epoch 9/10\n",
      "395/395 [==============================] - 21s 53ms/step - loss: 0.2418 - accuracy: 0.9990 - val_loss: 0.1611 - val_accuracy: 0.9984\n",
      "Epoch 10/10\n",
      "395/395 [==============================] - 28s 70ms/step - loss: 0.0806 - accuracy: 0.9998 - val_loss: 0.0777 - val_accuracy: 0.9965\n"
     ]
    }
   ],
   "source": [
    "history = lstm_model.fit(X_train_pad, y_train, epochs=10, batch_size=64, validation_data=(X_test_pad, y_test))"
   ]
  },
  {
   "cell_type": "code",
   "execution_count": null,
   "metadata": {},
   "outputs": [
    {
     "data": {
      "text/plain": [
       "<matplotlib.legend.Legend at 0x1db2ff1d5d0>"
      ]
     },
     "execution_count": 69,
     "metadata": {},
     "output_type": "execute_result"
    },
    {
     "data": {
      "image/png": "[encoded data removed]",
      "text/plain": [
       "<Figure size 640x480 with 1 Axes>"
      ]
     },
     "metadata": {},
     "output_type": "display_data"
    }
   ],
   "source": [
    "plt.plot(history.history['accuracy'], label='accuracy')\n",
    "plt.plot(history.history['val_accuracy'], label = 'val_accuracy')\n",
    "plt.xlabel('Epoch')\n",
    "plt.ylabel('Accuracy')\n",
    "plt.legend(loc='lower right')"
   ]
  },
  {
   "cell_type": "code",
   "execution_count": null,
   "metadata": {},
   "outputs": [
    {
     "name": "stdout",
     "output_type": "stream",
     "text": [
      "198/198 - 1s - loss: 0.0777 - accuracy: 0.9965 - 747ms/epoch - 4ms/step\n"
     ]
    }
   ],
   "source": [
    "test_loss, test_acc = lstm_model.evaluate(X_test_pad, y_test, verbose=2)\n"
   ]
  },
  {
   "cell_type": "code",
   "execution_count": null,
   "metadata": {},
   "outputs": [
    {
     "name": "stdout",
     "output_type": "stream",
     "text": [
      "1/1 [==============================] - 0s 287ms/step\n",
      "Non-sensitive\n"
     ]
    }
   ],
   "source": [
    "test = ['Hi Paul, would you come around tonight']\n",
    "seq = tokenizer.texts_to_sequences(test)\n",
    "\n",
    "pad = pad_sequences(seq, maxlen=20, padding='post')\n",
    "tokenizer.index_word\n",
    "pad\n",
    "pred = lstm_model.predict(pad)\n",
    "# print the class label\n",
    "if pred > 0.5:\n",
    "    print('Sensitive')\n",
    "else:\n",
    "    print('Non-sensitive')"
   ]
  },
  {
   "cell_type": "code",
   "execution_count": null,
   "metadata": {},
   "outputs": [
    {
     "name": "stdout",
     "output_type": "stream",
     "text": [
      "1/1 [==============================] - 0s 20ms/step\n",
      "hi im Lasya, mobile number is 1234567890 Sensitive\n",
      "1/1 [==============================] - 0s 20ms/step\n",
      "my email id is krishna@gmail.com Sensitive\n",
      "1/1 [==============================] - 0s 20ms/step\n",
      "I had an adhaar card with the no 7789 6543 1234 Sensitive\n",
      "1/1 [==============================] - 0s 19ms/step\n",
      "I would like a cup of coffee in the morning Non-sensitive\n"
     ]
    }
   ],
   "source": [
    "test = ['hi im Lasya, mobile number is 1234567890', 'my email id is krishna@gmail.com','I had an adhaar card with the no 7789 6543 1234','I would like a cup of coffee in the morning']\n",
    "for i in test:\n",
    "    seq = tokenizer.texts_to_sequences([i])\n",
    "    pad = pad_sequences(seq, maxlen=20, padding='post')\n",
    "    pred = lstm_model.predict(pad)\n",
    "    if pred > 0.5:\n",
    "        print(i, 'Sensitive')\n",
    "    else:\n",
    "        print(i, 'Non-sensitive')"
   ]
  }
 ],
 "metadata": {
  "kernelspec": {
   "display_name": "base",
   "language": "python",
   "name": "python3"
  },
  "language_info": {
   "codemirror_mode": {
    "name": "ipython",
    "version": 3
   },
   "file_extension": ".py",
   "mimetype": "text/x-python",
   "name": "python",
   "nbconvert_exporter": "python",
   "pygments_lexer": "ipython3",
   "version": "3.7.9"
  }
 },
 "nbformat": 4,
 "nbformat_minor": 2
}
