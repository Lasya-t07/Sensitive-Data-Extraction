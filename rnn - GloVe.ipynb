{
 "cells": [
  {
   "cell_type": "code",
   "execution_count": 1,
   "metadata": {},
   "outputs": [
    {
     "name": "stdout",
     "output_type": "stream",
     "text": [
      "WARNING:tensorflow:From c:\\Users\\LAKSHMI SRI LASYA\\AppData\\Local\\Programs\\Python\\Python311\\Lib\\site-packages\\keras\\src\\losses.py:2976: The name tf.losses.sparse_softmax_cross_entropy is deprecated. Please use tf.compat.v1.losses.sparse_softmax_cross_entropy instead.\n",
      "\n"
     ]
    },
    {
     "name": "stderr",
     "output_type": "stream",
     "text": [
      "[nltk_data] Downloading package punkt to C:\\Users\\LAKSHMI SRI\n",
      "[nltk_data]     LASYA\\AppData\\Roaming\\nltk_data...\n",
      "[nltk_data]   Package punkt is already up-to-date!\n",
      "[nltk_data] Downloading package stopwords to C:\\Users\\LAKSHMI SRI\n",
      "[nltk_data]     LASYA\\AppData\\Roaming\\nltk_data...\n",
      "[nltk_data]   Package stopwords is already up-to-date!\n",
      "[nltk_data] Downloading package wordnet to C:\\Users\\LAKSHMI SRI\n",
      "[nltk_data]     LASYA\\AppData\\Roaming\\nltk_data...\n",
      "[nltk_data]   Package wordnet is already up-to-date!\n"
     ]
    },
    {
     "data": {
      "text/plain": [
       "True"
      ]
     },
     "execution_count": 1,
     "metadata": {},
     "output_type": "execute_result"
    }
   ],
   "source": [
    "import nltk\n",
    "import string\n",
    "import numpy as np\n",
    "import pandas as pd\n",
    "import matplotlib.pyplot as plt\n",
    "from sklearn.feature_extraction.text import CountVectorizer\n",
    "\n",
    "from tensorflow.keras.preprocessing.text import Tokenizer\n",
    "from keras.preprocessing.sequence import pad_sequences\n",
    "\n",
    "from keras.models import Sequential\n",
    "from keras.layers import Dense, LSTM, Embedding\n",
    "\n",
    "from nltk.tokenize import word_tokenize\n",
    "from nltk.corpus import stopwords\n",
    "from nltk.stem import PorterStemmer\n",
    "nltk.download('punkt')\n",
    "nltk.download('stopwords')\n",
    "nltk.download('wordnet')"
   ]
  },
  {
   "cell_type": "code",
   "execution_count": 30,
   "metadata": {},
   "outputs": [],
   "source": [
    "import json\n",
    "dataList = []\n",
    "sentences = []\n",
    "labels = []\n",
    "def loadDataset(filename):\n",
    "  d=[]\n",
    "  with open(filename, 'r') as f:\n",
    "      datastore = json.load(f)\n",
    "  for item in datastore:\n",
    "    sentence = item['data']\n",
    "    label = item['is_sensitive']\n",
    "    d.append([sentence,label])\n",
    "  return d\n",
    "# Loading both sensitive and non-sensitive dataset\n",
    "sen=loadDataset(\"SensitiveDataset.json\")\n",
    "nonsen=loadDataset(\"NonSensitiveDatasetnew.json\")\n",
    "sen=pd.DataFrame(data=sen,columns=['sentences','labels'])\n",
    "nonsen=pd.DataFrame(data=nonsen,columns=['sentences','labels'])"
   ]
  },
  {
   "cell_type": "code",
   "execution_count": 34,
   "metadata": {},
   "outputs": [
    {
     "data": {
      "text/html": [
       "<div>\n",
       "<style scoped>\n",
       "    .dataframe tbody tr th:only-of-type {\n",
       "        vertical-align: middle;\n",
       "    }\n",
       "\n",
       "    .dataframe tbody tr th {\n",
       "        vertical-align: top;\n",
       "    }\n",
       "\n",
       "    .dataframe thead th {\n",
       "        text-align: right;\n",
       "    }\n",
       "</style>\n",
       "<table border=\"1\" class=\"dataframe\">\n",
       "  <thead>\n",
       "    <tr style=\"text-align: right;\">\n",
       "      <th></th>\n",
       "      <th>sentences</th>\n",
       "      <th>labels</th>\n",
       "    </tr>\n",
       "  </thead>\n",
       "  <tbody>\n",
       "    <tr>\n",
       "      <th>0</th>\n",
       "      <td>card no:6546 2697 4263 5350, expiry month:apr-...</td>\n",
       "      <td>1</td>\n",
       "    </tr>\n",
       "    <tr>\n",
       "      <th>1</th>\n",
       "      <td>brooklynn,   molly1,    brooklynn@ntlworld.co...</td>\n",
       "      <td>1</td>\n",
       "    </tr>\n",
       "    <tr>\n",
       "      <th>2</th>\n",
       "      <td>Toodie and Budge are identified as the two bes...</td>\n",
       "      <td>0</td>\n",
       "    </tr>\n",
       "    <tr>\n",
       "      <th>3</th>\n",
       "      <td>In a New York City park, hippies have gathered...</td>\n",
       "      <td>0</td>\n",
       "    </tr>\n",
       "    <tr>\n",
       "      <th>4</th>\n",
       "      <td>pan number:rwpk7747skpe, full name:kanchana  k...</td>\n",
       "      <td>1</td>\n",
       "    </tr>\n",
       "  </tbody>\n",
       "</table>\n",
       "</div>"
      ],
      "text/plain": [
       "                                           sentences  labels\n",
       "0  card no:6546 2697 4263 5350, expiry month:apr-...       1\n",
       "1   brooklynn,   molly1,    brooklynn@ntlworld.co...       1\n",
       "2  Toodie and Budge are identified as the two bes...       0\n",
       "3  In a New York City park, hippies have gathered...       0\n",
       "4  pan number:rwpk7747skpe, full name:kanchana  k...       1"
      ]
     },
     "execution_count": 34,
     "metadata": {},
     "output_type": "execute_result"
    }
   ],
   "source": [
    "combined = pd.concat([sen, nonsen])\n",
    "df = combined.sample(frac=1).reset_index(drop=True)\n",
    "df.head()"
   ]
  },
  {
   "cell_type": "code",
   "execution_count": 35,
   "metadata": {},
   "outputs": [],
   "source": [
    "tokenized_data = [word_tokenize(sentence) for sentence in df['sentences']]\n",
    "stop_words = set(stopwords.words('english'))\n",
    "punctuations = list(string.punctuation)\n",
    "punctuations.remove('@')\n",
    "stop_words.update(punctuations)\n",
    "stemmer = PorterStemmer()\n",
    "filtered_data = [[stemmer.stem(word) for word in sentence if word.lower() not in stop_words] for sentence in tokenized_data]\n",
    "l=[]\n",
    "for idx, sentence in enumerate(filtered_data):\n",
    "    l.append(' '.join(sentence))\n",
    "df['sentences'] = l"
   ]
  },
  {
   "cell_type": "code",
   "execution_count": 36,
   "metadata": {},
   "outputs": [
    {
     "data": {
      "text/html": [
       "<div>\n",
       "<style scoped>\n",
       "    .dataframe tbody tr th:only-of-type {\n",
       "        vertical-align: middle;\n",
       "    }\n",
       "\n",
       "    .dataframe tbody tr th {\n",
       "        vertical-align: top;\n",
       "    }\n",
       "\n",
       "    .dataframe thead th {\n",
       "        text-align: right;\n",
       "    }\n",
       "</style>\n",
       "<table border=\"1\" class=\"dataframe\">\n",
       "  <thead>\n",
       "    <tr style=\"text-align: right;\">\n",
       "      <th></th>\n",
       "      <th>sentences</th>\n",
       "      <th>labels</th>\n",
       "    </tr>\n",
       "  </thead>\n",
       "  <tbody>\n",
       "    <tr>\n",
       "      <th>0</th>\n",
       "      <td>card no:6546 2697 4263 5350 expiri month apr-2...</td>\n",
       "      <td>1</td>\n",
       "    </tr>\n",
       "    <tr>\n",
       "      <th>1</th>\n",
       "      <td>brooklynn molly1 brooklynn @ ntlworld.com 6717...</td>\n",
       "      <td>1</td>\n",
       "    </tr>\n",
       "    <tr>\n",
       "      <th>2</th>\n",
       "      <td>toodi budg identifi two best children world en...</td>\n",
       "      <td>0</td>\n",
       "    </tr>\n",
       "    <tr>\n",
       "      <th>3</th>\n",
       "      <td>new york citi park hippi gather guitar sing pr...</td>\n",
       "      <td>0</td>\n",
       "    </tr>\n",
       "    <tr>\n",
       "      <th>4</th>\n",
       "      <td>pan number rwpk7747skpe full name kanchana kum...</td>\n",
       "      <td>1</td>\n",
       "    </tr>\n",
       "  </tbody>\n",
       "</table>\n",
       "</div>"
      ],
      "text/plain": [
       "                                           sentences  labels\n",
       "0  card no:6546 2697 4263 5350 expiri month apr-2...       1\n",
       "1  brooklynn molly1 brooklynn @ ntlworld.com 6717...       1\n",
       "2  toodi budg identifi two best children world en...       0\n",
       "3  new york citi park hippi gather guitar sing pr...       0\n",
       "4  pan number rwpk7747skpe full name kanchana kum...       1"
      ]
     },
     "execution_count": 36,
     "metadata": {},
     "output_type": "execute_result"
    }
   ],
   "source": [
    "df.head() "
   ]
  },
  {
   "cell_type": "code",
   "execution_count": 37,
   "metadata": {},
   "outputs": [
    {
     "name": "stdout",
     "output_type": "stream",
     "text": [
      "(25261, 2) (6315, 2)\n"
     ]
    }
   ],
   "source": [
    "df_train = df.sample(frac=.8, random_state=11)\n",
    "df_test = df.drop(df_train.index)\n",
    "print(df_train.shape, df_test.shape)"
   ]
  },
  {
   "cell_type": "code",
   "execution_count": 38,
   "metadata": {},
   "outputs": [
    {
     "data": {
      "text/plain": [
       "(25261,)"
      ]
     },
     "execution_count": 38,
     "metadata": {},
     "output_type": "execute_result"
    }
   ],
   "source": [
    "y_train = df_train['labels'].values\n",
    "y_test = df_test['labels'].values\n",
    "y_test.shape\n",
    "y_train.shape"
   ]
  },
  {
   "cell_type": "code",
   "execution_count": 39,
   "metadata": {},
   "outputs": [],
   "source": [
    "X_train = df_train['sentences'].values\n",
    "X_test = df_test['sentences'].values"
   ]
  },
  {
   "cell_type": "code",
   "execution_count": 11,
   "metadata": {},
   "outputs": [
    {
     "name": "stdout",
     "output_type": "stream",
     "text": [
      "25261 14225\n"
     ]
    }
   ],
   "source": [
    "source=len(X_train)\n",
    "max_len= max(len(seq) for seq in X_train)\n",
    "print(source,max_len)"
   ]
  },
  {
   "cell_type": "code",
   "execution_count": 40,
   "metadata": {},
   "outputs": [
    {
     "data": {
      "text/plain": [
       "81931"
      ]
     },
     "execution_count": 40,
     "metadata": {},
     "output_type": "execute_result"
    }
   ],
   "source": [
    "# Load the embeddings\n",
    "embeddings_index = {}\n",
    "with open('glove.6B.100d.txt',encoding='utf-8') as f:\n",
    "    for line in f:\n",
    "        values = line.split()\n",
    "        word = values[0]\n",
    "        coefs = np.asarray(values[1:], dtype='float32')\n",
    "        embeddings_index[word] = coefs\n",
    "\n",
    "# Prepare the Tokenizer\n",
    "tokenizer = Tokenizer(oov_token=\"<OOV>\")\n",
    "tokenizer.fit_on_texts(X_train)  # `texts` is your list of texts\n",
    "word_index = tokenizer.word_index\n",
    "\n",
    "# Prepare the Embedding matrix\n",
    "embedding_dim = 100 # This should match the dimension of the embeddings you are using\n",
    "embedding_matrix = np.zeros((len(word_index) + 1, embedding_dim))\n",
    "for word, i in word_index.items():\n",
    "    embedding_vector = embeddings_index.get(word)\n",
    "    if embedding_vector is not None:\n",
    "        embedding_matrix[i] = embedding_vector\n",
    "len(word_index)"
   ]
  },
  {
   "cell_type": "code",
   "execution_count": 41,
   "metadata": {},
   "outputs": [
    {
     "name": "stdout",
     "output_type": "stream",
     "text": [
      "[[35460, 8848, 35460, 4937, 154, 47310], [4264, 1966, 45, 90, 1572, 6992, 47311, 52, 29, 16, 166, 124, 3584, 328, 1281, 102, 64, 46, 966, 624, 2, 262, 2189, 759, 4075, 47312, 536, 1350, 474, 2189, 119, 464, 922, 30018, 11758, 845, 30019, 480, 4097, 197, 775, 8395, 9824, 416, 64, 362, 64, 1572, 941, 674, 17664, 105, 57, 2, 554, 2275, 61, 1855, 2530, 343, 2774, 1572, 102, 464, 74, 554, 374, 742, 515, 277, 945, 260, 197, 1572, 4, 464, 695, 2275, 415, 4, 22, 16744, 139, 330, 345, 429, 8, 88, 116, 464, 7, 47313, 80, 474, 57, 225, 335, 47314, 429, 4778, 197, 1572, 2, 7392, 844, 21613, 416, 9407, 945, 620, 197, 464, 1678, 29, 265, 986, 810, 2323, 2855, 18, 1638, 2571, 117, 1293, 168, 9407, 463, 1572, 53, 176, 233, 23, 35461, 3090, 1572, 2, 550, 464, 169, 197, 286, 1572, 2, 8849, 725, 3751, 214, 152, 335, 149, 17, 8, 4021, 1583, 492, 627, 106, 2, 395, 60, 323, 35462, 542, 255, 100, 1572, 464, 1572, 30, 7, 3028, 1572, 2, 111, 130, 49, 197, 278, 691, 8111, 89, 30, 106, 2, 334, 489, 60, 803, 102, 60, 1248, 1572, 343, 362, 125, 108, 92, 66, 2531, 1572, 5458, 466, 396, 1800, 662, 92, 1067, 92, 152, 89, 391, 762, 3, 60, 80, 1036, 1572, 2241, 447, 51, 2124, 208, 12, 53, 208, 1572, 1545, 4450, 152, 89, 391, 951, 2668, 47315, 104, 4450, 152, 391, 762, 9, 1572, 208, 464, 2856, 98, 3, 250, 60, 2, 260, 36, 1572, 986, 32, 149, 197, 464, 323, 917, 106, 2, 334, 464, 393, 21, 1194, 284, 3039, 89, 470, 625, 4097, 197, 1572, 26, 1572, 7, 25, 360, 614, 2538, 1495, 392, 2031, 739, 2, 182, 222, 26, 1572, 728, 183, 638, 464, 1572, 464, 158, 142, 197, 277, 880, 39, 648, 1239, 2022, 797, 9407, 1572, 2, 920, 447, 464, 10544, 391, 24, 781, 797, 448, 197, 38, 6079, 1572, 2, 931, 464, 2, 74, 61, 1572, 1425, 120, 158, 2775, 11419, 1572, 464, 146, 252, 24, 421, 1572, 951, 3416, 325, 2031, 187, 624, 1405, 29], [31, 10818, 2, 747, 1709, 6209, 11110, 2698, 47316, 116, 4355, 1392, 10818, 34, 116, 205, 27, 417, 165, 35463, 1350, 8, 4179, 47317, 35464, 101, 337, 3417, 1876, 10818, 6148, 4180, 820, 70, 144, 17665, 1533, 45, 90, 10818, 1321, 902, 1669, 141, 809, 760, 66, 647, 3919, 234, 66, 647, 1363, 2190, 2491, 438, 15264, 809, 46, 105, 23671, 1412, 1759, 379, 809, 902, 1984, 2078, 174, 10281, 1578, 709, 752, 73, 3606, 7090, 379, 809, 2959, 14619, 278, 1430, 902, 1984, 10818, 323, 12, 3707, 929, 618, 992, 1189, 1121, 6, 95, 3707, 2, 2370, 47318, 662, 3707, 719, 3193, 10818, 127, 1953, 23671, 2514, 922, 1759, 26239, 5721, 5770, 886, 809, 7845, 9221, 2417, 1412, 10818, 2, 4528, 1478, 12528, 47319, 47320, 2960, 37, 2504, 57, 3063, 1759, 366, 560, 709, 3752, 228, 3040, 606, 1442, 6344, 10818, 1412, 719, 6417, 3585, 3651, 1512, 2492, 3684, 3585, 1756, 37, 230, 866, 2728, 844, 3752, 2, 826, 3552, 3707, 43, 519, 13488, 375, 186, 150, 792, 3752, 73, 694, 809, 2370, 1311, 809, 627, 1430, 561, 1103, 499, 1181, 4288, 5771, 46, 10282, 810, 4700, 260, 3707, 1495, 31, 21614, 119, 7846, 610, 21, 16, 499, 41, 14620, 255, 961, 7846, 52, 874, 499, 2417, 19994, 10818, 2191, 673, 116, 1425, 251, 15961, 2743, 47321, 21, 66, 2680, 2038, 3707, 1137, 19995, 3707, 405, 3063, 2937, 2334, 14621, 7846, 2681, 7845, 2417, 2061, 10818, 739, 6495, 816, 80, 837, 95, 126, 2217, 95, 126, 117, 10818, 349, 184, 31, 15, 185, 887, 992, 3731, 932, 330, 14622, 457, 8, 35464, 301, 3791, 747, 2539, 10818, 8536, 3180, 4414, 4779, 47322, 1877, 335, 4050, 253, 10818, 88, 7472, 474, 57], [26240, 334, 4003, 253, 147, 299, 755, 566, 1821, 521, 9408, 3, 4701, 458, 4608, 899, 3771, 95, 5029, 11111, 10819, 110, 32, 466, 1615, 7205, 15962, 26, 9408, 169, 7, 561, 161, 174, 108, 304, 9408, 2, 3207, 2206, 29, 3896, 323, 3117, 469, 8679, 47323, 102, 1524, 3418, 9408, 1184, 102, 1138, 30020, 304, 98, 198, 9408, 317, 2744, 3117, 20, 1103, 242, 726, 2, 3041, 2396, 4181, 30, 319, 5260, 125, 1047, 88, 174, 26, 594, 322, 303, 412, 9408, 835, 879, 157, 570, 9408, 56, 620, 2, 171, 835, 33, 26, 579, 1138, 42, 99, 594, 807, 47, 9408, 637, 86, 570, 776, 594, 1138, 3080, 43, 303, 720, 7, 174, 38, 72, 1269, 282, 132, 9408, 440, 12, 433, 90, 594, 137, 595, 89, 97, 99, 85, 532, 438, 38, 142, 37, 253, 9408, 1199, 119, 174, 89, 554, 594, 2207], [103, 2459, 10545, 14020, 663, 4451, 21, 461, 3667, 9825, 2023, 446, 2290, 1871, 1485, 4022, 5307, 455, 2626, 68, 461, 2066, 808, 129, 45, 30, 103, 29, 308, 211, 1502, 441, 3732, 1616, 1418, 140, 8, 53, 7593, 48, 461, 2869, 3091, 262, 81, 841, 100, 122, 1607, 190, 4356, 12107, 3091, 22, 508, 4, 4779, 12108, 15, 155, 103, 34, 103, 463, 1314, 32, 182, 551, 4356, 77, 22, 2, 889, 278, 398, 62, 2, 71, 474, 2626, 68, 4356, 37, 171, 2377, 17666, 524, 1943, 2418, 103, 77, 4356, 2, 266, 10, 295, 47324, 831, 1147, 566, 83, 62, 2, 71, 295, 1207, 5772, 140, 821, 1375, 5773, 4356, 1792, 1278, 3792, 3817, 326, 2419, 4356, 3817, 326, 436, 820, 378, 4779, 12108, 6913, 4609, 297, 3538, 3217, 2192, 56, 326, 648, 326, 80, 14021, 2192, 36, 4004, 371, 401, 326, 74, 4004, 12108, 56, 4, 26241, 23672, 372, 3, 2192, 1690, 89, 104, 1625, 14021, 3, 103, 480, 5261, 34, 4356, 4, 25, 100, 4356, 3092, 3207, 96, 4356, 3080, 29, 1461, 2066, 1401, 35, 103, 211, 203, 492, 102, 83, 492, 4356, 739, 25, 3092, 2377, 524, 1943, 244, 17666, 10820, 81, 1607, 474, 81, 103, 113, 4356, 21, 5772, 103, 114, 211, 39, 4206, 552, 3539, 3830, 13489, 2590, 9826, 12109, 1405, 974, 1527, 749, 4356, 2, 862, 103, 1822, 2093, 1546, 457, 856, 1251, 3920, 706, 12108, 3, 4494, 4356, 97, 266, 12108, 185, 4356, 18714, 989, 4356, 1691, 2755, 103, 77, 1871, 2699, 1251, 3920, 2, 461, 48, 1985, 1979, 11, 2093, 1546, 457, 856, 3092, 32, 115, 4356, 204, 4, 4356, 3106, 253, 103, 125, 1014, 1453, 7977, 3, 4356, 3092, 1379, 646, 103, 50, 12, 1502, 441, 9, 211, 25, 2599, 693, 374, 103, 4356, 465, 3347, 2131, 516, 6277, 2997]]\n",
      "sentences    caridad clover caridad @ googlemail.com 202416...\n",
      "labels                                                       1\n",
      "Name: 30720, dtype: object\n",
      "[35460, 8848, 35460, 4937, 154, 47310]\n"
     ]
    }
   ],
   "source": [
    "X_train_seq = tokenizer.texts_to_sequences(X_train)\n",
    "X_test_seq = tokenizer.texts_to_sequences(X_test)\n",
    "print(X_train_seq[:5])\n",
    "print(df_train.iloc[0,:])\n",
    "print(X_train_seq[0])\n"
   ]
  },
  {
   "cell_type": "code",
   "execution_count": 42,
   "metadata": {},
   "outputs": [
    {
     "data": {
      "text/plain": [
       "81931"
      ]
     },
     "execution_count": 42,
     "metadata": {},
     "output_type": "execute_result"
    }
   ],
   "source": [
    "X_train_pad = pad_sequences(X_train_seq, maxlen=100, padding='post')\n",
    "X_test_pad = pad_sequences(X_test_seq, maxlen=100, padding='post')\n",
    "X_train_pad[:5]\n",
    "X_train_pad.shape[0]\n",
    "#get max number in X_train_pad and X_test_pad\n",
    "max_num=max([max(seq) for seq in X_train_pad])\n",
    "max_num"
   ]
  },
  {
   "cell_type": "code",
   "execution_count": 15,
   "metadata": {},
   "outputs": [
    {
     "data": {
      "text/plain": [
       "(6315, 100)"
      ]
     },
     "execution_count": 15,
     "metadata": {},
     "output_type": "execute_result"
    }
   ],
   "source": [
    "X_test_pad.shape"
   ]
  },
  {
   "cell_type": "code",
   "execution_count": 16,
   "metadata": {},
   "outputs": [
    {
     "data": {
      "text/plain": [
       "(25261, 100)"
      ]
     },
     "execution_count": 16,
     "metadata": {},
     "output_type": "execute_result"
    }
   ],
   "source": [
    "X_train_pad.shape"
   ]
  },
  {
   "cell_type": "code",
   "execution_count": 17,
   "metadata": {},
   "outputs": [
    {
     "name": "stdout",
     "output_type": "stream",
     "text": [
      "WARNING:tensorflow:From c:\\Users\\LAKSHMI SRI LASYA\\AppData\\Local\\Programs\\Python\\Python311\\Lib\\site-packages\\keras\\src\\backend.py:873: The name tf.get_default_graph is deprecated. Please use tf.compat.v1.get_default_graph instead.\n",
      "\n",
      "WARNING:tensorflow:From c:\\Users\\LAKSHMI SRI LASYA\\AppData\\Local\\Programs\\Python\\Python311\\Lib\\site-packages\\keras\\src\\optimizers\\__init__.py:309: The name tf.train.Optimizer is deprecated. Please use tf.compat.v1.train.Optimizer instead.\n",
      "\n",
      "Model: \"sequential\"\n",
      "_________________________________________________________________\n",
      " Layer (type)                Output Shape              Param #   \n",
      "=================================================================\n",
      " embedding (Embedding)       (None, None, 100)         8188000   \n",
      "                                                                 \n",
      " lstm (LSTM)                 (None, 100)               80400     \n",
      "                                                                 \n",
      " dropout (Dropout)           (None, 100)               0         \n",
      "                                                                 \n",
      " dense (Dense)               (None, 1)                 101       \n",
      "                                                                 \n",
      "=================================================================\n",
      "Total params: 8268501 (31.54 MB)\n",
      "Trainable params: 80501 (314.46 KB)\n",
      "Non-trainable params: 8188000 (31.23 MB)\n",
      "_________________________________________________________________\n"
     ]
    }
   ],
   "source": [
    "from keras.regularizers import l1\n",
    "from keras.constraints import max_norm\n",
    "from keras.layers import Dropout\n",
    "\n",
    "lstm_model = Sequential()\n",
    "lstm_model.add(Embedding(len(word_index) + 1,\n",
    "                            embedding_dim,\n",
    "                            weights=[embedding_matrix],\n",
    "                            trainable=False))\n",
    "lstm_model.add(LSTM(100,kernel_regularizer=l1(0.01), kernel_constraint=max_norm(2.)))\n",
    "lstm_model.add(Dropout(0.2))\n",
    "lstm_model.add(Dense(1, activation='sigmoid'))\n",
    "\n",
    "lstm_model.compile(loss='binary_crossentropy', optimizer='adam', metrics=['accuracy'])\n",
    "lstm_model.summary()"
   ]
  },
  {
   "cell_type": "code",
   "execution_count": 18,
   "metadata": {},
   "outputs": [
    {
     "name": "stdout",
     "output_type": "stream",
     "text": [
      "Epoch 1/10\n",
      "WARNING:tensorflow:From c:\\Users\\LAKSHMI SRI LASYA\\AppData\\Local\\Programs\\Python\\Python311\\Lib\\site-packages\\keras\\src\\utils\\tf_utils.py:492: The name tf.ragged.RaggedTensorValue is deprecated. Please use tf.compat.v1.ragged.RaggedTensorValue instead.\n",
      "\n",
      "WARNING:tensorflow:From c:\\Users\\LAKSHMI SRI LASYA\\AppData\\Local\\Programs\\Python\\Python311\\Lib\\site-packages\\keras\\src\\engine\\base_layer_utils.py:384: The name tf.executing_eagerly_outside_functions is deprecated. Please use tf.compat.v1.executing_eagerly_outside_functions instead.\n",
      "\n",
      "395/395 [==============================] - 37s 89ms/step - loss: 3.9892 - accuracy: 0.8817 - val_loss: 0.6305 - val_accuracy: 0.9205\n",
      "Epoch 2/10\n",
      "395/395 [==============================] - 34s 85ms/step - loss: 0.9084 - accuracy: 0.9028 - val_loss: 1.1873 - val_accuracy: 0.8950\n",
      "Epoch 3/10\n",
      "395/395 [==============================] - 34s 87ms/step - loss: 0.4288 - accuracy: 0.9759 - val_loss: 0.2020 - val_accuracy: 0.9970\n",
      "Epoch 4/10\n",
      "395/395 [==============================] - 34s 85ms/step - loss: 0.2394 - accuracy: 0.9942 - val_loss: 0.2564 - val_accuracy: 0.9956\n",
      "Epoch 5/10\n",
      "395/395 [==============================] - 35s 88ms/step - loss: 0.6379 - accuracy: 0.9435 - val_loss: 0.5471 - val_accuracy: 0.9302\n",
      "Epoch 6/10\n",
      "395/395 [==============================] - 34s 86ms/step - loss: 4.4339 - accuracy: 0.7157 - val_loss: 2.7678 - val_accuracy: 0.8811\n",
      "Epoch 7/10\n",
      "395/395 [==============================] - 35s 88ms/step - loss: 2.1296 - accuracy: 0.9536 - val_loss: 1.6391 - val_accuracy: 0.9827\n",
      "Epoch 8/10\n",
      "395/395 [==============================] - 34s 86ms/step - loss: 1.4283 - accuracy: 0.9799 - val_loss: 1.1512 - val_accuracy: 0.9862\n",
      "Epoch 9/10\n",
      "395/395 [==============================] - 35s 88ms/step - loss: 0.9652 - accuracy: 0.9909 - val_loss: 0.7667 - val_accuracy: 0.9952\n",
      "Epoch 10/10\n",
      "395/395 [==============================] - 35s 88ms/step - loss: 0.7410 - accuracy: 0.9811 - val_loss: 0.5454 - val_accuracy: 0.9956\n"
     ]
    }
   ],
   "source": [
    "history = lstm_model.fit(X_train_pad, y_train, epochs=10, batch_size=64, validation_data=(X_test_pad, y_test),class_weight={0: 1., 1: 50.})"
   ]
  },
  {
   "cell_type": "code",
   "execution_count": 20,
   "metadata": {},
   "outputs": [
    {
     "data": {
      "text/plain": [
       "<matplotlib.legend.Legend at 0x207ad2b65d0>"
      ]
     },
     "execution_count": 20,
     "metadata": {},
     "output_type": "execute_result"
    },
    {
     "data": {
      "image/png": "[encoded data removed]",
      "text/plain": [
       "<Figure size 640x480 with 1 Axes>"
      ]
     },
     "metadata": {},
     "output_type": "display_data"
    }
   ],
   "source": [
    "plt.plot(history.history['accuracy'], label='accuracy')\n",
    "plt.plot(history.history['val_accuracy'], label = 'val_accuracy')\n",
    "plt.xlabel('Epoch')\n",
    "plt.ylabel('Accuracy')\n",
    "plt.legend(loc='lower right')"
   ]
  },
  {
   "cell_type": "code",
   "execution_count": 21,
   "metadata": {},
   "outputs": [
    {
     "name": "stdout",
     "output_type": "stream",
     "text": [
      "198/198 - 4s - loss: 0.5454 - accuracy: 0.9956 - 4s/epoch - 20ms/step\n"
     ]
    }
   ],
   "source": [
    "test_loss, test_acc = lstm_model.evaluate(X_test_pad, y_test, verbose=2)\n"
   ]
  },
  {
   "cell_type": "code",
   "execution_count": 22,
   "metadata": {},
   "outputs": [
    {
     "data": {
      "image/png": "[encoded data removed]",
      "text/plain": [
       "<Figure size 640x480 with 1 Axes>"
      ]
     },
     "metadata": {},
     "output_type": "display_data"
    }
   ],
   "source": [
    "#Draw graph for loss function\n",
    "plt.plot(history.history['loss'], label='loss')\n",
    "plt.plot(history.history['val_loss'], label = 'val_loss')\n",
    "plt.xlabel('Epoch')\n",
    "plt.ylabel('Loss')\n",
    "plt.legend(loc='upper right')\n",
    "plt.show()\n"
   ]
  },
  {
   "cell_type": "code",
   "execution_count": 23,
   "metadata": {},
   "outputs": [
    {
     "name": "stdout",
     "output_type": "stream",
     "text": [
      "1/1 [==============================] - 0s 310ms/step\n",
      "Non-sensitive\n"
     ]
    }
   ],
   "source": [
    "test = ['Hi Paul, would you come around tonight']\n",
    "seq = tokenizer.texts_to_sequences(test)\n",
    "\n",
    "pad = pad_sequences(seq, maxlen=20, padding='post')\n",
    "tokenizer.index_word\n",
    "pad\n",
    "pred = lstm_model.predict(pad)\n",
    "# print the class label\n",
    "if pred > 0.5:\n",
    "    print('Sensitive')\n",
    "else:\n",
    "    print('Non-sensitive')"
   ]
  },
  {
   "cell_type": "code",
   "execution_count": 25,
   "metadata": {},
   "outputs": [
    {
     "name": "stdout",
     "output_type": "stream",
     "text": [
      "1/1 [==============================] - 0s 33ms/step\n",
      "hi im Lasya, mobile number is 1234567890 Non-sensitive\n",
      "1/1 [==============================] - 0s 34ms/step\n",
      "7789 5643 1234 Sensitive\n",
      "1/1 [==============================] - 0s 33ms/step\n",
      "email id: krishna@gmail.com Sensitive\n",
      "1/1 [==============================] - 0s 31ms/step\n",
      "I would like a cup of coffee in the morning Non-sensitive\n"
     ]
    }
   ],
   "source": [
    "test = ['hi im Lasya, mobile number is 1234567890','7789 5643 1234', 'email id: krishna@gmail.com','I would like a cup of coffee in the morning']\n",
    "for i in test:\n",
    "    seq = tokenizer.texts_to_sequences([i])\n",
    "    pad = pad_sequences(seq, maxlen=20, padding='post')\n",
    "    pred = lstm_model.predict(pad)\n",
    "    if pred > 0.5:\n",
    "        print(i, 'Sensitive')\n",
    "    else:\n",
    "        print(i, 'Non-sensitive')"
   ]
  },
  {
   "cell_type": "code",
   "execution_count": 46,
   "metadata": {},
   "outputs": [
    {
     "name": "stdout",
     "output_type": "stream",
     "text": [
      "Model: \"sequential_3\"\n",
      "_________________________________________________________________\n",
      " Layer (type)                Output Shape              Param #   \n",
      "=================================================================\n",
      " embedding_3 (Embedding)     (None, None, 100)         8193200   \n",
      "                                                                 \n",
      " lstm_3 (LSTM)               (None, 400)               801600    \n",
      "                                                                 \n",
      " dropout_3 (Dropout)         (None, 400)               0         \n",
      "                                                                 \n",
      " dense_3 (Dense)             (None, 1)                 401       \n",
      "                                                                 \n",
      "=================================================================\n",
      "Total params: 8995201 (34.31 MB)\n",
      "Trainable params: 802001 (3.06 MB)\n",
      "Non-trainable params: 8193200 (31.25 MB)\n",
      "_________________________________________________________________\n"
     ]
    }
   ],
   "source": [
    "from keras.regularizers import l1\n",
    "from keras.constraints import max_norm\n",
    "from keras.layers import Dropout\n",
    "\n",
    "lstm_model = Sequential()\n",
    "lstm_model.add(Embedding(len(word_index) + 1,\n",
    "                            embedding_dim,\n",
    "                            weights=[embedding_matrix],\n",
    "                            trainable=False))\n",
    "lstm_model.add(LSTM(400,kernel_regularizer=l1(0.01), kernel_constraint=max_norm(2.)))\n",
    "lstm_model.add(Dropout(0.2))\n",
    "lstm_model.add(Dense(1, activation='sigmoid'))\n",
    "\n",
    "lstm_model.compile(loss='binary_crossentropy', optimizer='adam', metrics=['accuracy'])\n",
    "lstm_model.summary()"
   ]
  },
  {
   "cell_type": "code",
   "execution_count": 47,
   "metadata": {},
   "outputs": [
    {
     "name": "stdout",
     "output_type": "stream",
     "text": [
      "Epoch 1/10\n",
      "395/395 [==============================] - 233s 586ms/step - loss: 6.1550 - accuracy: 0.8824 - val_loss: 1.7199 - val_accuracy: 0.7705\n",
      "Epoch 2/10\n",
      "395/395 [==============================] - 392s 991ms/step - loss: 2.0710 - accuracy: 0.7961 - val_loss: 0.7965 - val_accuracy: 0.9172\n",
      "Epoch 3/10\n",
      "395/395 [==============================] - 170s 429ms/step - loss: 1.0869 - accuracy: 0.8906 - val_loss: 0.4293 - val_accuracy: 0.9900\n",
      "Epoch 4/10\n",
      "395/395 [==============================] - 159s 404ms/step - loss: 1.7164 - accuracy: 0.9076 - val_loss: 12.0608 - val_accuracy: 0.4801\n",
      "Epoch 5/10\n",
      "395/395 [==============================] - 187s 474ms/step - loss: 4.9590 - accuracy: 0.5726 - val_loss: 1.8953 - val_accuracy: 0.6228\n",
      "Epoch 6/10\n",
      "395/395 [==============================] - 162s 411ms/step - loss: 2.1235 - accuracy: 0.8364 - val_loss: 7.0333 - val_accuracy: 0.7482\n",
      "Epoch 7/10\n",
      "395/395 [==============================] - 170s 430ms/step - loss: 2.4543 - accuracy: 0.9673 - val_loss: 0.8609 - val_accuracy: 0.9580\n",
      "Epoch 8/10\n",
      "395/395 [==============================] - 205s 518ms/step - loss: 0.5675 - accuracy: 0.9751 - val_loss: 0.3731 - val_accuracy: 0.9845\n",
      "Epoch 9/10\n",
      "395/395 [==============================] - 194s 490ms/step - loss: 0.3894 - accuracy: 0.9826 - val_loss: 0.3989 - val_accuracy: 0.9775\n",
      "Epoch 10/10\n",
      "395/395 [==============================] - 167s 422ms/step - loss: 0.6728 - accuracy: 0.9791 - val_loss: 0.3764 - val_accuracy: 0.9824\n"
     ]
    }
   ],
   "source": [
    "history = lstm_model.fit(X_train_pad, y_train, epochs=10, batch_size=64, validation_data=(X_test_pad, y_test),class_weight={0: 1., 1: 50.})"
   ]
  },
  {
   "cell_type": "code",
   "execution_count": 48,
   "metadata": {},
   "outputs": [
    {
     "name": "stdout",
     "output_type": "stream",
     "text": [
      "198/198 - 7s - loss: 0.3764 - accuracy: 0.9824 - 7s/epoch - 36ms/step\n"
     ]
    }
   ],
   "source": [
    "test_loss, test_acc = lstm_model.evaluate(X_test_pad, y_test, verbose=2)"
   ]
  },
  {
   "cell_type": "code",
   "execution_count": 54,
   "metadata": {},
   "outputs": [
    {
     "name": "stdout",
     "output_type": "stream",
     "text": [
      "1/1 [==============================] - 0s 23ms/step\n",
      "My social security number is 123-45-6789. Non-sensitive\n",
      "1/1 [==============================] - 0s 21ms/step\n",
      "My credit card number is 1234 5678 9012 3456. Non-sensitive\n",
      "1/1 [==============================] - 0s 22ms/step\n",
      "My email address is john.doe@example.com. Non-sensitive\n",
      "1/1 [==============================] - 0s 20ms/step\n",
      "My phone number is (123) 456-7890. Non-sensitive\n",
      "1/1 [==============================] - 0s 20ms/step\n",
      "I live at 123 Main St, Anytown, USA. Non-sensitive\n",
      "1/1 [==============================] - 0s 25ms/step\n",
      "I love to play soccer on the weekends. Non-sensitive\n",
      "1/1 [==============================] - 0s 20ms/step\n",
      "My favorite color is blue. Non-sensitive\n",
      "1/1 [==============================] - 0s 22ms/step\n",
      "I enjoy reading books and listening to music. Non-sensitive\n",
      "1/1 [==============================] - 0s 22ms/step\n",
      "The weather is really nice today. Non-sensitive\n",
      "1/1 [==============================] - 0s 21ms/step\n",
      "I have a pet dog named Rover. Non-sensitive\n",
      "1/1 [==============================] - 0s 20ms/step\n",
      "Name Sensitive\n",
      "1/1 [==============================] - 0s 23ms/step\n",
      "Age Sensitive\n",
      "1/1 [==============================] - 0s 22ms/step\n",
      "Gender Sensitive\n",
      "1/1 [==============================] - 0s 24ms/step\n",
      "Blood Type Sensitive\n",
      "1/1 [==============================] - 0s 26ms/step\n",
      "Medical Condition Sensitive\n",
      "1/1 [==============================] - 0s 43ms/step\n",
      "Date of Admission Sensitive\n",
      "1/1 [==============================] - 0s 27ms/step\n",
      "Doctor Sensitive\n",
      "1/1 [==============================] - 0s 26ms/step\n",
      "Hospital Sensitive\n",
      "1/1 [==============================] - 0s 21ms/step\n",
      "Insurance Provider Sensitive\n",
      "1/1 [==============================] - 0s 24ms/step\n",
      "Billing Amount Sensitive\n",
      "1/1 [==============================] - 0s 25ms/step\n",
      "Room Number Sensitive\n",
      "1/1 [==============================] - 0s 21ms/step\n",
      "Admission Type Sensitive\n",
      "1/1 [==============================] - 0s 22ms/step\n",
      "Discharge Date Sensitive\n",
      "1/1 [==============================] - 0s 23ms/step\n",
      "Medication Sensitive\n",
      "1/1 [==============================] - 0s 22ms/step\n",
      "Test Results Sensitive\n"
     ]
    }
   ],
   "source": [
    "test = [\"My social security number is 123-45-6789.\",\n",
    "\"My credit card number is 1234 5678 9012 3456.\",\n",
    "\"My email address is john.doe@example.com.\",\n",
    "\"My phone number is (123) 456-7890.\",\n",
    "\"I live at 123 Main St, Anytown, USA.\",\n",
    "\"I love to play soccer on the weekends.\",\n",
    "\"My favorite color is blue.\",\n",
    "\"I enjoy reading books and listening to music.\",\n",
    "\"The weather is really nice today.\",\n",
    "\"I have a pet dog named Rover.\",\n",
    "'Name', 'Age', 'Gender', 'Blood Type', 'Medical Condition',\n",
    "       'Date of Admission', 'Doctor', 'Hospital', 'Insurance Provider',\n",
    "       'Billing Amount', 'Room Number', 'Admission Type', 'Discharge Date',\n",
    "       'Medication', 'Test Results']\n",
    "sensitive=[]\n",
    "nonsensitive=[]\n",
    "for i in test:\n",
    "    seq = tokenizer.texts_to_sequences([i])\n",
    "    pad = pad_sequences(seq, maxlen=20, padding='post')\n",
    "    pred = lstm_model.predict(pad)\n",
    "    if pred > 0.5:\n",
    "        sensitive.append(i)\n",
    "        print(i, 'Sensitive')\n",
    "    else:\n",
    "        nonsensitive.append(i)\n",
    "        print(i, 'Non-sensitive')"
   ]
  },
  {
   "cell_type": "code",
   "execution_count": 51,
   "metadata": {},
   "outputs": [
    {
     "name": "stdout",
     "output_type": "stream",
     "text": [
      "198/198 [==============================] - 10s 51ms/step\n"
     ]
    },
    {
     "data": {
      "text/plain": [
       "<Axes: >"
      ]
     },
     "execution_count": 51,
     "metadata": {},
     "output_type": "execute_result"
    },
    {
     "data": {
      "image/png": "[encoded data removed]",
      "text/plain": [
       "<Figure size 640x480 with 2 Axes>"
      ]
     },
     "metadata": {},
     "output_type": "display_data"
    }
   ],
   "source": [
    "#print confusion matrix\n",
    "from sklearn.metrics import confusion_matrix\n",
    "y_pred = lstm_model.predict(X_test_pad)\n",
    "y_pred = (y_pred > 0.5)\n",
    "cm = confusion_matrix(y_test, y_pred)\n",
    "\n",
    "import seaborn as sns\n",
    "sns.heatmap(cm, annot=True)\n"
   ]
  },
  {
   "cell_type": "code",
   "execution_count": 43,
   "metadata": {},
   "outputs": [
    {
     "name": "stdout",
     "output_type": "stream",
     "text": [
      "Model: \"sequential_2\"\n",
      "_________________________________________________________________\n",
      " Layer (type)                Output Shape              Param #   \n",
      "=================================================================\n",
      " embedding_2 (Embedding)     (None, None, 100)         8193200   \n",
      "                                                                 \n",
      " lstm_2 (LSTM)               (None, 200)               240800    \n",
      "                                                                 \n",
      " dropout_2 (Dropout)         (None, 200)               0         \n",
      "                                                                 \n",
      " dense_2 (Dense)             (None, 1)                 201       \n",
      "                                                                 \n",
      "=================================================================\n",
      "Total params: 8434201 (32.17 MB)\n",
      "Trainable params: 241001 (941.41 KB)\n",
      "Non-trainable params: 8193200 (31.25 MB)\n",
      "_________________________________________________________________\n"
     ]
    }
   ],
   "source": [
    "from keras.regularizers import l1\n",
    "from keras.constraints import max_norm\n",
    "from keras.layers import Dropout\n",
    "\n",
    "lstm_model = Sequential()\n",
    "lstm_model.add(Embedding(len(word_index) + 1,\n",
    "                            embedding_dim,\n",
    "                            weights=[embedding_matrix],\n",
    "                            trainable=False))\n",
    "lstm_model.add(LSTM(200,kernel_regularizer=l1(0.01), kernel_constraint=max_norm(2.)))\n",
    "lstm_model.add(Dropout(0.2))\n",
    "lstm_model.add(Dense(1, activation='sigmoid'))\n",
    "\n",
    "lstm_model.compile(loss='binary_crossentropy', optimizer='adam', metrics=['accuracy'])\n",
    "lstm_model.summary() "
   ]
  },
  {
   "cell_type": "code",
   "execution_count": 44,
   "metadata": {},
   "outputs": [
    {
     "name": "stdout",
     "output_type": "stream",
     "text": [
      "Epoch 1/10\n",
      "395/395 [==============================] - 67s 167ms/step - loss: 6.2962 - accuracy: 0.8681 - val_loss: 3.4042 - val_accuracy: 0.8499\n",
      "Epoch 2/10\n",
      "395/395 [==============================] - 65s 164ms/step - loss: 2.2276 - accuracy: 0.9523 - val_loss: 1.6864 - val_accuracy: 0.9965\n",
      "Epoch 3/10\n",
      "395/395 [==============================] - 65s 164ms/step - loss: 3.1427 - accuracy: 0.7670 - val_loss: 1.6343 - val_accuracy: 0.9468\n",
      "Epoch 4/10\n",
      "395/395 [==============================] - 67s 171ms/step - loss: 2.4697 - accuracy: 0.7413 - val_loss: 3.8263 - val_accuracy: 0.4801\n",
      "Epoch 5/10\n",
      "395/395 [==============================] - 64s 163ms/step - loss: 2.8890 - accuracy: 0.5771 - val_loss: 2.2725 - val_accuracy: 0.4801\n",
      "Epoch 6/10\n",
      "395/395 [==============================] - 65s 164ms/step - loss: 2.4110 - accuracy: 0.6155 - val_loss: 1.5420 - val_accuracy: 0.7962\n",
      "Epoch 7/10\n",
      "395/395 [==============================] - 64s 163ms/step - loss: 7.1350 - accuracy: 0.5267 - val_loss: 5.9579 - val_accuracy: 0.4801\n",
      "Epoch 8/10\n",
      "395/395 [==============================] - 66s 167ms/step - loss: 4.8625 - accuracy: 0.6521 - val_loss: 3.8961 - val_accuracy: 0.4801\n",
      "Epoch 9/10\n",
      "395/395 [==============================] - 66s 167ms/step - loss: 4.4302 - accuracy: 0.5145 - val_loss: 3.6129 - val_accuracy: 0.5013\n",
      "Epoch 10/10\n",
      "395/395 [==============================] - 65s 164ms/step - loss: 2.6338 - accuracy: 0.8397 - val_loss: 1.8405 - val_accuracy: 0.9568\n"
     ]
    }
   ],
   "source": [
    "history = lstm_model.fit(X_train_pad, y_train, epochs=10, batch_size=64, validation_data=(X_test_pad, y_test),class_weight={0: 1., 1: 50.}) "
   ]
  },
  {
   "cell_type": "code",
   "execution_count": 45,
   "metadata": {},
   "outputs": [
    {
     "name": "stdout",
     "output_type": "stream",
     "text": [
      "198/198 - 5s - loss: 1.8405 - accuracy: 0.9568 - 5s/epoch - 23ms/step\n"
     ]
    }
   ],
   "source": [
    "test_loss, test_acc = lstm_model.evaluate(X_test_pad, y_test, verbose=2)"
   ]
  },
  {
   "cell_type": "code",
   "execution_count": null,
   "metadata": {},
   "outputs": [],
   "source": []
  }
 ],
 "metadata": {
  "kernelspec": {
   "display_name": "base",
   "language": "python",
   "name": "python3"
  },
  "language_info": {
   "codemirror_mode": {
    "name": "ipython",
    "version": 3
   },
   "file_extension": ".py",
   "mimetype": "text/x-python",
   "name": "python",
   "nbconvert_exporter": "python",
   "pygments_lexer": "ipython3",
   "version": "3.11.1"
  }
 },
 "nbformat": 4,
 "nbformat_minor": 2
}
