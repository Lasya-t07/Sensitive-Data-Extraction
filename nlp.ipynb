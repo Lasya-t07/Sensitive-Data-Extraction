{
 "cells": [
  {
   "cell_type": "code",
   "execution_count": 1,
   "metadata": {},
   "outputs": [
    {
     "name": "stdout",
     "output_type": "stream",
     "text": [
      "Email Addresses: ['pillarbloodbank2016@gmail.com', 'crossgracy2003@yahoo.co.in']\n",
      "Phone Numbers: ['744104\\t03192 233193', '03192 233993', '9474247585', '03192 233193', '03192 233193', '03192 233993', '9474247585', '08.09.2010', '10.06.2015', '11.653229', '92.730714']\n",
      "Names: ['Health Centre', 'Blood Bank', 'Andaman And', 'Nicobar Islands', 'Port Blair', 'Lamba Line', 'Opposite Airport', 'Dr. Sr', 'Cross Mary']\n"
     ]
    }
   ],
   "source": [
    "import re\n",
    "def sensitive(text):\n",
    "    # Regular expressions to match email addresses and phone numbers\n",
    "    email_pattern = r'\\b[A-Za-z0-9._%+-]+@[A-Za-z0-9.-]+\\.[A-Z|a-z]{2,7}\\b'\n",
    "    phone_pattern = r'(?:(?:\\+|0{0,2})\\d{1,4}[-.\\s]?)(?:\\(\\d{1,}\\)|\\d{1,}[-.\\s]?)\\d{1,}[-.\\s]?\\d{1,}[-.\\s]?\\d{1,}'\n",
    "    names_pattern = r'\\b(?:Mr\\.|Mrs\\.|Ms\\.|Miss|Dr\\.|Prof\\.|Rev\\.|Hon\\.|Sr\\.|Jr\\.|[A-Z][a-z]+)\\s+[A-Z][a-z]+\\b'\n",
    "    # Find email addresses and phone numbers in the text using regular expressions\n",
    "    emails = re.findall(email_pattern, text)\n",
    "    phone_numbers = re.findall(phone_pattern, text)\n",
    "    names= re.findall(names_pattern, text)\n",
    "\n",
    "    # Print the extracted sensitive data\n",
    "    print(\"Email Addresses:\", emails,end=\"\\n\")\n",
    "    print(\"Phone Numbers:\", phone_numbers)# Your input text/document\n",
    "    print(\"Names:\", names)\n",
    "\n",
    "text=\"Pillar, Health Centre Blood Bank,Andaman And Nicobar Islands, SOUTH ANDAMAN\tPort Blair,Lamba Line, P.B. 526, P.O. Junglighat,  Opposite Airport,744104\t03192 233193, 03192 233993, 9474247585,\t03192 233193,\tN/A, pillarbloodbank2016@gmail.com,Dr. Sr. Cross Mary,03192 233193, 03192 233993, 9474247585,\tcrossgracy2003@yahoo.co.in,\tMBBS, MD (Medicine)\tCharity,\tNO,\tNO,\t24X7,\tDL3/CLAA/ANI,\t08.09.2010,\t10.06.2015,\t11.653229,\t92.730714\"\n",
    "sensitive(text)\n",
    "\n",
    "\n"
   ]
  }
 ],
 "metadata": {
  "kernelspec": {
   "display_name": "Python 3",
   "language": "python",
   "name": "python3"
  },
  "language_info": {
   "codemirror_mode": {
    "name": "ipython",
    "version": 3
   },
   "file_extension": ".py",
   "mimetype": "text/x-python",
   "name": "python",
   "nbconvert_exporter": "python",
   "pygments_lexer": "ipython3",
   "version": "3.11.1"
  }
 },
 "nbformat": 4,
 "nbformat_minor": 2
}
