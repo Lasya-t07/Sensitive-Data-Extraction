{
 "cells": [
  {
   "cell_type": "code",
   "execution_count": 4,
   "metadata": {},
   "outputs": [],
   "source": [
    "\n",
    "import pandas as pd\n",
    "import numpy as np\n",
    "from sklearn import svm\n",
    "from sklearn.metrics import classification_report,accuracy_score\n",
    "from sklearn.model_selection import train_test_split"
   ]
  },
  {
   "cell_type": "code",
   "execution_count": 5,
   "metadata": {},
   "outputs": [],
   "source": [
    "import json"
   ]
  },
  {
   "cell_type": "code",
   "execution_count": 6,
   "metadata": {},
   "outputs": [],
   "source": [
    "import json\n",
    "dataList = []\n",
    "sentences = []\n",
    "labels = []\n",
    "def loadDataset(filename):\n",
    "  d=[]\n",
    "  with open(filename, 'r') as f:\n",
    "      datastore = json.load(f)                  \n",
    "  for item in datastore:\n",
    "    sentence = item['data']\n",
    "    label = item['is_sensitive']\n",
    "    d.append([sentence,label])\n",
    "  return d\n",
    "# Loading both sensitive and non-sensitive dataset\n",
    "sen=loadDataset(\"SensitiveDataset.json\")\n",
    "nonsen=loadDataset(\"NonSensitiveDatasetnew.json\")\n",
    "sen=pd.DataFrame(data=sen,columns=['sentences','labels'])\n",
    "nonsen=pd.DataFrame(data=nonsen,columns=['sentences','labels'])"
   ]
  },
  {
   "cell_type": "code",
   "execution_count": 7,
   "metadata": {},
   "outputs": [
    {
     "data": {
      "text/html": [
       "<div>\n",
       "<style scoped>\n",
       "    .dataframe tbody tr th:only-of-type {\n",
       "        vertical-align: middle;\n",
       "    }\n",
       "\n",
       "    .dataframe tbody tr th {\n",
       "        vertical-align: top;\n",
       "    }\n",
       "\n",
       "    .dataframe thead th {\n",
       "        text-align: right;\n",
       "    }\n",
       "</style>\n",
       "<table border=\"1\" class=\"dataframe\">\n",
       "  <thead>\n",
       "    <tr style=\"text-align: right;\">\n",
       "      <th></th>\n",
       "      <th>sentences</th>\n",
       "      <th>labels</th>\n",
       "    </tr>\n",
       "  </thead>\n",
       "  <tbody>\n",
       "    <tr>\n",
       "      <th>0</th>\n",
       "      <td>Colorado, 1865: A gold assayer is killed and L...</td>\n",
       "      <td>0</td>\n",
       "    </tr>\n",
       "    <tr>\n",
       "      <th>1</th>\n",
       "      <td>kirsten,   gaara,    kirsten@comcast.net,  28...</td>\n",
       "      <td>1</td>\n",
       "    </tr>\n",
       "    <tr>\n",
       "      <th>2</th>\n",
       "      <td>annabal,   qazwsx,    annabal@sfr.fr,  785751...</td>\n",
       "      <td>1</td>\n",
       "    </tr>\n",
       "    <tr>\n",
       "      <th>3</th>\n",
       "      <td>Taj Badalandabad (Kal Penn), the personal assi...</td>\n",
       "      <td>0</td>\n",
       "    </tr>\n",
       "    <tr>\n",
       "      <th>4</th>\n",
       "      <td>Bernie LaPlante (Dustin Hoffman) is a pickpock...</td>\n",
       "      <td>0</td>\n",
       "    </tr>\n",
       "  </tbody>\n",
       "</table>\n",
       "</div>"
      ],
      "text/plain": [
       "                                           sentences  labels\n",
       "0  Colorado, 1865: A gold assayer is killed and L...       0\n",
       "1   kirsten,   gaara,    kirsten@comcast.net,  28...       1\n",
       "2   annabal,   qazwsx,    annabal@sfr.fr,  785751...       1\n",
       "3  Taj Badalandabad (Kal Penn), the personal assi...       0\n",
       "4  Bernie LaPlante (Dustin Hoffman) is a pickpock...       0"
      ]
     },
     "execution_count": 7,
     "metadata": {},
     "output_type": "execute_result"
    }
   ],
   "source": [
    "combined = pd.concat([sen, nonsen])\n",
    "df = combined.sample(frac=1).reset_index(drop=True)\n",
    "df.head()"
   ]
  },
  {
   "cell_type": "code",
   "execution_count": 8,
   "metadata": {},
   "outputs": [],
   "source": [
    "from nltk.tokenize import word_tokenize\n",
    "from nltk.corpus import stopwords\n",
    "from nltk.stem import PorterStemmer\n",
    "import string\n",
    "\n",
    "tokenized_data = [word_tokenize(sentence) for sentence in df['sentences']]\n",
    "stop_words = set(stopwords.words('english'))\n",
    "punctuations = list(string.punctuation)\n",
    "punctuations.remove('@')\n",
    "stop_words.update(punctuations)\n",
    "stemmer = PorterStemmer()\n",
    "filtered_data = [[stemmer.stem(word) for word in sentence if word.lower() not in stop_words] for sentence in tokenized_data]\n",
    "l=[]\n",
    "for idx, sentence in enumerate(filtered_data):\n",
    "    l.append(' '.join(sentence))         \n",
    "df['sentences'] = l"
   ]
  },
  {
   "cell_type": "code",
   "execution_count": 9,
   "metadata": {},
   "outputs": [
    {
     "name": "stdout",
     "output_type": "stream",
     "text": [
      "(25261, 2) (6315, 2)\n"
     ]
    }
   ],
   "source": [
    "df_train = df.sample(frac=.8, random_state=11)\n",
    "df_test = df.drop(df_train.index)\n",
    "print(df_train.shape, df_test.shape)"
   ]
  },
  {
   "cell_type": "code",
   "execution_count": 10,
   "metadata": {},
   "outputs": [
    {
     "data": {
      "text/plain": [
       "(6315,)"
      ]
     },
     "execution_count": 10,
     "metadata": {},
     "output_type": "execute_result"
    }
   ],
   "source": [
    "y_train = df_train['labels'].values\n",
    "y_test = df_test['labels'].values\n",
    "y_test.shape"
   ]
  },
  {
   "cell_type": "code",
   "execution_count": 11,
   "metadata": {},
   "outputs": [],
   "source": [
    "X_train = df_train['sentences'].values\n",
    "X_test = df_test['sentences'].values"
   ]
  },
  {
   "cell_type": "code",
   "execution_count": 12,
   "metadata": {},
   "outputs": [],
   "source": [
    "#import Tokenizer\n",
    "from tensorflow.keras.preprocessing.text import Tokenizer\n",
    "tokenizer = Tokenizer(oov_token='<OOV>')\n",
    "tokenizer.fit_on_texts(X_train)\n",
    "word_dict = tokenizer.index_word"
   ]
  },
  {
   "cell_type": "code",
   "execution_count": 13,
   "metadata": {},
   "outputs": [
    {
     "name": "stdout",
     "output_type": "stream",
     "text": [
      "[[624, 446, 1272, 3470, 20125, 8, 110, 2450, 70, 674, 247, 603, 431, 71, 269, 132, 123, 643, 1046, 252, 256, 22, 10883, 2454, 15, 438, 643, 2, 348, 110, 285, 3909, 246, 3619, 4, 20125, 3470, 149, 1074, 3336, 19, 1193, 3470, 52, 55, 954, 643, 77, 2, 22, 43, 305, 166, 3470, 1907, 429, 6067, 10883, 11, 492, 315, 2454, 1044, 1440, 2569, 1044, 185, 1440, 613, 1234, 2569, 8747, 2454, 169, 227, 492, 1044, 1440, 22, 2454, 102, 2721, 4020, 10883, 643, 232, 643, 348, 110, 285, 52, 20, 252, 256, 14, 3619, 149, 3470, 337, 5557, 1074, 17768, 1261, 2454, 1943, 117, 18, 20125, 11830, 675, 643, 78, 12608, 915, 192, 913, 595, 35, 3197, 914, 65, 1022, 51, 252, 2, 35, 19, 992, 18, 3602, 252, 2, 3299, 242, 1373, 120, 643, 19, 1109, 20125, 349, 252, 992, 252, 264, 643, 9, 1220, 2515, 211, 643, 14, 3619, 1598, 3470, 19, 6690, 7894, 1981, 243, 2454, 19, 133, 32, 675, 489, 8, 1234, 52, 55, 2569, 51, 772, 914, 327, 1981, 348, 7, 55, 1044, 1440, 136, 299, 10883, 1193, 32, 53, 1440, 2212, 92, 11503, 243, 261, 52, 1169, 1981, 52, 2569, 3927, 643, 7, 20, 15, 9, 913, 1981, 8292, 1299, 628, 106, 3890, 1044, 1440, 2569, 57, 252, 2, 35, 7, 30, 52, 55, 252, 2, 2072, 315, 2073, 121, 643, 102, 119, 271, 310, 104, 1383, 1974, 1022, 913, 44, 643, 43, 305, 7, 777, 43, 7, 6691, 1044, 1440, 2569, 228, 65, 2, 492, 422, 7, 1169, 3716, 643, 2, 35, 1440, 21, 992, 4457, 20125, 643, 81, 1981, 1981, 291, 35, 132, 45, 4, 3360, 61, 252, 2, 35, 910, 4640, 2072, 1535, 7, 309, 252, 2, 60, 19, 81, 3843, 132, 1981, 252, 81, 60, 3890, 132, 110, 130, 30163, 2, 35, 153, 237, 34, 61, 138, 814, 106, 148, 651, 65, 913, 643, 44, 132, 1981, 6, 61, 115, 225, 86, 18, 913, 643, 2, 1565, 2, 35, 110, 143, 558, 7, 817, 10884, 22, 12, 205, 1044, 1440, 2482, 6308, 47578, 643, 81, 1981, 65, 193, 2699, 26, 2569, 831, 9875, 1440, 15, 11, 61, 1044, 82, 7, 61, 124, 143, 328, 126, 624, 69, 9645, 3022, 198, 1044, 81, 5, 3022, 9645, 198, 11, 2569, 138, 55, 1440, 11, 1044, 227, 4417, 132, 11, 2409, 205, 2569, 81, 1440, 2420, 1981, 25, 2569, 237, 854, 1447, 132, 32, 7024, 305, 2455, 149, 119, 214, 1981, 74, 1261, 86, 2700, 65, 214, 16, 6309, 36, 1981, 63, 138, 3151, 1210, 794, 6, 446, 4763, 1447, 12, 138, 259, 794, 486, 3928, 252, 149, 1682, 1981, 1288, 446, 643, 81, 252, 785, 12193, 724, 259, 5, 1981, 252, 208, 282, 12193, 643, 901, 401, 989, 70, 1474, 305, 28, 732, 212, 132, 208, 55], [35673, 47579, 35673, 50, 160, 1695, 47580], [1063, 5649, 2440, 875, 203, 20126, 1194, 3793, 357, 1359, 223, 4083, 14016, 13, 207, 6692, 10118, 3289, 5245, 3377, 716, 1368, 9082, 6236, 3620, 1937, 366, 273, 2103, 14017, 17, 695, 5757, 735, 97, 3152, 1704, 1026, 2985, 1964, 3929, 35674, 4503, 1397, 300, 148, 1549, 8143, 35, 3056, 15986, 1900, 2911, 468, 1588, 1549, 36, 1359, 16, 1900, 216, 1656, 80, 36, 89, 2629, 727, 3692, 5245, 28, 35, 35674, 312, 2440, 223, 197, 493, 169, 838, 666, 39, 8, 8, 4418, 838, 9646, 1359, 81, 1900, 66, 1811, 13066, 203, 5, 1525, 1549, 298, 379, 64, 635, 5246, 1900, 8, 17, 962, 5757, 2103, 15, 228, 4021, 35, 214, 2701, 1460, 1767, 1900, 2212, 92, 775, 1576, 1116, 3182, 21, 8, 14017, 51, 115, 193, 132, 1549, 355, 4, 832, 989, 24, 45, 44, 3057, 2912, 11202, 3377, 1103, 785, 1576, 1549, 400, 2538, 73, 471, 4850, 3317, 150, 702, 12, 1228, 211, 135, 214, 1368, 72, 207, 373, 5, 2378, 1368, 716, 1359, 262, 64, 5757, 97, 431, 622, 357, 97, 2, 6693, 327, 1900, 3182, 1359, 48, 1437, 617, 1368, 2090, 15, 1116, 1359, 1081, 40, 1104, 1900, 93, 12, 671, 1023, 2237, 1368, 904, 998, 956, 1359, 2809, 1900, 124, 1262, 1900, 148, 5247, 148, 828, 819, 1900, 127, 237, 11, 41, 81, 371, 1359, 2, 5502, 13, 5, 1368, 1900, 1581, 1116, 938, 1368, 1359, 55, 1081, 216, 1656, 1022, 207, 216, 1656, 217, 207, 3660, 511, 207, 163, 1964, 3929, 48, 1964, 3929, 324, 3471, 2008, 300, 19, 1549, 459, 1415, 1180, 99, 1549, 225, 219, 186, 117, 459, 186, 63, 38, 99, 2630, 1683, 179, 66, 25, 1669, 12194, 1549, 679, 185, 203, 32, 35, 753, 332, 54, 329, 644, 4230, 19, 245, 36, 2026, 451, 134, 203, 140, 1368, 203, 348, 19, 25, 855, 1180, 47581, 7538, 11, 35, 206, 750, 7210, 53, 41, 8, 140, 207, 3377, 17, 5757, 97, 112, 57, 855, 1180, 90, 245, 75, 221, 11, 102, 94, 16, 929, 181, 186, 21, 1549, 932, 16, 929, 207, 989, 1900, 776, 216, 1656, 71, 269, 1368, 1359, 656, 153, 1964, 3929, 54, 2, 548, 412, 239, 421, 77, 207, 11, 1359, 227, 221, 280, 13, 206, 6612, 50, 2254, 60, 421, 38, 145, 13, 5245, 156, 87, 499, 245, 10, 38, 229, 17, 97, 188, 487, 67, 227, 1359, 1368, 430, 545, 1387, 12, 2254, 1368, 1359, 11, 35, 141, 2204, 2631, 1964, 3929, 312, 32, 12, 4393, 63, 7, 1368, 2, 61, 1359, 4319, 4, 419, 2629, 746, 460, 1805, 49, 152, 6612, 50, 1900, 36, 89, 203, 1190, 138, 1078, 1359, 1985, 682, 4084, 1368, 9, 752, 140, 60, 3397, 152, 140, 169, 60, 378, 1359, 2, 16, 13, 233, 1368, 949, 467, 317, 684, 56, 39, 216, 284, 6692, 5757, 97, 746, 10610, 1900, 87, 61, 87, 46, 104, 5248, 234, 589, 28, 61, 7, 2255, 4106, 1102, 1944, 1026], [84, 47582, 84, 423, 47583], [8293, 824, 11831, 8748, 232, 1215, 1380, 727, 1660, 176, 361, 824, 229, 546, 463, 124, 11831, 400, 656, 1380, 12609, 359, 44, 114, 3891, 1465, 591, 546, 2683, 7, 52, 401, 446, 696, 3843, 11831, 330, 1380, 469, 776, 3891, 993, 616, 11831, 92, 435, 742, 2110, 4085, 35, 495, 26410, 5758, 902, 1559, 14646, 401, 10373, 42, 1210, 585, 742, 12610, 12609, 541, 4851, 3996, 396, 161, 9876, 26411, 8577, 2160, 21752, 1830, 1497, 180, 13528, 85, 1126, 5949, 35675, 23777, 5382, 98, 2244, 585, 1503, 495, 2110, 12609, 443, 422, 15987, 824, 290, 14646, 11831, 57, 1908, 824, 361, 2684, 3456, 415, 15987, 361, 4851, 2722, 585, 8912, 18, 9647, 45, 228, 824, 2588, 361, 11831, 759, 1712, 30, 930, 824, 241, 776, 1380, 2, 3891, 585, 1128, 3069, 5883, 47584, 1216, 47585, 3553, 3153, 43, 585, 5503, 10, 6310, 35676, 116, 3638, 4458, 1634, 5812, 429, 43, 35677, 6694, 3, 4851, 19, 15, 264, 396, 11831, 402, 6311, 443, 1081, 1210, 4851, 45, 14, 1927, 11831, 1105, 114, 290, 4927, 495, 217, 3891, 11831, 930, 1380, 1373, 1154, 11831, 4851, 18, 11831, 2661, 396, 1128, 3553, 20, 2588, 54, 401, 147, 2160, 760, 575, 1022, 3553, 575, 2757, 396, 232, 3553, 20, 930, 824, 11831, 1858, 48, 5698, 585, 42, 3553, 43, 6310, 11831, 44, 824, 1380, 11, 585, 230, 6310, 11831, 14, 824, 1380, 19, 6310, 2, 446, 138, 2684, 4086, 34, 824, 371, 446, 645, 1276, 1380, 6310, 371, 585, 7, 285, 1126, 5949, 35675, 34, 1302, 79, 47586, 138, 446, 12, 495, 11831, 1441, 237, 446, 1380, 15, 354, 396, 781, 6312, 112, 4851, 153, 132, 1455, 11831, 287, 1544, 12, 134, 14, 446, 495, 334, 3553, 20, 585, 243, 10373, 3553, 6310, 6237, 585, 8, 457, 2723, 35678, 1586, 7895, 855, 1380, 15, 8429, 44, 11831, 36, 26411, 35679, 15276, 242, 20127, 9876, 156, 5950, 2111, 26411, 348, 2421, 6310, 230, 1380, 114, 1380, 3553, 6310, 429, 35677, 6694, 585, 44, 37, 585, 338, 28, 1380, 341, 1300, 921, 3553, 6310, 174, 34, 6694, 11831, 4851, 812, 11831, 702, 132, 2757, 1768, 3023, 2160, 117, 79, 8577, 4851, 74, 451, 15987, 824, 26411, 48, 26412, 348, 930, 487, 9270, 189, 47]]\n",
      "sentences    militari truck transport barrel trioxin one br...\n",
      "labels                                                       0\n",
      "Name: 30720, dtype: object\n",
      "militari truck transport barrel trioxin one break loos fall river without driver notic next morn group boy jess wilson billi johnni go mausoleum cemeteri tri initi jess 's abl break free runaway hide sewer find trioxin barrel open ga leak see corps barrel run away scream jess say 's go call armi number barrel bulli trap derelict mausoleum leav van pull cemeteri ed joey brenda ed explain joey rob grave brenda creep cemeteri stay behind van ed joey go cemeteri start loot tomb mausoleum jess enter jess abl break free run home billi johnni return sewer open barrel releas toxic ga permeat whole cemeteri rain even make trioxin seep ground jess order homework older sister luci sneak hous cabl guy tom distract goe billi 's hous see ill make excus billi 's mom allow brief visit jess see effect trioxin made billi ill billi warn jess tell anyon 've found jess return sewer examin barrel see tar cov zombi flee cemeteri see hand come ground near one grave run away brenda goe check guy encount zombi abl get away ed joey still insid mausoleum corps come life joey smash head crowbar flee build run mob zombi run brenda hyster jess get home tri tell luci zombi upris dismiss lock room elsewher ed joey brenda show billi 's hous get help run away billi 's dad pull shotgun meanwhil jess start fire outsid door set smoke alarm distract luci escap jess call armi get colonel call get disconnect ed joey brenda steal tom 's van unabl get mob barg jess 's hous joey becom ill exposur trioxin jess attack zombi zombi close hous group attempt find getaway car billi 's hous condit worsen dad went get doctor billi 's mother see attack eaten group zombi billi attack mother elsewher group break dr mandel 's hous convinc let use car drive emerg room appear desert tom luci jess escap group zombi take car look around town make luci jess 's grandfath 's hous break gun safe get weapon ammo go back hospit ed joey experienc symptom rigormorti jess attack zombi tom shot multipl time brenda upset diagnosi joey tri leav car ed follow get car stop gun point three militari men sarg le frank ed attack kill le sarg frank leav brenda drive away joey leav ed behind remaind group leav ambul hospit brenda attack joey fulli zombi love brenda let eat brain group come roadblock armi mistakenli open fire think zombi realiz whole town evacu tom think new strategi give zombi want drive meat pack plant take truck distribut brain back drive power plant intend electrocut billi open gate zombi corner truck jess attack billi stab screwdriv activ power kill zombi billi walk hold screwdriv jess push larg transform fall roof armi arriv contain scene group walk away "
     ]
    }
   ],
   "source": [
    "X_train_seq = tokenizer.texts_to_sequences(X_train)\n",
    "X_test_seq = tokenizer.texts_to_sequences(X_test)\n",
    "print(X_train_seq[:5])\n",
    "print(df_train.iloc[0,:])\n",
    "for el in X_train_seq[0]:\n",
    "    print(word_dict[el], end=' ')"
   ]
  },
  {
   "cell_type": "code",
   "execution_count": 14,
   "metadata": {},
   "outputs": [
    {
     "data": {
      "text/plain": [
       "82074"
      ]
     },
     "execution_count": 14,
     "metadata": {},
     "output_type": "execute_result"
    }
   ],
   "source": [
    "from tensorflow.keras.preprocessing.sequence import pad_sequences\n",
    "X_train_pad = pad_sequences(X_train_seq, maxlen=20, padding='post')\n",
    "X_test_pad = pad_sequences(X_test_seq, maxlen=20, padding='post')\n",
    "X_train_pad[:5]\n",
    "X_train_pad.shape[0]\n",
    "#get max number in X_train_pad and X_test_pad\n",
    "max_num=max([max(seq) for seq in X_train_pad])\n",
    "max_num"
   ]
  },
  {
   "cell_type": "code",
   "execution_count": 15,
   "metadata": {},
   "outputs": [
    {
     "ename": "",
     "evalue": "",
     "output_type": "error",
     "traceback": [
      "\u001b[1;31mCannot execute code, session has been disposed. Please try restarting the Kernel."
     ]
    },
    {
     "ename": "",
     "evalue": "",
     "output_type": "error",
     "traceback": [
      "\u001b[1;31mCannot execute code, session has been disposed. Please try restarting the Kernel. \n",
      "\u001b[1;31mView Jupyter <a href='command:jupyter.viewOutput'>log</a> for further details."
     ]
    }
   ],
   "source": [
    "from sklearn import svm\n",
    "from sklearn.metrics import classification_report,accuracy_score\n",
    "#implement the SVM model\n",
    "clf = svm.SVC(kernel='linear')\n",
    "clf.fit(X_train_pad, y_train)\n",
    "y_pred = clf.predict(X_test_pad)\n",
    "#classification report\n",
    "print(classification_report(y_test, y_pred))\n",
    "#accuracy score\n",
    "print('Linear',accuracy_score(y_test, y_pred))\n",
    "\"\"\"\n",
    "#Try different kernels\n",
    "clf = svm.SVC(kernel='rbf')\n",
    "clf.fit(X_train_pad, y_train)\n",
    "y_pred = clf.predict(X_test_pad)\n",
    "print(classification_report(y_test, y_pred))\n",
    "print('RBF',accuracy_score(y_test, y_pred))\n",
    "\n",
    "clf = svm.SVC(kernel='poly')\n",
    "clf.fit(X_train_pad, y_train)\n",
    "y_pred = clf.predict(X_test_pad)\n",
    "print(classification_report(y_test, y_pred))\n",
    "print('Poly',accuracy_score(y_test, y_pred))\n",
    "\n",
    "clf = svm.SVC(kernel='sigmoid')\n",
    "clf.fit(X_train_pad, y_train)\n",
    "y_pred = clf.predict(X_test_pad)\n",
    "print(classification_report(y_test, y_pred))\n",
    "print('Sigmoid',accuracy_score(y_test, y_pred))  \n",
    "\"\"\""
   ]
  },
  {
   "cell_type": "code",
   "execution_count": null,
   "metadata": {},
   "outputs": [],
   "source": []
  }
 ],
 "metadata": {
  "kernelspec": {
   "display_name": "Python 3",
   "language": "python",
   "name": "python3"
  },
  "language_info": {
   "codemirror_mode": {
    "name": "ipython",
    "version": 3
   },
   "file_extension": ".py",
   "mimetype": "text/x-python",
   "name": "python",
   "nbconvert_exporter": "python",
   "pygments_lexer": "ipython3",
   "version": "3.11.1"
  }
 },
 "nbformat": 4,
 "nbformat_minor": 2
}
