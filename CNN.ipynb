{
  "cells": [
    {
      "cell_type": "markdown",
      "metadata": {
        "colab_type": "text",
        "id": "view-in-github"
      },
      "source": [
        "<a href=\"https://colab.research.google.com/github/DhilipSanjay/Detection-of-Sensitive-Data-Exposure-in-Images/blob/main/Text_Classification.ipynb\" target=\"_parent\"><img src=\"https://colab.research.google.com/assets/colab-badge.svg\" alt=\"Open In Colab\"/></a>"
      ]
    },
    {
      "cell_type": "markdown",
      "metadata": {
        "id": "sM59X-o79RgC"
      },
      "source": [
        "# Text Classification to detect sensitive data exposure\n",
        "\n",
        "## Importing libraries and downloading the dataset"
      ]
    },
    {
      "cell_type": "code",
      "execution_count": 152,
      "metadata": {
        "colab": {
          "base_uri": "https://localhost:8080/"
        },
        "id": "leaIgZqWI9HX",
        "outputId": "70d435a6-1a95-4735-bd60-858f2a1199ed"
      },
      "outputs": [],
      "source": [
        "\n",
        "import pandas as pd\n",
        "import numpy as np\n",
        "from sklearn import svm\n",
        "from sklearn.metrics import classification_report,accuracy_score\n",
        "from sklearn.model_selection import train_test_split\n",
        "import json"
      ]
    },
    {
      "cell_type": "markdown",
      "metadata": {
        "id": "7i3YvPoe9ZaT"
      },
      "source": [
        "## Preprocessing the dataset"
      ]
    },
    {
      "cell_type": "code",
      "execution_count": 153,
      "metadata": {
        "colab": {
          "base_uri": "https://localhost:8080/"
        },
        "id": "vIUEAZOfJyy-",
        "outputId": "91c05886-e361-4a64-8bee-03a34dd84b43"
      },
      "outputs": [],
      "source": [
        "dataList = []\n",
        "sentences = []\n",
        "labels = []\n",
        "# Stopwords should be removed or excluded from the given text so that more\n",
        "# focus can be given to those words which define the meaning of the text.\n",
        "stopwords = [ \"a\", \"about\", \"above\", \"after\", \"again\", \"against\", \"all\", \"am\", \"an\", \"and\", \"any\", \"are\", \"as\", \"at\", \"be\", \"because\", \"been\", \"before\", \"being\", \"below\", \"between\", \"both\", \"but\", \"by\", \"could\", \"did\", \"do\", \"does\", \"doing\", \"down\", \"during\", \"each\", \"few\", \"for\", \"from\", \"further\", \"had\", \"has\", \"have\", \"having\", \"he\", \"he'd\", \"he'll\", \"he's\", \"her\", \"here\", \"here's\", \"hers\", \"herself\", \"him\", \"himself\", \"his\", \"how\", \"how's\", \"i\", \"i'd\", \"i'll\", \"i'm\", \"i've\", \"if\", \"in\", \"into\", \"is\", \"it\", \"it's\", \"its\", \"itself\", \"let's\", \"me\", \"more\", \"most\", \"my\", \"myself\", \"nor\", \"of\", \"on\", \"once\", \"only\", \"or\", \"other\", \"ought\", \"our\", \"ours\", \"ourselves\", \"out\", \"over\", \"own\", \"same\", \"she\", \"she'd\", \"she'll\", \"she's\", \"should\", \"so\", \"some\", \"such\", \"than\", \"that\", \"that's\", \"the\", \"their\", \"theirs\", \"them\", \"themselves\", \"then\", \"there\", \"there's\", \"these\", \"they\", \"they'd\", \"they'll\", \"they're\", \"they've\", \"this\", \"those\", \"through\", \"to\", \"too\", \"under\", \"until\", \"up\", \"very\", \"was\", \"we\", \"we'd\", \"we'll\", \"we're\", \"we've\", \"were\", \"what\", \"what's\", \"when\", \"when's\", \"where\", \"where's\", \"which\", \"while\", \"who\", \"who's\", \"whom\", \"why\", \"why's\", \"with\", \"would\", \"you\", \"you'd\", \"you'll\", \"you're\", \"you've\", \"your\", \"yours\", \"yourself\", \"yourselves\" ]\n",
        "\n",
        "def loadDataset(filename):\n",
        "  d=[]\n",
        "  with open(filename, 'r') as f:\n",
        "      datastore = json.load(f)\n",
        "  for item in datastore:\n",
        "    sentence = item['data']\n",
        "    label = item['is_sensitive']\n",
        "    for word in stopwords: #Remove stop words in sentence\n",
        "      token = \" \" + word + \" \"\n",
        "      sentence = sentence.replace(token, \" \")\n",
        "    d.append([sentence,label])\n",
        "  return d\n",
        "# Load sensitive and non-sensitive data from JSON files\n",
        "sen = loadDataset('SensitiveDataset.json')\n",
        "nonsen = loadDataset('NonSensitiveDatasetnew.json')"
      ]
    },
    {
      "cell_type": "code",
      "execution_count": 164,
      "metadata": {
        "colab": {
          "base_uri": "https://localhost:8080/"
        },
        "id": "Kt01OaiEMbQ9",
        "outputId": "c03c713c-6a9b-4b35-ea31-f65d345bba61"
      },
      "outputs": [],
      "source": [
        "import pandas as pd\n",
        "sen=pd.DataFrame(data=sen,columns=['sentences','labels'])\n",
        "nonsen=pd.DataFrame(data=nonsen,columns=['sentences','labels'])\n",
        "df= pd.concat([sen, nonsen], axis=0)\n",
        "df=df.sample(frac=1).reset_index(drop=True)\n",
        "df_sen=df[df['labels']==1]\n",
        "df_non=df[df['labels']==0]\n",
        "\n",
        "\n",
        "# Splitting into features (X) and labels (y)\n",
        "X = df_balanced['sentences'].values\n",
        "y = df_balanced['labels'].values\n",
        "\n",
        "# Split the data into training and testing sets\n",
        "X_train, X_test, y_train, y_test = train_test_split(X, y, test_size=0.3, random_state=42)"
      ]
    },
    {
      "cell_type": "code",
      "execution_count": 165,
      "metadata": {},
      "outputs": [],
      "source": [
        "# Tokenizing the data\n",
        "from tensorflow.keras.preprocessing.text import Tokenizer\n",
        "tokenizer = Tokenizer(oov_token='<OOV>')\n",
        "tokenizer.fit_on_texts(X_train)\n",
        "#tokenizer.fit_on_texts(X_test)\n",
        "word_dict = tokenizer.index_word\n",
        "X_train = tokenizer.texts_to_sequences(X_train)\n",
        "X_test = tokenizer.texts_to_sequences(X_test)"
      ]
    },
    {
      "cell_type": "code",
      "execution_count": 166,
      "metadata": {},
      "outputs": [],
      "source": [
        "# Padding the data\n",
        "from tensorflow.keras.preprocessing.sequence import pad_sequences\n",
        "\n",
        "X_train = pad_sequences(X_train, maxlen=100, padding='post')\n",
        "X_test = pad_sequences(X_test, maxlen=100, padding='post')"
      ]
    },
    {
      "cell_type": "code",
      "execution_count": 167,
      "metadata": {},
      "outputs": [
        {
          "data": {
            "text/plain": [
              "108549"
            ]
          },
          "execution_count": 167,
          "metadata": {},
          "output_type": "execute_result"
        }
      ],
      "source": [
        "max_num=max([max(seq) for seq in X_train])\n",
        "max_num"
      ]
    },
    {
      "cell_type": "markdown",
      "metadata": {
        "id": "9OLtjmJw9ehH"
      },
      "source": [
        "## Model"
      ]
    },
    {
      "cell_type": "code",
      "execution_count": 168,
      "metadata": {
        "colab": {
          "base_uri": "https://localhost:8080/"
        },
        "id": "p5ADD9CuNFWB",
        "outputId": "7cf5a76d-b9fc-4268-b85c-588ba8ba18ea"
      },
      "outputs": [
        {
          "name": "stdout",
          "output_type": "stream",
          "text": [
            "Model: \"sequential_14\"\n",
            "_________________________________________________________________\n",
            " Layer (type)                Output Shape              Param #   \n",
            "=================================================================\n",
            " embedding_14 (Embedding)    (None, 100, 64)           6947200   \n",
            "                                                                 \n",
            " batch_normalization_42 (Ba  (None, 100, 64)           256       \n",
            " tchNormalization)                                               \n",
            "                                                                 \n",
            " conv1d_14 (Conv1D)          (None, 96, 32)            10272     \n",
            "                                                                 \n",
            " dropout_28 (Dropout)        (None, 96, 32)            0         \n",
            "                                                                 \n",
            " batch_normalization_43 (Ba  (None, 96, 32)            128       \n",
            " tchNormalization)                                               \n",
            "                                                                 \n",
            " global_average_pooling1d_1  (None, 32)                0         \n",
            " 4 (GlobalAveragePooling1D)                                      \n",
            "                                                                 \n",
            " batch_normalization_44 (Ba  (None, 32)                128       \n",
            " tchNormalization)                                               \n",
            "                                                                 \n",
            " dense_28 (Dense)            (None, 16)                528       \n",
            "                                                                 \n",
            " dropout_29 (Dropout)        (None, 16)                0         \n",
            "                                                                 \n",
            " dense_29 (Dense)            (None, 1)                 17        \n",
            "                                                                 \n",
            "=================================================================\n",
            "Total params: 6958529 (26.54 MB)\n",
            "Trainable params: 6958273 (26.54 MB)\n",
            "Non-trainable params: 256 (1.00 KB)\n",
            "_________________________________________________________________\n"
          ]
        }
      ],
      "source": [
        "import tensorflow as tf\n",
        "#import EarlyStopping\n",
        "from tensorflow.keras.callbacks import EarlyStopping\n",
        "from tensorflow.keras.regularizers import l2\n",
        "early_stopping = EarlyStopping(monitor='val_loss', patience=5, restore_best_weights=True)\n",
        "from keras.regularizers import l1\n",
        "from keras.constraints import max_norm\n",
        "# Sequential - defines a SEQUENCE of layers in the neural network.\n",
        "model = tf.keras.Sequential([\n",
        "    # Embedding - Turns positive integers (indexes) into dense vectors of fixed size (here embedding_dim = 32).\n",
        "    tf.keras.layers.Embedding(max_num+1, 64, input_length=100),\n",
        "    # 1D convolution layer - filter size = 128, convolution window = 5, activation fn = ReLU\n",
        "    tf.keras.layers.BatchNormalization(),\n",
        "    tf.keras.layers.Conv1D(32, 5, activation='relu',kernel_regularizer=l1(0.01),kernel_constraint=max_norm(2.)),\n",
        "    tf.keras.layers.Dropout(0.3),\n",
        "    # Global average pooling operation (Flattening)\n",
        "    tf.keras.layers.BatchNormalization(),\n",
        "    tf.keras.layers.GlobalAveragePooling1D(),\n",
        "    # Regular densely-connected Neural Network layer with ReLU activation function.\n",
        "    tf.keras.layers.BatchNormalization(),\n",
        "    tf.keras.layers.Dense(16, activation='relu',kernel_regularizer=l2(0.01)),\n",
        "    tf.keras.layers.Dropout(0.3),\n",
        "    # Regular densely-connected Neural Network layer with sigmoid activation function.\n",
        "    tf.keras.layers.Dense(1, activation='sigmoid')\n",
        "])\n",
        "\n",
        "# model.compile - Configures the model for training.\n",
        "model.compile(loss='binary_crossentropy',optimizer='adam',metrics=['accuracy'])\n",
        "# Adam -  optimization algorithm used instead of the classical stochastic gradient descent procedure to update network weights.\n",
        "\n",
        "# Display the summary of the model\n",
        "model.summary()"
      ]
    },
    {
      "cell_type": "markdown",
      "metadata": {
        "id": "mb2NlD159g8k"
      },
      "source": [
        "## Training"
      ]
    },
    {
      "cell_type": "code",
      "execution_count": 169,
      "metadata": {
        "colab": {
          "base_uri": "https://localhost:8080/"
        },
        "id": "7TP5ThxvNPK8",
        "outputId": "1db2817f-845e-4340-f404-df4edfd414ae"
      },
      "outputs": [
        {
          "name": "stdout",
          "output_type": "stream",
          "text": [
            "Epoch 1/10\n",
            "346/346 [==============================] - 35s 88ms/step - loss: 1.3293 - accuracy: 0.9661 - val_loss: 0.9331 - val_accuracy: 0.4898\n",
            "Epoch 2/10\n",
            "346/346 [==============================] - 31s 88ms/step - loss: 0.1546 - accuracy: 0.9980 - val_loss: 0.1664 - val_accuracy: 1.0000\n",
            "Epoch 3/10\n",
            "346/346 [==============================] - 31s 91ms/step - loss: 0.0897 - accuracy: 0.9995 - val_loss: 0.0765 - val_accuracy: 0.9988\n",
            "Epoch 4/10\n",
            "346/346 [==============================] - 31s 89ms/step - loss: 0.0988 - accuracy: 0.9996 - val_loss: 0.0676 - val_accuracy: 1.0000\n",
            "Epoch 5/10\n",
            "346/346 [==============================] - 33s 95ms/step - loss: 0.0703 - accuracy: 0.9996 - val_loss: 0.1044 - val_accuracy: 0.9914\n",
            "Epoch 6/10\n",
            "346/346 [==============================] - 30s 88ms/step - loss: 0.1292 - accuracy: 0.9993 - val_loss: 0.2232 - val_accuracy: 0.9701\n",
            "Epoch 7/10\n",
            "346/346 [==============================] - 31s 89ms/step - loss: 0.0854 - accuracy: 0.9995 - val_loss: 0.0629 - val_accuracy: 0.9998\n",
            "Epoch 8/10\n",
            "346/346 [==============================] - 37s 106ms/step - loss: 0.1122 - accuracy: 0.9994 - val_loss: 0.3278 - val_accuracy: 0.9084\n",
            "Epoch 9/10\n",
            "346/346 [==============================] - 33s 94ms/step - loss: 0.1389 - accuracy: 0.9991 - val_loss: 0.3304 - val_accuracy: 0.9742\n",
            "Epoch 10/10\n",
            "346/346 [==============================] - 32s 92ms/step - loss: 0.1203 - accuracy: 0.9994 - val_loss: 0.5440 - val_accuracy: 0.8949\n"
          ]
        }
      ],
      "source": [
        "num_epochs = 5\n",
        "\n",
        "# model.fit - Train the model for a fixed number of epochs\n",
        "history = model.fit(X_train, \n",
        "                    y_train, \n",
        "                    epochs=10, \n",
        "                    batch_size=64,\n",
        "                    validation_data=(X_test,y_test), \n",
        "                    verbose=1)\n",
        "                    #callbacks=[callbacks])"
      ]
    },
    {
      "cell_type": "markdown",
      "metadata": {
        "id": "poN5h1SD9tiE"
      },
      "source": [
        "## Plotting Accuracy and Loss Functions"
      ]
    },
    {
      "cell_type": "code",
      "execution_count": 170,
      "metadata": {
        "colab": {
          "base_uri": "https://localhost:8080/",
          "height": 542
        },
        "id": "WCDbITWsNWlI",
        "outputId": "b96fcbf4-f236-4f22-a4c4-84e157cca63c"
      },
      "outputs": [
        {
          "data": {
            "image/png": "[encoded data removed]",
            "text/plain": [
              "<Figure size 640x480 with 1 Axes>"
            ]
          },
          "metadata": {},
          "output_type": "display_data"
        },
        {
          "data": {
            "image/png": "[encoded data removed]",
            "text/plain": [
              "<Figure size 640x480 with 1 Axes>"
            ]
          },
          "metadata": {},
          "output_type": "display_data"
        }
      ],
      "source": [
        "import matplotlib.pyplot as plt\n",
        "\n",
        "# Plot the accuracy and loss functions\n",
        "def plot_graphs(history, string):\n",
        "  plt.plot(history.history[string])\n",
        "  plt.plot(history.history['val_'+string])\n",
        "  plt.xlabel(\"Epochs\")\n",
        "  plt.ylabel(string)                      \n",
        "  plt.legend([string, 'val_'+string])       \n",
        "  plt.show()                               \n",
        "                                          \n",
        "plot_graphs(history, \"accuracy\")\n",
        "plot_graphs(history, \"loss\")"
      ]
    },
    {
      "cell_type": "markdown",
      "metadata": {
        "id": "z9ymTQswYUQz"
      },
      "source": [
        "## Confusion Matrix"
      ]
    },
    {
      "cell_type": "code",
      "execution_count": 171,
      "metadata": {
        "colab": {
          "base_uri": "https://localhost:8080/",
          "height": 1000
        },
        "id": "tVdCGN-tYXqX",
        "outputId": "609a920b-9292-4bab-c967-e9f5dfa83c34"
      },
      "outputs": [
        {
          "name": "stdout",
          "output_type": "stream",
          "text": [
            "Confusion Matrix\n",
            "297/297 [==============================] - 4s 11ms/step\n",
            "Threshold [0.50001425]\n",
            "Accuracy for Test Data =  89.48590731552835\n"
          ]
        },
        {
          "data": {
            "text/plain": [
              "Text(95.72222222222221, 0.5, 'Expected')"
            ]
          },
          "execution_count": 171,
          "metadata": {},
          "output_type": "execute_result"
        },
        {
          "data": {
            "image/png": "[encoded data removed]",
            "text/plain": [
              "<Figure size 1000x700 with 2 Axes>"
            ]
          },
          "metadata": {},
          "output_type": "display_data"
        }
      ],
      "source": [
        "import seaborn\n",
        "import pandas as pd\n",
        "print('Confusion Matrix')\n",
        "y_predicted = model.predict(X_test)\n",
        "print(\"Threshold\",(min(y_predicted)+max(y_predicted))/2)\n",
        "y_predicted_labels = y_predicted > 0.5\n",
        "size = np.size(y_predicted_labels)\n",
        "y_predicted_labels = y_predicted_labels.reshape(size, )\n",
        "\n",
        "cm = tf.math.confusion_matrix(y_test,y_predicted_labels)\n",
        "cm_np = cm.numpy()\n",
        "conf_acc = ((cm_np[0, 0] + cm_np[1, 1])/ np.sum(cm_np)) * 100\n",
        "print(\"Accuracy for Test Data = \", conf_acc)\n",
        "plt.figure(figsize = (10,7))\n",
        "seaborn.heatmap(cm, annot=True, fmt='d')\n",
        "plt.title(\"Confusion Matrix for Test Data\")\n",
        "plt.xlabel('Predicted')\n",
        "plt.ylabel('Expected')"
      ]
    },
    {
      "cell_type": "code",
      "execution_count": 175,
      "metadata": {},
      "outputs": [
        {
          "name": "stdout",
          "output_type": "stream",
          "text": [
            "Classification Report:\n",
            "               precision    recall  f1-score   support\n",
            "\n",
            "           0       1.00      0.79      0.89      4833\n",
            "           1       0.82      1.00      0.90      4640\n",
            "\n",
            "    accuracy                           0.89      9473\n",
            "   macro avg       0.91      0.90      0.89      9473\n",
            "weighted avg       0.91      0.89      0.89      9473\n",
            "\n",
            "Accuracy Score: 89.48590731552835\n"
          ]
        }
      ],
      "source": [
        "from sklearn.metrics import classification_report,accuracy_score\n",
        "report = classification_report(y_test,y_predicted_labels)\n",
        "print(\"Classification Report:\\n\", report)\n",
        "print(\"Accuracy Score:\", accuracy_score(y_test,y_predicted_labels)*100)"
      ]
    },
    {
      "cell_type": "markdown",
      "metadata": {
        "id": "plgECuQc9wdt"
      },
      "source": [
        "## Sample Example"
      ]
    },
    {
      "cell_type": "code",
      "execution_count": 180,
      "metadata": {
        "colab": {
          "base_uri": "https://localhost:8080/"
        },
        "id": "Kyfb-NtpNV7h",
        "outputId": "05c0b5d9-457a-48eb-d1d9-414adf34007c"
      },
      "outputs": [
        {
          "name": "stdout",
          "output_type": "stream",
          "text": [
            "1/1 [==============================] - 0s 159ms/step\n",
            "hi im Lasya Non-sensitive\n",
            "1/1 [==============================] - 0s 186ms/step\n",
            "mobile number is 1234567890 Sensitive\n",
            "1/1 [==============================] - 0s 110ms/step\n",
            "my email id is krishna@gmail.com Sensitive\n",
            "1/1 [==============================] - 0s 86ms/step\n",
            "7789 6543 1234 Non-sensitive\n",
            "1/1 [==============================] - 0s 178ms/step\n",
            "I would like to have a cup of coffee in the morning Sensitive\n",
            "1/1 [==============================] - 0s 77ms/step\n",
            "Sastra University Thanjavur Non-sensitive\n"
          ]
        }
      ],
      "source": [
        "test = ['hi im Lasya', 'mobile number is 1234567890', 'my email id is krishna@gmail.com','7789 6543 1234','I would like to have a cup of coffee in the morning','Sastra University Thanjavur']\n",
        "sensitive=[]\n",
        "nonsensitive=[]\n",
        "for i in test:\n",
        "    seq = tokenizer.texts_to_sequences([i])\n",
        "    pad = pad_sequences(seq, maxlen=20, padding='post')\n",
        "    pred = model.predict(pad)\n",
        "    if pred > 0.5:\n",
        "        sensitive.append(i)\n",
        "        print(i, 'Sensitive')\n",
        "    else:\n",
        "        nonsensitive.append(i)\n",
        "        print(i, 'Non-sensitive')"
      ]
    },
    {
      "cell_type": "code",
      "execution_count": 21,
      "metadata": {},
      "outputs": [],
      "source": [
        "df=pd.DataFrame(sensitive)"
      ]
    },
    {
      "cell_type": "code",
      "execution_count": 47,
      "metadata": {},
      "outputs": [
        {
          "name": "stdout",
          "output_type": "stream",
          "text": [
            "Data Encrypted and Saved\n",
            "Data Decrypted and Saved\n"
          ]
        },
        {
          "name": "stderr",
          "output_type": "stream",
          "text": [
            "c:\\Users\\LAKSHMI SRI LASYA\\AppData\\Local\\Programs\\Python\\Python311\\Lib\\site-packages\\keras\\src\\engine\\training.py:3103: UserWarning: You are saving your model as an HDF5 file via `model.save()`. This file format is considered legacy. We recommend using instead the native Keras format, e.g. `model.save('my_model.keras')`.\n",
            "  saving_api.save_model(\n"
          ]
        },
        {
          "name": "stdout",
          "output_type": "stream",
          "text": [
            "Model Saved\n"
          ]
        }
      ],
      "source": [
        "from cryptography.fernet import Fernet  \n",
        "df_sen = df\n",
        "df_sen.to_csv('blood-banks.csv',index=False)\n",
        "df_sen = pd.read_csv('blood-banks.csv')\n",
        "# Generate a key\n",
        "key = Fernet.generate_key()\n",
        "# Save the key to a file\n",
        "with open(\"key.key\", \"wb\") as key_file:\n",
        "    key_file.write(key)\n",
        "# Load the key from the file\n",
        "with open(\"key.key\", \"rb\") as key_file:\n",
        "    key = key_file.read()\n",
        "# Create a cipher suite\n",
        "cipher_suite = Fernet(key)\n",
        "# Encrypt the data\n",
        "cipher_text = cipher_suite.encrypt(df_sen.to_csv().encode())\n",
        "# Save the encrypted data to a file\n",
        "with open(\"new.csv.encrypted\", \"wb\") as file:  \n",
        "    file.write(cipher_text)\n",
        "print(\"Data Encrypted and Saved\")\n",
        "# Load the encrypted data from the file\n",
        "with open(\"new.csv.encrypted\", \"rb\") as file:\n",
        "    cipher_text = file.read()\n",
        "# Decrypt the data\n",
        "plain_text = cipher_suite.decrypt(cipher_text)\n",
        "# Save the decrypted data to a file\n",
        "with open(\"new.csv.decrypted\", \"wb\") as file:\n",
        "    file.write(plain_text)\n",
        "print(\"Data Decrypted and Saved\")\n",
        "# Save the model\n",
        "model.save(\"model.h5\")\n",
        "print(\"Model Saved\")"
      ]
    },
    {
      "cell_type": "code",
      "execution_count": 23,
      "metadata": {},
      "outputs": [
        {
          "name": "stdout",
          "output_type": "stream",
          "text": [
            "1/1 [==============================] - 0s 160ms/step\n",
            "[[9.9996805e-01]\n",
            " [7.2507675e-07]\n",
            " [9.9719614e-01]\n",
            " [4.7900808e-06]\n",
            " [6.9464035e-03]\n",
            " [3.2631056e-09]\n",
            " [6.3181359e-01]\n",
            " [7.9256975e-15]\n",
            " [9.9028814e-01]\n",
            " [9.7337312e-01]\n",
            " [9.9995404e-01]\n",
            " [9.9462533e-01]\n",
            " [3.0298886e-05]\n",
            " [8.4868876e-09]\n",
            " [4.6167708e-05]\n",
            " [4.9516521e-20]\n",
            " [6.6965491e-05]\n",
            " [1.2096444e-08]\n",
            " [9.8922360e-01]\n",
            " [5.0110610e-13]\n",
            " [6.4757252e-05]\n",
            " [2.7347518e-11]\n",
            " [2.3039658e-01]\n",
            " [1.6354246e-06]\n",
            " [9.5620278e-10]\n",
            " [9.2300525e-06]\n",
            " [9.2216420e-01]]\n",
            "0.99996805\n",
            "Sensitive - Sr No\n",
            "7.2507675e-07\n",
            "Non-Sensitive -  Blood Bank Name\n",
            "0.99719614\n",
            "Sensitive -  State\n",
            "4.7900808e-06\n",
            "Non-Sensitive -  District\n",
            "0.0069464035\n",
            "Non-Sensitive -  City\n",
            "3.2631056e-09\n",
            "Non-Sensitive -  Address\n",
            "0.6318136\n",
            "Sensitive - Pincode\n",
            "7.9256975e-15\n",
            "Non-Sensitive -  Contact No\n",
            "0.99028814\n",
            "Sensitive -  Mobile\n",
            "0.9733731\n",
            "Sensitive -  Helpline\n",
            "0.99995404\n",
            "Sensitive -  Fax\n",
            "0.99462533\n",
            "Sensitive -  Email\n",
            "3.0298886e-05\n",
            "Non-Sensitive -  Website\n",
            "8.486888e-09\n",
            "Non-Sensitive -  Nodal Officer \n",
            "4.616771e-05\n",
            "Non-Sensitive -  Contact Nodal Officer\n",
            "4.951652e-20\n",
            "Non-Sensitive -  Mobile Nodal Officer\n",
            "6.696549e-05\n",
            "Non-Sensitive -  Email Nodal Officer\n",
            "1.2096444e-08\n",
            "Non-Sensitive -  Qualification Nodal Officer\n",
            "0.9892236\n",
            "Sensitive -  Category\n",
            "5.011061e-13\n",
            "Non-Sensitive -  Blood Component Available\n",
            "6.475725e-05\n",
            "Non-Sensitive -  Apheresis\n",
            "2.7347518e-11\n",
            "Non-Sensitive -  Service Time\n",
            "0.23039658\n",
            "Non-Sensitive -  License #\n",
            "1.6354246e-06\n",
            "Non-Sensitive -  Date License Obtained\n",
            "9.562028e-10\n",
            "Non-Sensitive -  Date of Renewal\n",
            "9.2300525e-06\n",
            "Non-Sensitive -  Latitude\n",
            "0.9221642\n",
            "Sensitive -  Longitude\n"
          ]
        }
      ],
      "source": [
        "import pandas as pd\n",
        "from nltk.tokenize import word_tokenize\n",
        "import numpy as np\n",
        "def process_csv(file_path):\n",
        "    df = pd.read_csv(file_path, encoding='latin1')  # Specify the encoding parameter\n",
        "    feature_names = df.columns.tolist()\n",
        "    return feature_names\n",
        "def process_txt(file_path):\n",
        "    with open(file_path, 'r', encoding='latin1') as file:  # Specify the encoding parameter\n",
        "        text = file.read()\n",
        "    tokens = word_tokenize(text)\n",
        "    return tokens\n",
        "def process_file(file_path):\n",
        "    if file_path.endswith('.csv'):\n",
        "        feature_names = process_csv(file_path)\n",
        "        return feature_names\n",
        "    elif file_path.endswith('.txt'):\n",
        "        tokens = process_txt(file_path)\n",
        "        return tokens\n",
        "    elif file_path.endswith('.json'):\n",
        "        # Add your code to process JSON files here\n",
        "        pass\n",
        "    else:\n",
        "        print(\"Unsupported file format.\")\n",
        "# Get the file path from the user\n",
        "file_path = input(\"Enter the path of the file: \")\n",
        "# Process the file\n",
        "features = process_file(file_path)\n",
        "data_array = np.array(features)\n",
        "\n",
        "data_input = data_array.reshape(1, -1)\n",
        "\n",
        "from keras.preprocessing.text import Tokenizer\n",
        "from keras.preprocessing.sequence import pad_sequences\n",
        "\n",
        "# Tokenization\n",
        "tokenizer = Tokenizer()\n",
        "tokenizer.fit_on_texts(features)\n",
        "\n",
        "# Encoding\n",
        "sequences = tokenizer.texts_to_sequences(features)\n",
        "\n",
        "# Find the length of the longest sequence\n",
        "max_length = max(len(sequence) for sequence in sequences)\n",
        "\n",
        "data_input = pad_sequences(sequences, maxlen=max_length)\n",
        "\n",
        "# Make predictions using the model\n",
        "preds = model.predict(data_input)\n",
        "\n",
        "# Print the predictions\n",
        "print(preds)\n",
        "\n",
        "for i in range(len(preds)):\n",
        "  print(preds[i][0])\n",
        "  if preds[i][0]>0.5:\n",
        "    print(\"Sensitive - \"+ features[i])\n",
        "  else:\n",
        "    print(\"Non-Sensitive - \" + features[i] )"
      ]
    },
    {
      "cell_type": "markdown",
      "metadata": {},
      "source": [
        "Healthcare dataset"
      ]
    },
    {
      "cell_type": "code",
      "execution_count": 24,
      "metadata": {},
      "outputs": [
        {
          "data": {
            "text/html": [
              "<div>\n",
              "<style scoped>\n",
              "    .dataframe tbody tr th:only-of-type {\n",
              "        vertical-align: middle;\n",
              "    }\n",
              "\n",
              "    .dataframe tbody tr th {\n",
              "        vertical-align: top;\n",
              "    }\n",
              "\n",
              "    .dataframe thead th {\n",
              "        text-align: right;\n",
              "    }\n",
              "</style>\n",
              "<table border=\"1\" class=\"dataframe\">\n",
              "  <thead>\n",
              "    <tr style=\"text-align: right;\">\n",
              "      <th></th>\n",
              "      <th>Name</th>\n",
              "      <th>Age</th>\n",
              "      <th>Gender</th>\n",
              "      <th>Blood Type</th>\n",
              "      <th>Medical Condition</th>\n",
              "      <th>Date of Admission</th>\n",
              "      <th>Doctor</th>\n",
              "      <th>Hospital</th>\n",
              "      <th>Insurance Provider</th>\n",
              "      <th>Billing Amount</th>\n",
              "      <th>Room Number</th>\n",
              "      <th>Admission Type</th>\n",
              "      <th>Discharge Date</th>\n",
              "      <th>Medication</th>\n",
              "      <th>Test Results</th>\n",
              "    </tr>\n",
              "  </thead>\n",
              "  <tbody>\n",
              "    <tr>\n",
              "      <th>0</th>\n",
              "      <td>Tiffany Ramirez</td>\n",
              "      <td>81</td>\n",
              "      <td>Female</td>\n",
              "      <td>O-</td>\n",
              "      <td>Diabetes</td>\n",
              "      <td>2022-11-17</td>\n",
              "      <td>Patrick Parker</td>\n",
              "      <td>Wallace-Hamilton</td>\n",
              "      <td>Medicare</td>\n",
              "      <td>37490.983364</td>\n",
              "      <td>146</td>\n",
              "      <td>Elective</td>\n",
              "      <td>2022-12-01</td>\n",
              "      <td>Aspirin</td>\n",
              "      <td>Inconclusive</td>\n",
              "    </tr>\n",
              "    <tr>\n",
              "      <th>1</th>\n",
              "      <td>Ruben Burns</td>\n",
              "      <td>35</td>\n",
              "      <td>Male</td>\n",
              "      <td>O+</td>\n",
              "      <td>Asthma</td>\n",
              "      <td>2023-06-01</td>\n",
              "      <td>Diane Jackson</td>\n",
              "      <td>Burke, Griffin and Cooper</td>\n",
              "      <td>UnitedHealthcare</td>\n",
              "      <td>47304.064845</td>\n",
              "      <td>404</td>\n",
              "      <td>Emergency</td>\n",
              "      <td>2023-06-15</td>\n",
              "      <td>Lipitor</td>\n",
              "      <td>Normal</td>\n",
              "    </tr>\n",
              "    <tr>\n",
              "      <th>2</th>\n",
              "      <td>Chad Byrd</td>\n",
              "      <td>61</td>\n",
              "      <td>Male</td>\n",
              "      <td>B-</td>\n",
              "      <td>Obesity</td>\n",
              "      <td>2019-01-09</td>\n",
              "      <td>Paul Baker</td>\n",
              "      <td>Walton LLC</td>\n",
              "      <td>Medicare</td>\n",
              "      <td>36874.896997</td>\n",
              "      <td>292</td>\n",
              "      <td>Emergency</td>\n",
              "      <td>2019-02-08</td>\n",
              "      <td>Lipitor</td>\n",
              "      <td>Normal</td>\n",
              "    </tr>\n",
              "    <tr>\n",
              "      <th>3</th>\n",
              "      <td>Antonio Frederick</td>\n",
              "      <td>49</td>\n",
              "      <td>Male</td>\n",
              "      <td>B-</td>\n",
              "      <td>Asthma</td>\n",
              "      <td>2020-05-02</td>\n",
              "      <td>Brian Chandler</td>\n",
              "      <td>Garcia Ltd</td>\n",
              "      <td>Medicare</td>\n",
              "      <td>23303.322092</td>\n",
              "      <td>480</td>\n",
              "      <td>Urgent</td>\n",
              "      <td>2020-05-03</td>\n",
              "      <td>Penicillin</td>\n",
              "      <td>Abnormal</td>\n",
              "    </tr>\n",
              "    <tr>\n",
              "      <th>4</th>\n",
              "      <td>Mrs. Brandy Flowers</td>\n",
              "      <td>51</td>\n",
              "      <td>Male</td>\n",
              "      <td>O-</td>\n",
              "      <td>Arthritis</td>\n",
              "      <td>2021-07-09</td>\n",
              "      <td>Dustin Griffin</td>\n",
              "      <td>Jones, Brown and Murray</td>\n",
              "      <td>UnitedHealthcare</td>\n",
              "      <td>18086.344184</td>\n",
              "      <td>477</td>\n",
              "      <td>Urgent</td>\n",
              "      <td>2021-08-02</td>\n",
              "      <td>Paracetamol</td>\n",
              "      <td>Normal</td>\n",
              "    </tr>\n",
              "  </tbody>\n",
              "</table>\n",
              "</div>"
            ],
            "text/plain": [
              "                  Name  Age  Gender Blood Type Medical Condition  \\\n",
              "0      Tiffany Ramirez   81  Female         O-          Diabetes   \n",
              "1          Ruben Burns   35    Male         O+            Asthma   \n",
              "2            Chad Byrd   61    Male         B-           Obesity   \n",
              "3    Antonio Frederick   49    Male         B-            Asthma   \n",
              "4  Mrs. Brandy Flowers   51    Male         O-         Arthritis   \n",
              "\n",
              "  Date of Admission          Doctor                   Hospital  \\\n",
              "0        2022-11-17  Patrick Parker           Wallace-Hamilton   \n",
              "1        2023-06-01   Diane Jackson  Burke, Griffin and Cooper   \n",
              "2        2019-01-09      Paul Baker                 Walton LLC   \n",
              "3        2020-05-02  Brian Chandler                 Garcia Ltd   \n",
              "4        2021-07-09  Dustin Griffin    Jones, Brown and Murray   \n",
              "\n",
              "  Insurance Provider  Billing Amount  Room Number Admission Type  \\\n",
              "0           Medicare    37490.983364          146       Elective   \n",
              "1   UnitedHealthcare    47304.064845          404      Emergency   \n",
              "2           Medicare    36874.896997          292      Emergency   \n",
              "3           Medicare    23303.322092          480         Urgent   \n",
              "4   UnitedHealthcare    18086.344184          477         Urgent   \n",
              "\n",
              "  Discharge Date   Medication  Test Results  \n",
              "0     2022-12-01      Aspirin  Inconclusive  \n",
              "1     2023-06-15      Lipitor        Normal  \n",
              "2     2019-02-08      Lipitor        Normal  \n",
              "3     2020-05-03   Penicillin      Abnormal  \n",
              "4     2021-08-02  Paracetamol        Normal  "
            ]
          },
          "execution_count": 24,
          "metadata": {},
          "output_type": "execute_result"
        }
      ],
      "source": [
        "df=pd.read_csv('healthcare_dataset.csv')\n",
        "df.head()"
      ]
    },
    {
      "cell_type": "code",
      "execution_count": 25,
      "metadata": {},
      "outputs": [
        {
          "data": {
            "text/plain": [
              "Index(['Name', 'Age', 'Gender', 'Blood Type', 'Medical Condition',\n",
              "       'Date of Admission', 'Doctor', 'Hospital', 'Insurance Provider',\n",
              "       'Billing Amount', 'Room Number', 'Admission Type', 'Discharge Date',\n",
              "       'Medication', 'Test Results'],\n",
              "      dtype='object')"
            ]
          },
          "execution_count": 25,
          "metadata": {},
          "output_type": "execute_result"
        }
      ],
      "source": [
        "# make name,age,medical condition,doctor,hospital,medication,test results as sensitive\n",
        "# make remaining as non-sensitive\n",
        "df.columns"
      ]
    },
    {
      "cell_type": "code",
      "execution_count": 26,
      "metadata": {},
      "outputs": [],
      "source": [
        "import pandas as pd\n",
        "import json\n",
        "\n",
        "# Assuming df is your DataFrame\n",
        "sensitive_columns = ['Name', 'Age', 'Medical Condition', 'Doctor', 'Hospital', 'Medication', 'Test Results','Billing Amount']\n",
        "\n",
        "json_list = []\n",
        "\n",
        "for _, row in df.iterrows():\n",
        "    data_str = ', '.join(f'{column}:{row[column]}' for column in sensitive_columns)\n",
        "    json_list.append({\"is_sensitive\": 1, \"data\": data_str})\n",
        "\n",
        "# Save to JSON file\n",
        "with open('data.json', 'w') as f:\n",
        "    json.dump(json_list, f)"
      ]
    },
    {
      "cell_type": "code",
      "execution_count": 27,
      "metadata": {},
      "outputs": [],
      "source": [
        "non_sensitive_columns = [col for col in df.columns if col not in sensitive_columns]\n",
        "\n",
        "json_list = []\n",
        "\n",
        "for _, row in df.iterrows():\n",
        "    data_str = ', '.join(f'{column}:{row[column]}' for column in non_sensitive_columns)\n",
        "    json_list.append({\"is_sensitive\": 0, \"data\": data_str})\n",
        "\n",
        "# Save to JSON file\n",
        "with open('non_sensitive_data.json', 'w') as f:\n",
        "    json.dump(json_list, f)"
      ]
    },
    {
      "cell_type": "code",
      "execution_count": 28,
      "metadata": {},
      "outputs": [],
      "source": [
        "import json\n",
        "dataList = []\n",
        "sentences = []\n",
        "labels = []\n",
        "def loadDataset(filename):\n",
        "  d=[]\n",
        "  with open(filename, 'r') as f:\n",
        "      datastore = json.load(f)\n",
        "  for item in datastore:\n",
        "    sentence = item['data']\n",
        "    label = item['is_sensitive']\n",
        "    d.append([sentence,label])\n",
        "  return d\n",
        "# Loading both sensitive and non-sensitive dataset\n",
        "sen=loadDataset(\"SensitiveDataset.json\")\n",
        "nonsen=loadDataset(\"NonSensitiveDatasetnew.json\")\n",
        "sen=pd.DataFrame(data=sen,columns=['sentences','labels'])\n",
        "nonsen=pd.DataFrame(data=nonsen,columns=['sentences','labels'])"
      ]
    },
    {
      "cell_type": "code",
      "execution_count": 29,
      "metadata": {},
      "outputs": [
        {
          "data": {
            "text/html": [
              "<div>\n",
              "<style scoped>\n",
              "    .dataframe tbody tr th:only-of-type {\n",
              "        vertical-align: middle;\n",
              "    }\n",
              "\n",
              "    .dataframe tbody tr th {\n",
              "        vertical-align: top;\n",
              "    }\n",
              "\n",
              "    .dataframe thead th {\n",
              "        text-align: right;\n",
              "    }\n",
              "</style>\n",
              "<table border=\"1\" class=\"dataframe\">\n",
              "  <thead>\n",
              "    <tr style=\"text-align: right;\">\n",
              "      <th></th>\n",
              "      <th>sentences</th>\n",
              "      <th>labels</th>\n",
              "    </tr>\n",
              "  </thead>\n",
              "  <tbody>\n",
              "    <tr>\n",
              "      <th>0</th>\n",
              "      <td>card no:7009 8542 8779 9343, expiry month:jun-...</td>\n",
              "      <td>1</td>\n",
              "    </tr>\n",
              "    <tr>\n",
              "      <th>1</th>\n",
              "      <td>Doug Kinney (Michael Keaton) is a Los Angeles ...</td>\n",
              "      <td>0</td>\n",
              "    </tr>\n",
              "    <tr>\n",
              "      <th>2</th>\n",
              "      <td>melisse,   coleen,    melisse@planet.nl,  876...</td>\n",
              "      <td>1</td>\n",
              "    </tr>\n",
              "    <tr>\n",
              "      <th>3</th>\n",
              "      <td>When a renegade Japanese gang known as the Kat...</td>\n",
              "      <td>0</td>\n",
              "    </tr>\n",
              "    <tr>\n",
              "      <th>4</th>\n",
              "      <td>In 1922, Joe O'Reilly attempts to console Kitt...</td>\n",
              "      <td>0</td>\n",
              "    </tr>\n",
              "  </tbody>\n",
              "</table>\n",
              "</div>"
            ],
            "text/plain": [
              "                                           sentences  labels\n",
              "0  card no:7009 8542 8779 9343, expiry month:jun-...       1\n",
              "1  Doug Kinney (Michael Keaton) is a Los Angeles ...       0\n",
              "2   melisse,   coleen,    melisse@planet.nl,  876...       1\n",
              "3  When a renegade Japanese gang known as the Kat...       0\n",
              "4  In 1922, Joe O'Reilly attempts to console Kitt...       0"
            ]
          },
          "execution_count": 29,
          "metadata": {},
          "output_type": "execute_result"
        }
      ],
      "source": [
        "combined = pd.concat([sen, nonsen])\n",
        "df = combined.sample(frac=1).reset_index(drop=True)\n",
        "df.head()"
      ]
    },
    {
      "cell_type": "code",
      "execution_count": 30,
      "metadata": {},
      "outputs": [],
      "source": [
        "tokenized_data = [word_tokenize(sentence) for sentence in df['sentences']]\n",
        "stop_words = set(stopwords.words('english'))\n",
        "punctuations = list(string.punctuation)\n",
        "punctuations.remove('@')\n",
        "stop_words.update(punctuations)\n",
        "stemmer = PorterStemmer()\n",
        "filtered_data = [[stemmer.stem(word) for word in sentence if word.lower() not in stop_words] for sentence in tokenized_data]\n",
        "l=[]\n",
        "for idx, sentence in enumerate(filtered_data):\n",
        "    l.append(' '.join(sentence))\n",
        "df['sentences'] = l"
      ]
    },
    {
      "cell_type": "code",
      "execution_count": 31,
      "metadata": {},
      "outputs": [
        {
          "data": {
            "text/html": [
              "<div>\n",
              "<style scoped>\n",
              "    .dataframe tbody tr th:only-of-type {\n",
              "        vertical-align: middle;\n",
              "    }\n",
              "\n",
              "    .dataframe tbody tr th {\n",
              "        vertical-align: top;\n",
              "    }\n",
              "\n",
              "    .dataframe thead th {\n",
              "        text-align: right;\n",
              "    }\n",
              "</style>\n",
              "<table border=\"1\" class=\"dataframe\">\n",
              "  <thead>\n",
              "    <tr style=\"text-align: right;\">\n",
              "      <th></th>\n",
              "      <th>sentences</th>\n",
              "      <th>labels</th>\n",
              "    </tr>\n",
              "  </thead>\n",
              "  <tbody>\n",
              "    <tr>\n",
              "      <th>0</th>\n",
              "      <td>card no:7009 8542 8779 9343 expiri month jun-2...</td>\n",
              "      <td>1</td>\n",
              "    </tr>\n",
              "    <tr>\n",
              "      <th>1</th>\n",
              "      <td>doug kinney michael keaton lo angel construct ...</td>\n",
              "      <td>0</td>\n",
              "    </tr>\n",
              "    <tr>\n",
              "      <th>2</th>\n",
              "      <td>meliss coleen meliss @ planet.nl 8763853605</td>\n",
              "      <td>1</td>\n",
              "    </tr>\n",
              "    <tr>\n",
              "      <th>3</th>\n",
              "      <td>renegad japanes gang known katana take control...</td>\n",
              "      <td>0</td>\n",
              "    </tr>\n",
              "    <tr>\n",
              "      <th>4</th>\n",
              "      <td>1922 joe o'reilli attempt consol kitti kiernan...</td>\n",
              "      <td>0</td>\n",
              "    </tr>\n",
              "  </tbody>\n",
              "</table>\n",
              "</div>"
            ],
            "text/plain": [
              "                                           sentences  labels\n",
              "0  card no:7009 8542 8779 9343 expiri month jun-2...       1\n",
              "1  doug kinney michael keaton lo angel construct ...       0\n",
              "2        meliss coleen meliss @ planet.nl 8763853605       1\n",
              "3  renegad japanes gang known katana take control...       0\n",
              "4  1922 joe o'reilli attempt consol kitti kiernan...       0"
            ]
          },
          "execution_count": 31,
          "metadata": {},
          "output_type": "execute_result"
        }
      ],
      "source": [
        "df.head() "
      ]
    },
    {
      "cell_type": "code",
      "execution_count": 32,
      "metadata": {},
      "outputs": [
        {
          "name": "stdout",
          "output_type": "stream",
          "text": [
            "(25261, 2) (6315, 2)\n"
          ]
        }
      ],
      "source": [
        "df_train = df.sample(frac=.8, random_state=11)\n",
        "df_test = df.drop(df_train.index)\n",
        "print(df_train.shape, df_test.shape)"
      ]
    },
    {
      "cell_type": "code",
      "execution_count": 33,
      "metadata": {},
      "outputs": [
        {
          "data": {
            "text/plain": [
              "(6315,)"
            ]
          },
          "execution_count": 33,
          "metadata": {},
          "output_type": "execute_result"
        }
      ],
      "source": [
        "y_train = df_train['labels'].values\n",
        "y_test = df_test['labels'].values\n",
        "y_test.shape"
      ]
    },
    {
      "cell_type": "code",
      "execution_count": 34,
      "metadata": {},
      "outputs": [],
      "source": [
        "X_train = df_train['sentences'].values\n",
        "X_test = df_test['sentences'].values"
      ]
    },
    {
      "cell_type": "code",
      "execution_count": 35,
      "metadata": {},
      "outputs": [
        {
          "name": "stdout",
          "output_type": "stream",
          "text": [
            "25261 10115\n"
          ]
        }
      ],
      "source": [
        "source=len(X_train)\n",
        "max_len= max(len(seq) for seq in X_train)\n",
        "print(source,max_len)"
      ]
    },
    {
      "cell_type": "code",
      "execution_count": 36,
      "metadata": {},
      "outputs": [],
      "source": [
        "tokenizer = Tokenizer(oov_token='<OOV>')\n",
        "tokenizer.fit_on_texts(X_train)\n",
        "word_dict = tokenizer.index_word"
      ]
    },
    {
      "cell_type": "code",
      "execution_count": 37,
      "metadata": {},
      "outputs": [
        {
          "name": "stdout",
          "output_type": "stream",
          "text": [
            "[[35494, 47337, 35494, 4893, 156, 47338], [102, 940, 55, 9, 149, 2807, 2688, 2393, 300, 707, 23684, 270, 3880, 652, 96, 3043, 1777, 558, 20007, 5502, 1207, 288, 151, 25, 5179, 6917, 343, 16769, 2758, 93, 825, 23, 3043, 1402, 23684, 20007, 1339, 16769, 20, 103, 8, 86, 2732, 24, 217, 1455, 172, 599, 447, 262, 16769, 1621, 8329, 20007, 199, 1954, 509, 3642, 1516, 49, 325, 297, 5827, 1223, 23684, 1585, 44, 6509, 1005, 2393, 8168, 75, 1198, 2612, 599, 16769, 48, 11, 491, 1224, 17, 167, 124, 246, 120, 151, 838, 3662, 33, 212, 212, 66, 26, 5776, 38, 217, 2286, 3077, 23684, 20007, 33, 75, 26, 155, 16769, 11, 350, 142], [175, 10, 15249, 15250, 13, 2, 10, 15250, 104, 182, 2389, 807, 4684, 747, 166, 35495, 35496, 47339], [804, 51, 5055, 1343, 17693, 403, 10311, 762, 180, 47, 155, 3548, 1523, 17, 84, 7392, 16, 20008, 51, 87, 543, 1343, 176, 61, 1418, 11, 3739, 100, 745, 569, 11, 1343, 121, 543, 833, 84, 255, 501, 15251, 500, 1076, 4607, 550, 1343, 30, 452, 6423, 543, 8, 5410, 1343, 6, 84, 5136, 1592, 1385, 981, 8501, 5095, 472, 368, 18, 1151, 509, 662, 543, 176, 1532, 380, 2864, 41, 1343, 255, 176, 12, 64, 543, 697, 1532, 16770, 768, 146, 718, 4894, 9820, 1162, 1151, 12, 22, 543, 380, 2864, 1013, 1606, 2104, 16771, 8169, 509, 2759, 1521, 2048, 3470, 1343, 255, 15, 6, 543, 12, 1592, 3095, 782, 601, 1343, 176, 1629, 300, 513, 20009, 2430, 1343, 30, 43, 8170, 1418, 14, 22, 43, 607, 1343, 1418, 143, 2049, 697, 1343, 176, 66, 5943, 64, 543, 12, 1524, 4607, 28, 6423, 543, 1431, 2822, 255, 842, 1715, 3078, 53, 57, 965, 255, 719, 3078, 4607, 965, 53, 298, 47340, 2048, 1954, 134, 2403, 12, 255, 47341, 393, 26, 543, 1013, 910, 176, 1606, 2104, 509, 8661, 2048, 44, 796, 255, 4607, 264, 543, 227, 1390, 543, 117, 450, 1343, 1418, 14, 22, 4, 17694, 20009, 301, 1396, 3912, 5136, 277, 4333, 68, 118, 1343, 485, 543, 5136, 28, 3801, 1343, 415, 955, 125, 31, 543, 118, 4054, 20009, 134, 543, 509, 113, 3381, 44, 2980, 93, 911, 1837, 469, 47, 792, 543, 955, 255, 4607, 1532, 172, 11152, 1982, 20009, 7, 2831, 372, 653, 973, 6224, 543, 1343, 247, 543, 412, 136, 4220, 393, 10311, 66, 15, 32, 380, 2864, 11464, 543, 3604, 1343, 422, 84, 6, 9047, 1816, 1464, 911, 1837, 543, 135, 44, 255, 4607, 1933, 62, 70, 1271, 588, 16772, 11153, 13034, 391, 172, 62, 292, 1982, 469, 1304, 3350, 450, 1661, 1052, 1685, 1037, 57, 124, 41, 169, 509, 113, 3381, 93, 431, 933, 754, 4608, 91, 6842, 3252, 20009, 28, 973, 98, 6224, 10876, 543, 287, 3252, 197, 112, 453, 3252, 1411, 1606, 666, 1418, 152, 1343, 9820, 3686, 543, 701, 20009, 2270, 84, 7, 543, 412, 136, 247, 26, 2105, 5095, 472, 29, 1343, 118, 5095, 472, 14, 543, 1418, 1524, 2759, 20009, 28, 45, 5599, 644, 1418, 1573, 212, 279, 214, 255, 4607, 50, 10311, 292, 62, 292, 543, 2, 1982, 2759, 5373, 398, 215, 1343, 1343, 2981, 84, 7, 319, 48, 36, 1105, 8171, 47342, 658, 193, 5095, 5704, 380, 2864, 1524, 2759], [228, 173, 849, 272, 7700, 374, 3502, 14577, 612, 2795, 1178, 23685, 658, 6150, 51, 87, 100, 2378, 3079, 3253, 547, 16773, 2040, 1307, 7194, 2378, 333, 206, 26, 277, 2156, 578, 4082, 1178, 5891, 17, 137, 88, 35497, 3628, 1063, 202, 380, 8502, 1126, 110, 409, 26237, 575, 3783, 814, 7700, 35497, 1881, 636, 1252, 1178, 47343, 1252, 2378, 84, 154, 5892, 609, 20, 2378, 1768, 678, 61, 742, 763, 503, 4504]]\n",
            "sentences    shafiq john12 shafiq @ me.com 9309006989\n",
            "labels                                              1\n",
            "Name: 30720, dtype: object\n",
            "shafiq john12 shafiq me com 9309006989 "
          ]
        }
      ],
      "source": [
        "X_train_seq = tokenizer.texts_to_sequences(X_train)\n",
        "X_test_seq = tokenizer.texts_to_sequences(X_test)\n",
        "print(X_train_seq[:5])\n",
        "print(df_train.iloc[0,:])\n",
        "for el in X_train_seq[0]:\n",
        "    print(word_dict[el], end=' ')"
      ]
    },
    {
      "cell_type": "code",
      "execution_count": 38,
      "metadata": {},
      "outputs": [
        {
          "data": {
            "text/plain": [
              "81753"
            ]
          },
          "execution_count": 38,
          "metadata": {},
          "output_type": "execute_result"
        }
      ],
      "source": [
        "X_train_pad = pad_sequences(X_train_seq, maxlen=20, padding='post')\n",
        "X_test_pad = pad_sequences(X_test_seq, maxlen=20, padding='post')\n",
        "X_train_pad[:5]\n",
        "X_train_pad.shape[0]\n",
        "#get max number in X_train_pad and X_test_pad\n",
        "max_num=max([max(seq) for seq in X_train_pad])\n",
        "max_num"
      ]
    },
    {
      "cell_type": "code",
      "execution_count": 39,
      "metadata": {},
      "outputs": [
        {
          "data": {
            "text/plain": [
              "(6315, 20)"
            ]
          },
          "execution_count": 39,
          "metadata": {},
          "output_type": "execute_result"
        }
      ],
      "source": [
        "X_test_pad.shape"
      ]
    },
    {
      "cell_type": "code",
      "execution_count": 40,
      "metadata": {},
      "outputs": [
        {
          "name": "stdout",
          "output_type": "stream",
          "text": [
            "Model: \"sequential_1\"\n",
            "_________________________________________________________________\n",
            " Layer (type)                Output Shape              Param #   \n",
            "=================================================================\n",
            " embedding_1 (Embedding)     (None, 20, 64)            5232256   \n",
            "                                                                 \n",
            " batch_normalization_3 (Bat  (None, 20, 64)            256       \n",
            " chNormalization)                                                \n",
            "                                                                 \n",
            " conv1d_1 (Conv1D)           (None, 18, 32)            6176      \n",
            "                                                                 \n",
            " dropout_2 (Dropout)         (None, 18, 32)            0         \n",
            "                                                                 \n",
            " batch_normalization_4 (Bat  (None, 18, 32)            128       \n",
            " chNormalization)                                                \n",
            "                                                                 \n",
            " global_average_pooling1d_1  (None, 32)                0         \n",
            "  (GlobalAveragePooling1D)                                       \n",
            "                                                                 \n",
            " batch_normalization_5 (Bat  (None, 32)                128       \n",
            " chNormalization)                                                \n",
            "                                                                 \n",
            " dense_2 (Dense)             (None, 16)                528       \n",
            "                                                                 \n",
            " dense_3 (Dense)             (None, 1)                 17        \n",
            "                                                                 \n",
            "=================================================================\n",
            "Total params: 5239489 (19.99 MB)\n",
            "Trainable params: 5239233 (19.99 MB)\n",
            "Non-trainable params: 256 (1.00 KB)\n",
            "_________________________________________________________________\n"
          ]
        }
      ],
      "source": [
        "DESIRED_ACCURACY = 0.99\n",
        "class myCallback(tf.keras.callbacks.Callback):\n",
        "  def on_epoch_end(self, epoch, logs={}):\n",
        "    if logs.get('accuracy') > DESIRED_ACCURACY:\n",
        "      print(\"Reached 99.9% accuracy so cancelling training!\")\n",
        "      self.model.stop_training = True\n",
        "callbacks = myCallback()\n",
        "early_stopping = EarlyStopping(monitor='val_loss', patience=5, restore_best_weights=True)\n",
        "# Sequential - defines a SEQUENCE of layers in the neural network.\n",
        "model = tf.keras.Sequential([\n",
        "    # Embedding - Turns positive integers (indexes) into dense vectors of fixed size (here embedding_dim = 32).\n",
        "    tf.keras.layers.Embedding(max_num+1,64, input_length=20),\n",
        "    # 1D convolution layer - filter size = 128, convolution window = 5, activation fn = ReLU\n",
        "    tf.keras.layers.BatchNormalization(),\n",
        "    tf.keras.layers.Conv1D(32, 3, activation='relu'),\n",
        "    tf.keras.layers.Dropout(0.2),\n",
        "    # Global average pooling operation (Flattening)\n",
        "    tf.keras.layers.BatchNormalization(),\n",
        "    tf.keras.layers.GlobalAveragePooling1D(),\n",
        "    # Regular densely-connected Neural Network layer with ReLU activation function.\n",
        "    tf.keras.layers.BatchNormalization(),\n",
        "    tf.keras.layers.Dense(16, activation='relu',kernel_regularizer=l2(0.01)),\n",
        "    #tf.keras.layers.Dropout(0.5),\n",
        "    # Regular densely-connected Neural Network layer with sigmoid activation function.\n",
        "    tf.keras.layers.Dense(1, activation='sigmoid')\n",
        "])\n",
        "# model.compile - Configures the model for training.\n",
        "model.compile(loss='binary_crossentropy',optimizer='adam',metrics=['accuracy'])\n",
        "model.summary()"
      ]
    },
    {
      "cell_type": "code",
      "execution_count": 41,
      "metadata": {},
      "outputs": [
        {
          "name": "stdout",
          "output_type": "stream",
          "text": [
            "Epoch 1/30\n",
            "790/790 [==============================] - 23s 27ms/step - loss: 0.0884 - accuracy: 0.9951 - val_loss: 0.0144 - val_accuracy: 0.9998\n",
            "Epoch 2/30\n",
            "790/790 [==============================] - 21s 26ms/step - loss: 0.0105 - accuracy: 0.9996 - val_loss: 0.0069 - val_accuracy: 0.9998\n",
            "Epoch 3/30\n",
            "790/790 [==============================] - 22s 27ms/step - loss: 0.0062 - accuracy: 0.9996 - val_loss: 0.0036 - val_accuracy: 1.0000\n",
            "Epoch 4/30\n",
            "790/790 [==============================] - 23s 29ms/step - loss: 0.0033 - accuracy: 0.9999 - val_loss: 0.0026 - val_accuracy: 1.0000\n",
            "Epoch 5/30\n",
            "790/790 [==============================] - 23s 29ms/step - loss: 0.0027 - accuracy: 0.9999 - val_loss: 0.0021 - val_accuracy: 1.0000\n",
            "Epoch 6/30\n",
            "790/790 [==============================] - 23s 29ms/step - loss: 0.0022 - accuracy: 0.9999 - val_loss: 0.0018 - val_accuracy: 1.0000\n",
            "Epoch 7/30\n",
            "790/790 [==============================] - 27s 34ms/step - loss: 0.0016 - accuracy: 1.0000 - val_loss: 0.0014 - val_accuracy: 1.0000\n",
            "Epoch 8/30\n",
            "790/790 [==============================] - 25s 32ms/step - loss: 0.0019 - accuracy: 0.9998 - val_loss: 0.0038 - val_accuracy: 0.9997\n",
            "Epoch 9/30\n",
            "790/790 [==============================] - 42s 53ms/step - loss: 0.0014 - accuracy: 1.0000 - val_loss: 0.0013 - val_accuracy: 0.9998\n",
            "Epoch 10/30\n",
            "790/790 [==============================] - 55s 69ms/step - loss: 0.0011 - accuracy: 0.9999 - val_loss: 0.0014 - val_accuracy: 1.0000\n",
            "Epoch 11/30\n",
            "790/790 [==============================] - 46s 59ms/step - loss: 9.4372e-04 - accuracy: 1.0000 - val_loss: 0.0015 - val_accuracy: 0.9995\n",
            "Epoch 12/30\n",
            "790/790 [==============================] - 60s 76ms/step - loss: 0.0019 - accuracy: 0.9998 - val_loss: 0.0022 - val_accuracy: 0.9997\n",
            "Epoch 13/30\n",
            "790/790 [==============================] - 45s 57ms/step - loss: 0.0013 - accuracy: 0.9999 - val_loss: 0.0014 - val_accuracy: 0.9998\n",
            "Epoch 14/30\n",
            "790/790 [==============================] - 22s 28ms/step - loss: 0.0017 - accuracy: 0.9997 - val_loss: 0.0070 - val_accuracy: 0.9981\n",
            "Epoch 15/30\n",
            "790/790 [==============================] - 22s 28ms/step - loss: 0.0013 - accuracy: 0.9998 - val_loss: 0.0012 - val_accuracy: 0.9998\n",
            "Epoch 16/30\n",
            "790/790 [==============================] - 37s 46ms/step - loss: 9.0324e-04 - accuracy: 1.0000 - val_loss: 0.0011 - val_accuracy: 0.9997\n",
            "Epoch 17/30\n",
            "790/790 [==============================] - 23s 29ms/step - loss: 0.0022 - accuracy: 0.9997 - val_loss: 0.0017 - val_accuracy: 0.9995\n",
            "Epoch 18/30\n",
            "790/790 [==============================] - 23s 30ms/step - loss: 0.0012 - accuracy: 0.9999 - val_loss: 9.7358e-04 - val_accuracy: 0.9998\n",
            "Epoch 19/30\n",
            "790/790 [==============================] - 25s 32ms/step - loss: 6.6415e-04 - accuracy: 1.0000 - val_loss: 0.0012 - val_accuracy: 0.9997\n",
            "Epoch 20/30\n",
            "790/790 [==============================] - 26s 32ms/step - loss: 0.0025 - accuracy: 0.9996 - val_loss: 0.0054 - val_accuracy: 0.9994\n",
            "Epoch 21/30\n",
            "790/790 [==============================] - 26s 33ms/step - loss: 0.0015 - accuracy: 0.9999 - val_loss: 0.0012 - val_accuracy: 0.9998\n",
            "Epoch 22/30\n",
            "790/790 [==============================] - 26s 33ms/step - loss: 7.4013e-04 - accuracy: 1.0000 - val_loss: 0.0013 - val_accuracy: 0.9998\n",
            "Epoch 23/30\n",
            "790/790 [==============================] - 26s 33ms/step - loss: 0.0020 - accuracy: 0.9996 - val_loss: 0.0020 - val_accuracy: 0.9998\n",
            "Epoch 24/30\n",
            "790/790 [==============================] - 48s 60ms/step - loss: 7.5381e-04 - accuracy: 1.0000 - val_loss: 0.0011 - val_accuracy: 0.9997\n",
            "Epoch 25/30\n",
            "790/790 [==============================] - 59s 75ms/step - loss: 7.1062e-04 - accuracy: 1.0000 - val_loss: 8.7982e-04 - val_accuracy: 0.9998\n",
            "Epoch 26/30\n",
            "790/790 [==============================] - 52s 65ms/step - loss: 8.5076e-04 - accuracy: 0.9999 - val_loss: 0.0021 - val_accuracy: 0.9998\n",
            "Epoch 27/30\n",
            "790/790 [==============================] - 50s 64ms/step - loss: 5.1499e-04 - accuracy: 1.0000 - val_loss: 0.0022 - val_accuracy: 0.9992\n",
            "Epoch 28/30\n",
            "790/790 [==============================] - 47s 60ms/step - loss: 7.1024e-04 - accuracy: 1.0000 - val_loss: 0.0027 - val_accuracy: 0.9995\n",
            "Epoch 29/30\n",
            "790/790 [==============================] - 22s 27ms/step - loss: 6.0734e-04 - accuracy: 1.0000 - val_loss: 0.0016 - val_accuracy: 0.9997\n",
            "Epoch 30/30\n",
            "790/790 [==============================] - 22s 28ms/step - loss: 4.8360e-04 - accuracy: 1.0000 - val_loss: 0.0019 - val_accuracy: 0.9997\n"
          ]
        }
      ],
      "source": [
        "# model.fit - Train the model for a fixed number of epochs\n",
        "history = model.fit(X_train_pad, \n",
        "                    y_train, \n",
        "                    epochs=30, \n",
        "                    validation_data=(\n",
        "                        X_test_pad,\n",
        "                        y_test), \n",
        "                    verbose=1,)\n",
        "               # callbacks=[callbacks])"
      ]
    },
    {
      "cell_type": "code",
      "execution_count": 42,
      "metadata": {},
      "outputs": [
        {
          "data": {
            "image/png": "[encoded data removed]",
            "text/plain": [
              "<Figure size 640x480 with 1 Axes>"
            ]
          },
          "metadata": {},
          "output_type": "display_data"
        },
        {
          "data": {
            "image/png": "[encoded data removed]",
            "text/plain": [
              "<Figure size 640x480 with 1 Axes>"
            ]
          },
          "metadata": {},
          "output_type": "display_data"
        }
      ],
      "source": [
        "import matplotlib.pyplot as plt\n",
        "\n",
        "# Plot the accuracy and loss functions\n",
        "def plot_graphs(history, string):\n",
        "  plt.plot(history.history[string])\n",
        "  plt.plot(history.history['val_'+string])\n",
        "  plt.xlabel(\"Epochs\")\n",
        "  plt.ylabel(string)\n",
        "  plt.legend([string, 'val_'+string])\n",
        "  plt.show()\n",
        "  \n",
        "plot_graphs(history, \"accuracy\")\n",
        "plot_graphs(history, \"loss\")"
      ]
    },
    {
      "cell_type": "code",
      "execution_count": 43,
      "metadata": {},
      "outputs": [
        {
          "name": "stdout",
          "output_type": "stream",
          "text": [
            "Confusion Matrix\n",
            "198/198 [==============================] - 1s 2ms/step\n",
            "Threshold [0.5]\n",
            "Accuracy for Test Data =  99.96832937450515\n"
          ]
        },
        {
          "data": {
            "text/plain": [
              "Text(95.72222222222221, 0.5, 'Expected')"
            ]
          },
          "execution_count": 43,
          "metadata": {},
          "output_type": "execute_result"
        },
        {
          "data": {
            "image/png": "[encoded data removed]",
            "text/plain": [
              "<Figure size 1000x700 with 2 Axes>"
            ]
          },
          "metadata": {},
          "output_type": "display_data"
        }
      ],
      "source": [
        "import seaborn\n",
        "import pandas as pd\n",
        "print('Confusion Matrix')\n",
        "y_predicted = model.predict(X_test_pad)\n",
        "print(\"Threshold\",(min(y_predicted)+max(y_predicted))/2)\n",
        "y_predicted_labels = y_predicted > 0.5\n",
        "#print(y_predicted_labels)\n",
        "size = np.size(y_predicted_labels)\n",
        "y_predicted_labels = y_predicted_labels.reshape(size, )\n",
        "cm = tf.math.confusion_matrix(y_test,y_predicted_labels)\n",
        "cm_np = cm.numpy()\n",
        "conf_acc = ((cm_np[0, 0] + cm_np[1, 1])/ np.sum(cm_np)) * 100\n",
        "print(\"Accuracy for Test Data = \", conf_acc)\n",
        "plt.figure(figsize = (10,7))\n",
        "seaborn.heatmap(cm, annot=True, fmt='d')\n",
        "plt.title(\"Confusion Matrix for Test Data\")\n",
        "plt.xlabel('Predicted')\n",
        "plt.ylabel('Expected')"
      ]
    }
  ],
  "metadata": {
    "colab": {
      "authorship_tag": "ABX9TyPpwlOM8VYJa7QabNcasu0S",
      "collapsed_sections": [],
      "include_colab_link": true,
      "name": "Text_Classification.ipynb",
      "provenance": []
    },
    "kernelspec": {
      "display_name": "Python 3",
      "name": "python3"
    },
    "language_info": {
      "codemirror_mode": {
        "name": "ipython",
        "version": 3
      },
      "file_extension": ".py",
      "mimetype": "text/x-python",
      "name": "python",
      "nbconvert_exporter": "python",
      "pygments_lexer": "ipython3",
      "version": "3.11.1"
    }
  },
  "nbformat": 4,
  "nbformat_minor": 0
}
